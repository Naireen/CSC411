{
 "cells": [
  {
   "cell_type": "code",
   "execution_count": 13,
   "metadata": {
    "collapsed": false
   },
   "outputs": [],
   "source": [
    "import pandas as pd\n",
    "import numpy as np\n",
    "from matplotlib import pyplot as plt\n",
    "import pickle\n",
    "from xgboost import XGBClassifier\n",
    "from sklearn import metrics"
   ]
  },
  {
   "cell_type": "code",
   "execution_count": 5,
   "metadata": {
    "collapsed": false
   },
   "outputs": [],
   "source": [
    "import os\n",
    "train_r = pickle.load(open(\"train_r.pkl\", \"rb\"))\n",
    "train_b = pickle.load(open(\"train_b.pkl\", \"rb\"))\n",
    "valid_r = pickle.load(open(\"test_r.pkl\", \"rb\"))\n",
    "valid_b = pickle.load(open(\"test_b.pkl\", \"rb\"))"
   ]
  },
  {
   "cell_type": "code",
   "execution_count": 6,
   "metadata": {
    "collapsed": true
   },
   "outputs": [],
   "source": [
    "#concatenate everythin appropriately to have the final datasets\n",
    "one_label = np.ones(len(train_r))\n",
    "zeros_label = np.zeros(len(train_b))\n",
    "one_test = np.ones(len(valid_r))\n",
    "zero_test = np.zeros(len(valid_b))\n",
    "\n",
    "trainX = np.concatenate((train_r, train_b))\n",
    "trainY = np.concatenate((one_label, zeros_label))\n",
    "validX = np.concatenate((valid_r, valid_b))\n",
    "validY  = np.concatenate((one_test, zero_test))"
   ]
  },
  {
   "cell_type": "code",
   "execution_count": 10,
   "metadata": {
    "collapsed": false
   },
   "outputs": [
    {
     "name": "stdout",
     "output_type": "stream",
     "text": [
      "4818\n"
     ]
    }
   ],
   "source": [
    "#gerenate feature vectors \n",
    "total_words = {}\n",
    "for line in trainX:\n",
    "    words = line.split(\" \")\n",
    "    for word in words:\n",
    "        if word == \"\":\n",
    "            continue\n",
    "        try:\n",
    "            total_words[word]\n",
    "        except:\n",
    "            total_words[word] = True\n",
    "\n",
    "print(len(total_words.keys()))\n",
    "#dont add words in valid and test sets"
   ]
  },
  {
   "cell_type": "code",
   "execution_count": 11,
   "metadata": {
    "collapsed": true
   },
   "outputs": [],
   "source": [
    "#create training feats\n",
    "\n",
    "#print(len(validX))\n",
    "unique_keys = list(total_words.keys())\n",
    "unique_keys.sort()\n",
    "#print(unique_keys[:10])\n",
    "#account for a bias\n",
    "train_feats = np.zeros((len(trainX), len(total_words.keys()) ))\n",
    "for i, line in enumerate(trainX):\n",
    "    words = line.split(\" \")\n",
    "    #print(words)\n",
    "    for word in words:\n",
    "        if word ==\"\":\n",
    "            continue\n",
    "        #print(unique_keys.index(word))\n",
    "        ind = unique_keys.index(word)  \n",
    "        #plus one is so that the very first is the bias (here a bias of zero)\n",
    "        train_feats[i][ind] = 1\n",
    "\n",
    "\n",
    "#create testing features\n",
    "valid_feats = np.zeros((len(validX), len(total_words.keys())))\n",
    "for i , line in enumerate(validX):\n",
    "    words = line.split(\" \")\n",
    "    #print(len(words), end = \" \")\n",
    "    #if i ==0:\n",
    "        #print(words)\n",
    "    #print(words)\n",
    "    for word in words:\n",
    "        if word ==\"\":\n",
    "            continue\n",
    "        #account for value error:\n",
    "        try:\n",
    "            ind = unique_keys.index(word) \n",
    "            #print(ind)\n",
    "            valid_feats[i][ind] = 1\n",
    "        except:\n",
    "            continue       \n",
    "#inds = np.where(valid_feats ==1)[1]\n",
    "#print(\"\\n\", inds[:34])"
   ]
  },
  {
   "cell_type": "code",
   "execution_count": 18,
   "metadata": {
    "collapsed": false
   },
   "outputs": [],
   "source": [
    "xgb = XGBClassifier(random_state=0, n_estimators=100, learning_rate=0.05, max_depth=20, n_jobs=-1)"
   ]
  },
  {
   "cell_type": "code",
   "execution_count": 19,
   "metadata": {
    "collapsed": false
   },
   "outputs": [
    {
     "name": "stdout",
     "output_type": "stream",
     "text": [
      "0.7963340122199593\n",
      "0.7801380077888479\n"
     ]
    },
    {
     "name": "stderr",
     "output_type": "stream",
     "text": [
      "/home/naireen/anaconda2/envs/CSC401/lib/python3.6/site-packages/sklearn/preprocessing/label.py:151: DeprecationWarning: The truth value of an empty array is ambiguous. Returning False, but in future this will result in an error. Use `array.size > 0` to check that an array is not empty.\n",
      "  if diff:\n"
     ]
    }
   ],
   "source": [
    "xgb.fit(train_feats, trainY)\n",
    "preds = xgb.predict(valid_feats)\n",
    "print(metrics.accuracy_score(validY, preds))\n",
    "print(metrics.average_precision_score(validY, preds))"
   ]
  },
  {
   "cell_type": "code",
   "execution_count": null,
   "metadata": {
    "collapsed": true
   },
   "outputs": [],
   "source": []
  }
 ],
 "metadata": {
  "kernelspec": {
   "display_name": "Python [conda env:CSC401]",
   "language": "python",
   "name": "conda-env-CSC401-py"
  },
  "language_info": {
   "codemirror_mode": {
    "name": "ipython",
    "version": 3
   },
   "file_extension": ".py",
   "mimetype": "text/x-python",
   "name": "python",
   "nbconvert_exporter": "python",
   "pygments_lexer": "ipython3",
   "version": "3.6.3"
  }
 },
 "nbformat": 4,
 "nbformat_minor": 1
}
