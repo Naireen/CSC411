{
 "cells": [
  {
   "cell_type": "code",
   "execution_count": 1,
   "metadata": {
    "collapsed": false
   },
   "outputs": [],
   "source": [
    "#print(valid_r_preds[:, 1])\n",
    "#calculate the predictions of it being real for all, fake is the oppostion\n",
    "import matplotlib\n",
    "from matplotlib import pyplot as plt\n",
    "#final_guesses[:len(valid_r)]"
   ]
  },
  {
   "cell_type": "code",
   "execution_count": 2,
   "metadata": {
    "collapsed": true
   },
   "outputs": [],
   "source": [
    "import numpy as np\n",
    "import pandas as pd\n",
    "import os\n",
    "import time\n",
    "import pickle"
   ]
  },
  {
   "cell_type": "markdown",
   "metadata": {},
   "source": [
    "Use the native Bayes Algorithm"
   ]
  },
  {
   "cell_type": "code",
   "execution_count": 3,
   "metadata": {
    "collapsed": true
   },
   "outputs": [],
   "source": [
    "def valid_val(key_val, dict_list, p, m, total):\n",
    "    #m is the total unseen events added\n",
    "    #p is the prior\n",
    "    #aka delta smoothing\n",
    "    try:\n",
    "        val = dict_list[key_val]\n",
    "    except:\n",
    "        val = 0\n",
    "    final_val = (val+(m*p))/(total +m)\n",
    "    return final_val"
   ]
  },
  {
   "cell_type": "code",
   "execution_count": 4,
   "metadata": {
    "collapsed": true
   },
   "outputs": [],
   "source": [
    "def generate_guesses(total_valids, unique_keys, prob_real, prob_fake):\n",
    "    print(len(total_valids))\n",
    "    final_guesses = np.zeros(len(total_valids))\n",
    "    print(final_guesses.shape)\n",
    "    print(\"Real Valid DataSet\")\n",
    "    for i, line in enumerate(total_valids):\n",
    "        #if i == len(valid_r):\n",
    "        #    print(\"\\nFake Valid Data set\\n\")\n",
    "        words = line.split(\" \")\n",
    "        real_preds = np.zeros(len(unique_keys))\n",
    "        fake_preds   = np.zeros_like(real_preds)\n",
    "        for j, word in enumerate(unique_keys):\n",
    "            #prob assuming its real\n",
    "            if word in words:\n",
    "                real_preds[j] = prob_real[word]\n",
    "            else:\n",
    "                real_preds[j] = 1 - prob_real[word]\n",
    "            #prob assuming its false\n",
    "            if word in words:\n",
    "                fake_preds[j] = prob_fake[word]\n",
    "            else:\n",
    "                fake_preds[j] = 1 - prob_fake[word]\n",
    "\n",
    "        #final prob that its real given these words\n",
    "        vals = np.exp(np.sum(np.log(real_preds), axis = 0)) * p_real\n",
    "        vals2 = np.exp(np.sum(np.log(fake_preds), axis= 0)) *p_fake\n",
    "        prob = vals/(vals+vals2)\n",
    "        #print(\"P:\", prob)\n",
    "        final_guesses[i] = prob\n",
    "    return final_guesses\n",
    "    "
   ]
  },
  {
   "cell_type": "code",
   "execution_count": 5,
   "metadata": {
    "collapsed": true
   },
   "outputs": [],
   "source": [
    "#real_news_probs = np.zeros((len(valid_r), ))\n",
    "#create hashmap of probabilities?\n",
    "\n",
    "def generate_probs(total_train, delta = 0.01, corpus= 10000):\n",
    "    prob_real = {}\n",
    "    prob_fake = {}\n",
    "    for j, line in enumerate(total_train):\n",
    "        words = line.split(\" \")\n",
    "        vals_bad = np.zeros(len(words))\n",
    "        vals_good = np.zeros_like(vals_bad)\n",
    "        for i, word in enumerate(words):\n",
    "            #the prob of (keywords) given class label\n",
    "            val = valid_val(word, train_r_counts, delta, corpus, total_real) #train_r_counts[word]\n",
    "            val2 = valid_val(word, train_b_counts, delta, corpus, total_fake)    \n",
    "            try:\n",
    "                prob_real[word]\n",
    "            except:\n",
    "                prob_real[word] = val\n",
    "            try:\n",
    "                prob_fake[word]\n",
    "            except:\n",
    "                prob_fake[word] = val2\n",
    "\n",
    "        #if j %100 ==99:\n",
    "        #    print(\"Line:\", j)\n",
    "    unique_real = list(prob_real.keys())\n",
    "    unique_fake = list(prob_fake.keys())\n",
    "    unique_real.extend(unique_fake)\n",
    "    unique_keys = np.unique(unique_real)\n",
    "    unique_keys.sort()\n",
    "    print(len(unique_keys))\n",
    "    return prob_real, prob_fake, unique_keys"
   ]
  },
  {
   "cell_type": "code",
   "execution_count": 6,
   "metadata": {
    "collapsed": false
   },
   "outputs": [],
   "source": [
    "train_r = pickle.load(open(\"train_r.pkl\", \"rb\"))\n",
    "train_b = pickle.load(open(\"train_b.pkl\", \"rb\"))\n",
    "#test = pickle.load(open(\"test.pkl\", \"rb\"))#print(train)\n",
    "#valid = pickle.load(open(\"valid.pkl\", \"rb\"))"
   ]
  },
  {
   "cell_type": "code",
   "execution_count": 7,
   "metadata": {
    "collapsed": false
   },
   "outputs": [
    {
     "name": "stdout",
     "output_type": "stream",
     "text": [
      "2957 3019\n"
     ]
    }
   ],
   "source": [
    "#create features, which will be which words show up in each prase?\n",
    "#create dict  of keys to track how often the word occurs\n",
    "train_r_counts = {}\n",
    "for line in train_r:\n",
    "    words = line.split(\" \")\n",
    "    #print(words)\n",
    "    #break\n",
    "    for word in words:\n",
    "        try:\n",
    "            train_r_counts[word] +=1\n",
    "        except:\n",
    "            train_r_counts[word] =1\n",
    "\n",
    "train_b_counts = {}\n",
    "for line in train_b:\n",
    "    words = line.split(\" \")\n",
    "    #print(words)\n",
    "    #break\n",
    "    for word in words:\n",
    "        try:\n",
    "            train_b_counts[word] +=1\n",
    "        except:\n",
    "            train_b_counts[word] =1\n",
    "print(len(train_r_counts.keys()), len(train_b_counts.keys()))"
   ]
  },
  {
   "cell_type": "code",
   "execution_count": 8,
   "metadata": {
    "collapsed": true
   },
   "outputs": [],
   "source": [
    "#train_counts[\"trump\"]\n",
    "total_real = len(train_r)\n",
    "total_fake = len(train_b)\n",
    "\n",
    "total_train = []\n",
    "total_train.extend(train_r)\n",
    "total_train.extend(train_b)\n",
    "\n",
    "p_real = total_real/(total_real +total_fake)\n",
    "p_fake = total_fake/(total_fake + total_real)\n",
    "\n",
    "valid_r = pickle.load(open(\"valid_r.pkl\", \"rb\"))\n",
    "valid_b = pickle.load(open(\"valid_b.pkl\", \"rb\"))\n",
    "total_valids = []\n",
    "total_valids.extend(valid_r)\n",
    "total_valids.extend(valid_b)"
   ]
  },
  {
   "cell_type": "code",
   "execution_count": 9,
   "metadata": {
    "collapsed": false,
    "scrolled": true
   },
   "outputs": [
    {
     "name": "stdout",
     "output_type": "stream",
     "text": [
      "4819\n",
      "490\n",
      "(490,)\n",
      "Real Valid DataSet\n"
     ]
    },
    {
     "data": {
      "image/png": "[encoded data removed]",
      "text/plain": [
       "<matplotlib.figure.Figure at 0x7f600bb21320>"
      ]
     },
     "metadata": {},
     "output_type": "display_data"
    },
    {
     "name": "stdout",
     "output_type": "stream",
     "text": [
      "4819\n",
      "490\n",
      "(490,)\n",
      "Real Valid DataSet\n"
     ]
    },
    {
     "data": {
      "image/png": "[encoded data removed]",
      "text/plain": [
       "<matplotlib.figure.Figure at 0x7f6003d31a58>"
      ]
     },
     "metadata": {},
     "output_type": "display_data"
    },
    {
     "name": "stdout",
     "output_type": "stream",
     "text": [
      "4819\n",
      "490\n",
      "(490,)\n",
      "Real Valid DataSet\n"
     ]
    },
    {
     "data": {
      "image/png": "[encoded data removed]",
      "text/plain": [
       "<matplotlib.figure.Figure at 0x7f600bb23208>"
      ]
     },
     "metadata": {},
     "output_type": "display_data"
    },
    {
     "name": "stdout",
     "output_type": "stream",
     "text": [
      "4819\n",
      "490\n",
      "(490,)\n",
      "Real Valid DataSet\n"
     ]
    },
    {
     "data": {
      "image/png": "[encoded data removed]",
      "text/plain": [
       "<matplotlib.figure.Figure at 0x7f6003752e48>"
      ]
     },
     "metadata": {},
     "output_type": "display_data"
    },
    {
     "name": "stdout",
     "output_type": "stream",
     "text": [
      "4819\n",
      "490\n",
      "(490,)\n",
      "Real Valid DataSet\n"
     ]
    },
    {
     "data": {
      "image/png": "[encoded data removed]",
      "text/plain": [
       "<matplotlib.figure.Figure at 0x7f600380ca20>"
      ]
     },
     "metadata": {},
     "output_type": "display_data"
    }
   ],
   "source": [
    "corpuses = [1000,5000,10000,50000,10000]\n",
    "for val in corpuses:\n",
    "    prob_real, prob_fake, unique_keys = generate_probs(total_train, delta=0.001, corpus=val)\n",
    "    #now generate probabilities\n",
    "    #print(len(valid_r))\n",
    "    final_guesses = generate_guesses(total_valids, unique_keys, prob_real, prob_fake)\n",
    "\n",
    "    fig = plt.figure(figsize=(12, 8))\n",
    "    ax = fig.add_subplot('111')\n",
    "    bins = np.linspace(0, 1, 50)\n",
    "    ax.hist(final_guesses[:len(valid_r)], bins = bins, label = \"Real\", alpha = 0.5)\n",
    "    #plt.show()\n",
    "    #bins = np.linspace(0.8, 1, 40)\n",
    "    ax.hist(final_guesses[len(valid_r):], bins = bins, label = \"Fake\", alpha = 0.5, color = \"green\")\n",
    "    plt.legend()\n",
    "    plt.show()"
   ]
  },
  {
   "cell_type": "code",
   "execution_count": 10,
   "metadata": {
    "collapsed": false,
    "scrolled": true
   },
   "outputs": [
    {
     "name": "stdout",
     "output_type": "stream",
     "text": [
      "4819\n",
      "490\n",
      "(490,)\n",
      "Real Valid DataSet\n"
     ]
    },
    {
     "data": {
      "image/png": "[encoded data removed]",
      "text/plain": [
       "<matplotlib.figure.Figure at 0x7f60034e7630>"
      ]
     },
     "metadata": {},
     "output_type": "display_data"
    },
    {
     "name": "stdout",
     "output_type": "stream",
     "text": [
      "4819\n",
      "490\n",
      "(490,)\n",
      "Real Valid DataSet\n"
     ]
    },
    {
     "data": {
      "image/png": "[encoded data removed]",
      "text/plain": [
       "<matplotlib.figure.Figure at 0x7f60036f5eb8>"
      ]
     },
     "metadata": {},
     "output_type": "display_data"
    },
    {
     "name": "stdout",
     "output_type": "stream",
     "text": [
      "4819\n",
      "490\n",
      "(490,)\n",
      "Real Valid DataSet\n"
     ]
    },
    {
     "data": {
      "image/png": "[encoded data removed]",
      "text/plain": [
       "<matplotlib.figure.Figure at 0x7f60039c7048>"
      ]
     },
     "metadata": {},
     "output_type": "display_data"
    },
    {
     "name": "stdout",
     "output_type": "stream",
     "text": [
      "4819\n",
      "490\n",
      "(490,)\n",
      "Real Valid DataSet\n"
     ]
    },
    {
     "data": {
      "image/png": "[encoded data removed]",
      "text/plain": [
       "<matplotlib.figure.Figure at 0x7f6003a67400>"
      ]
     },
     "metadata": {},
     "output_type": "display_data"
    },
    {
     "name": "stdout",
     "output_type": "stream",
     "text": [
      "4819\n",
      "490\n",
      "(490,)\n",
      "Real Valid DataSet\n"
     ]
    },
    {
     "data": {
      "image/png": "[encoded data removed]",
      "text/plain": [
       "<matplotlib.figure.Figure at 0x7f600bb4cf28>"
      ]
     },
     "metadata": {},
     "output_type": "display_data"
    }
   ],
   "source": [
    "#using the best corpus size, test it with different deltas\n",
    "#assume that corpus = 10000 was the best\n",
    "#corpuses = [1000,5000,10000,50000,10000]\n",
    "delts = [0.005, 0.001, 0.0005, 0.0001, 0.00005]\n",
    "for d in delts:\n",
    "    prob_real, prob_fake, unique_keys = generate_probs(total_train, delta=d, corpus=1000)\n",
    "    #now generate probabilities\n",
    "    #print(len(valid_r))\n",
    "    final_guesses = generate_guesses(total_valids, unique_keys, prob_real, prob_fake)\n",
    "\n",
    "    fig = plt.figure(figsize=(12, 8))\n",
    "    ax = fig.add_subplot('111')\n",
    "    bins = np.linspace(0, 1, 50)\n",
    "    ax.hist(final_guesses[:len(valid_r)], bins = bins, label = \"Real\", alpha = 0.5)\n",
    "    #plt.show()\n",
    "    #bins = np.linspace(0.8, 1, 40)\n",
    "    ax.hist(final_guesses[len(valid_r):], bins = bins, label = \"Fake\", alpha = 0.5, color = \"green\")\n",
    "    plt.legend()\n",
    "    plt.ylim([0,60])\n",
    "    plt.show()"
   ]
  },
  {
   "cell_type": "code",
   "execution_count": 11,
   "metadata": {
    "collapsed": false
   },
   "outputs": [
    {
     "name": "stdout",
     "output_type": "stream",
     "text": [
      "4819\n",
      "['kosher' 'later' 'latino' 'latinos' 'laugh' 'laughing' 'laughter' 'lays'\n",
      " 'lasting' 'leading']\n",
      "['for' 'says' 'of' 'on' 'trumps' 'us' 'in' 'to' 'donald' 'trump']\n",
      "['santa' 'dmz' 'saturday' 'saudi' 'divides' 'saul' 'interest' 'saving'\n",
      " 'interfered' 'scales']\n",
      "['is' 'and' 'a' 'of' 'for' 'in' 'donald' 'to' 'the' 'trump']\n"
     ]
    }
   ],
   "source": [
    "#part 3\n",
    "prob_real, prob_fake, unique_keys = generate_probs(total_train, delta=d, corpus=1000)\n",
    "\n",
    "prob_real = [prob_real[k] for k in unique_keys]\n",
    "prob_fake = [prob_fake[k] for k in unique_keys]\n",
    "\n",
    "prob_real_vals = np.asarray(prob_real)\n",
    "prob_real_vals = prob_real_vals.argsort()#[::1]t\n",
    "real_here = prob_real_vals[:10]\n",
    "real_gone = prob_real_vals[-10:]\n",
    "\n",
    "prob_fake_vals = np.asarray(prob_fake)\n",
    "prob_fake_vals = prob_fake_vals.argsort()\n",
    "fake_here = prob_fake_vals[:10]\n",
    "fake_gone = prob_fake_vals[-10:]\n",
    "#print(real_here)\n",
    "\n",
    "print(unique_keys[real_here])\n",
    "print(unique_keys[real_gone])\n",
    "\n",
    "print(unique_keys[fake_here])\n",
    "print(unique_keys[fake_gone])\n",
    "#print(sorted_real_probs)\n",
    "#print(unique_keys)\n"
   ]
  },
  {
   "cell_type": "code",
   "execution_count": 15,
   "metadata": {
    "collapsed": false
   },
   "outputs": [
    {
     "name": "stdout",
     "output_type": "stream",
     "text": [
      "['describe', 'has', 'noone', 'back', 'already', 'nothing', 'thereupon', 'empty', 'anyway', 'being', 'call', 'hers', 'de', 'whose', 'own', 'itself', 'thick', 'herein', 'him', 'will', 'whereafter', 'nor', 'i', 'move', 'the', 'whether', 'please', 'thin', 'across', 'give', 'are', 'above', 'and', 'enough', 'often', 'least', 'too', 'whatever', 'when', 'otherwise', 'whoever', 'is', 'now', 'me', 're', 'onto', 'ourselves', 'further', 'put', 'had', 'any', 'also', 'fire', 'of', 'bill', 'from', 'you', 'anywhere', 'third', 'whereby', 'rather', 'detail', 'top', 'again', 'twelve', 'both', 'eleven', 'ours', 'etc', 'never', 'inc', 'some', 'then', 'became', 'becoming', 'herself', 'than', 'one', 'less', 'there', 'up', 'your', 'because', 'someone', 'while', 'first', 'indeed', 'thence', 'twenty', 'beyond', 'hereafter', 'hence', 'out', 'we', 'ever', 'none', 'who', 'its', 'cannot', 'seemed', 'can', 'they', 'next', 'con', 'could', 'their', 'elsewhere', 'somehow', 'hasnt', 'why', 'each', 'part', 'nobody', 'would', 'by', 'except', 'therefore', 'must', 'may', 'due', 'moreover', 'un', 'perhaps', 'themselves', 'were', 'however', 'forty', 'everyone', 'anyhow', 'throughout', 'therein', 'whom', 'sometimes', 'along', 'these', 'yourselves', 'should', 'together', 'very', 'or', 'for', 'via', 'what', 'done', 'which', 'nowhere', 'anything', 'nevertheless', 'yourself', 'get', 'well', 'beforehand', 'during', 'amount', 'since', 'mine', 'until', 'about', 'around', 'co', 'either', 'made', 'thus', 'after', 'how', 'so', 'sometime', 'upon', 'whereas', 'our', 'whole', 'hereby', 'be', 'her', 'see', 'show', 'system', 'whenever', 'over', 'take', 'almost', 'his', 'three', 'on', 'although', 'fill', 'no', 'eight', 'namely', 'beside', 'go', 'once', 'amongst', 'seems', 'latter', 'whence', 'latterly', 'us', 'been', 'besides', 'serious', 'ltd', 'anyone', 'off', 'per', 'six', 'something', 'them', 'yours', 'nine', 'a', 'meanwhile', 'find', 'myself', 'at', 'before', 'amoungst', 'cant', 'found', 'four', 'fifteen', 'only', 'full', 'through', 'hundred', 'an', 'was', 'whither', 'every', 'might', 'seeming', 'between', 'to', 'without', 'alone', 'front', 'hereupon', 'keep', 'many', 'under', 'yet', 'afterwards', 'several', 'becomes', 'more', 'if', 'behind', 'much', 'mostly', 'within', 'but', 'it', 'former', 'everything', 'another', 'become', 'else', 'not', 'others', 'somewhere', 'here', 'ten', 'toward', 'among', 'last', 'neither', 'five', 'below', 'seem', 'thereby', 'wherever', 'against', 'have', 'couldnt', 'am', 'such', 'those', 'ie', 'bottom', 'fifty', 'where', 'most', 'all', 'always', 'still', 'that', 'wherein', 'towards', 'with', 'cry', 'down', 'interest', 'himself', 'everywhere', 'he', 'whereupon', 'eg', 'do', 'formerly', 'as', 'side', 'other', 'same', 'even', 'thru', 'few', 'into', 'mill', 'she', 'in', 'sincere', 'name', 'sixty', 'my', 'this', 'though', 'thereafter', 'two']\n"
     ]
    }
   ],
   "source": [
    "#load the stop words\n",
    "from sklearn.feature_extraction.text import ENGLISH_STOP_WORDS\n",
    "stop_words = list(ENGLISH_STOP_WORDS)\n",
    "print(stop_words)"
   ]
  },
  {
   "cell_type": "code",
   "execution_count": 29,
   "metadata": {
    "collapsed": false
   },
   "outputs": [
    {
     "name": "stdout",
     "output_type": "stream",
     "text": [
      "kosher later latino latinos laugh laughing laughter lays lasting leading \n",
      "turnbull president white russia wall ban korea north clinton election \n",
      "santa dmz saturday saudi divides saul saving interfered scales interlude \n",
      "america president new obama just election clinton hillary donald trump \n"
     ]
    }
   ],
   "source": [
    "real_here = prob_real_vals[:20]\n",
    "real_gone = prob_real_vals[-30:]\n",
    "real_gone_r = np.flip(real_gone, axis = 0)\n",
    "fake_here = prob_fake_vals[:20]\n",
    "fake_gone = prob_fake_vals[-30:]\n",
    "fake_gone_r = np.flip(fake_gone, axis=0)\n",
    "\n",
    "#print(unique_keys[real_here])\n",
    "#print(unique_keys[real_gone])\n",
    "#print(unique_keys[fake_here])\n",
    "#print(unique_keys[fake_gone])\n",
    "\n",
    "tests= [real_here, real_gone, fake_here, fake_gone]\n",
    "for test in tests:\n",
    "    #print(test)\n",
    "    counter = 0\n",
    "    for word in test:\n",
    "        test_word = unique_keys[word]\n",
    "        #counter = 0\n",
    "        if test_word in stop_words:\n",
    "            pass\n",
    "        else:\n",
    "            print(test_word, end=\" \")\n",
    "            counter +=1\n",
    "        if counter == 10:\n",
    "            break\n",
    "    print(\"\")"
   ]
  },
  {
   "cell_type": "code",
   "execution_count": null,
   "metadata": {
    "collapsed": true
   },
   "outputs": [],
   "source": []
  }
 ],
 "metadata": {
  "anaconda-cloud": {},
  "kernelspec": {
   "display_name": "Python [conda env:CSC401]",
   "language": "python",
   "name": "conda-env-CSC401-py"
  },
  "language_info": {
   "codemirror_mode": {
    "name": "ipython",
    "version": 3
   },
   "file_extension": ".py",
   "mimetype": "text/x-python",
   "name": "python",
   "nbconvert_exporter": "python",
   "pygments_lexer": "ipython3",
   "version": "3.6.3"
  }
 },
 "nbformat": 4,
 "nbformat_minor": 1
}
