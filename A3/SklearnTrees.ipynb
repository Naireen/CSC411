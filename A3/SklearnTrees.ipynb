{
 "cells": [
  {
   "cell_type": "code",
   "execution_count": 19,
   "metadata": {
    "collapsed": false
   },
   "outputs": [],
   "source": [
    "import time\n",
    "import numpy as np\n",
    "import pickle\n",
    "import matplotlib\n",
    "from matplotlib import pyplot as plt\n",
    "from sklearn import metrics"
   ]
  },
  {
   "cell_type": "code",
   "execution_count": 12,
   "metadata": {
    "collapsed": true
   },
   "outputs": [],
   "source": [
    "import os\n",
    "train_r = pickle.load(open(\"train_r.pkl\", \"rb\"))\n",
    "train_b = pickle.load(open(\"train_b.pkl\", \"rb\"))\n",
    "valid_r = pickle.load(open(\"test_r.pkl\", \"rb\"))\n",
    "valid_b = pickle.load(open(\"test_b.pkl\", \"rb\"))"
   ]
  },
  {
   "cell_type": "code",
   "execution_count": 13,
   "metadata": {
    "collapsed": true
   },
   "outputs": [],
   "source": [
    "from sklearn.tree import DecisionTreeClassifier"
   ]
  },
  {
   "cell_type": "code",
   "execution_count": 14,
   "metadata": {
    "collapsed": true
   },
   "outputs": [],
   "source": [
    "#concatenate everythin appropriately to have the final datasets\n",
    "one_label = np.ones(len(train_r))\n",
    "zeros_label = np.zeros(len(train_b))\n",
    "one_test = np.ones(len(valid_r))\n",
    "zero_test = np.zeros(len(valid_b))\n",
    "\n",
    "trainX = np.concatenate((train_r, train_b))\n",
    "trainY = np.concatenate((one_label, zeros_label))\n",
    "validX = np.concatenate((valid_r, valid_b))\n",
    "validY  = np.concatenate((one_test, zero_test))"
   ]
  },
  {
   "cell_type": "code",
   "execution_count": 16,
   "metadata": {
    "collapsed": false
   },
   "outputs": [
    {
     "name": "stdout",
     "output_type": "stream",
     "text": [
      "4818\n"
     ]
    }
   ],
   "source": [
    "#gerenate feature vectors \n",
    "total_words = {}\n",
    "for line in trainX:\n",
    "    words = line.split(\" \")\n",
    "    for word in words:\n",
    "        if word == \"\":\n",
    "            continue\n",
    "        try:\n",
    "            total_words[word]\n",
    "        except:\n",
    "            total_words[word] = True\n",
    "\n",
    "print(len(total_words.keys()))\n",
    "#dont add words in valid and test sets"
   ]
  },
  {
   "cell_type": "code",
   "execution_count": 17,
   "metadata": {
    "collapsed": true
   },
   "outputs": [],
   "source": [
    "#create training feats\n",
    "\n",
    "#print(len(validX))\n",
    "unique_keys = list(total_words.keys())\n",
    "unique_keys.sort()\n",
    "#print(unique_keys[:10])\n",
    "#account for a bias\n",
    "train_feats = np.zeros((len(trainX), len(total_words.keys()) ))\n",
    "for i, line in enumerate(trainX):\n",
    "    words = line.split(\" \")\n",
    "    #print(words)\n",
    "    for word in words:\n",
    "        if word ==\"\":\n",
    "            continue\n",
    "        #print(unique_keys.index(word))\n",
    "        ind = unique_keys.index(word)  \n",
    "        #plus one is so that the very first is the bias (here a bias of zero)\n",
    "        train_feats[i][ind] = 1\n",
    "\n",
    "\n",
    "#create testing features\n",
    "valid_feats = np.zeros((len(validX), len(total_words.keys())))\n",
    "for i , line in enumerate(validX):\n",
    "    words = line.split(\" \")\n",
    "    #print(len(words), end = \" \")\n",
    "    #if i ==0:\n",
    "        #print(words)\n",
    "    #print(words)\n",
    "    for word in words:\n",
    "        if word ==\"\":\n",
    "            continue\n",
    "        #account for value error:\n",
    "        try:\n",
    "            ind = unique_keys.index(word) \n",
    "            #print(ind)\n",
    "            valid_feats[i][ind] = 1\n",
    "        except:\n",
    "            continue       \n",
    "#inds = np.where(valid_feats ==1)[1]\n",
    "#print(\"\\n\", inds[:34])"
   ]
  },
  {
   "cell_type": "code",
   "execution_count": 37,
   "metadata": {
    "collapsed": true
   },
   "outputs": [],
   "source": [
    "tree_mod = DecisionTreeClassifier(criterion=\"gini\", \n",
    "          max_depth=2, random_state=0 ,min_samples_split = 2)\n",
    "#got rid of class weight param from balanced to none\n",
    "#tested entropy vs gini scotes\n",
    "#test_min num of leaves left, prevents over fitting, prunes very ends"
   ]
  },
  {
   "cell_type": "code",
   "execution_count": 38,
   "metadata": {
    "collapsed": false
   },
   "outputs": [
    {
     "name": "stdout",
     "output_type": "stream",
     "text": [
      "0.661914460285\n",
      "0.670061099796\n",
      "0.688391038697\n",
      "0.680244399185\n",
      "0.727087576375\n",
      "0.727087576375\n",
      "0.733197556008\n",
      "0.718940936864\n",
      "0.723014256619\n",
      "0.741344195519\n",
      "0.737270875764\n",
      "0.737270875764\n"
     ]
    }
   ],
   "source": [
    "depths = [1, 2, 4, 5, 10, 15, 20, 25, 50, 100, 500, 1000]\n",
    "\n",
    "for val in depths:\n",
    "    tree_mod.max_depth = val\n",
    "    tree_mod.fit(train_feats, trainY)\n",
    "    preds = tree_mod.predict(valid_feats)\n",
    "    print(metrics.accuracy_score(validY, preds))\n",
    "# a split of 100 seems to give the best results by far"
   ]
  },
  {
   "cell_type": "code",
   "execution_count": 62,
   "metadata": {
    "collapsed": false
   },
   "outputs": [
    {
     "name": "stdout",
     "output_type": "stream",
     "text": [
      "0.688391038697\n"
     ]
    }
   ],
   "source": [
    "tree_mod = DecisionTreeClassifier(criterion=\"gini\", \n",
    "          max_depth=3, random_state=0 ,min_samples_split = 2)\n",
    "tree_mod.fit(train_feats, trainY)\n",
    "preds = tree_mod.predict(valid_feats)\n",
    "print(metrics.accuracy_score(validY, preds))"
   ]
  },
  {
   "cell_type": "code",
   "execution_count": 63,
   "metadata": {
    "collapsed": false
   },
   "outputs": [
    {
     "data": {
      "image/svg+xml": [
       "<?xml version=\"1.0\" encoding=\"UTF-8\" standalone=\"no\"?>\n",
       "<!DOCTYPE svg PUBLIC \"-//W3C//DTD SVG 1.1//EN\"\n",
       " \"http://www.w3.org/Graphics/SVG/1.1/DTD/svg11.dtd\">\n",
       "<!-- Generated by graphviz version 2.38.0 (20140413.2041)\n",
       " -->\n",
       "<!-- Title: Tree Pages: 1 -->\n",
       "<svg width=\"774pt\" height=\"373pt\"\n",
       " viewBox=\"0.00 0.00 773.50 373.00\" xmlns=\"http://www.w3.org/2000/svg\" xmlns:xlink=\"http://www.w3.org/1999/xlink\">\n",
       "<g id=\"graph0\" class=\"graph\" transform=\"scale(1 1) rotate(0) translate(4 369)\">\n",
       "<title>Tree</title>\n",
       "<polygon fill=\"white\" stroke=\"none\" points=\"-4,4 -4,-369 769.5,-369 769.5,4 -4,4\"/>\n",
       "<!-- 0 -->\n",
       "<g id=\"node1\" class=\"node\"><title>0</title>\n",
       "<path fill=\"#399de5\" fill-opacity=\"0.341176\" stroke=\"black\" d=\"M541.5,-365C541.5,-365 433.5,-365 433.5,-365 427.5,-365 421.5,-359 421.5,-353 421.5,-353 421.5,-309 421.5,-309 421.5,-303 427.5,-297 433.5,-297 433.5,-297 541.5,-297 541.5,-297 547.5,-297 553.5,-303 553.5,-309 553.5,-309 553.5,-353 553.5,-353 553.5,-359 547.5,-365 541.5,-365\"/>\n",
       "<text text-anchor=\"middle\" x=\"487.5\" y=\"-349.8\" font-family=\"Helvetica,sans-Serif\" font-size=\"14.00\">the &lt;= 0.5</text>\n",
       "<text text-anchor=\"middle\" x=\"487.5\" y=\"-334.8\" font-family=\"Helvetica,sans-Serif\" font-size=\"14.00\">gini = 0.479</text>\n",
       "<text text-anchor=\"middle\" x=\"487.5\" y=\"-319.8\" font-family=\"Helvetica,sans-Serif\" font-size=\"14.00\">samples = 2287</text>\n",
       "<text text-anchor=\"middle\" x=\"487.5\" y=\"-304.8\" font-family=\"Helvetica,sans-Serif\" font-size=\"14.00\">value = [909, 1378]</text>\n",
       "</g>\n",
       "<!-- 1 -->\n",
       "<g id=\"node2\" class=\"node\"><title>1</title>\n",
       "<path fill=\"#399de5\" fill-opacity=\"0.486275\" stroke=\"black\" d=\"M442.5,-261C442.5,-261 334.5,-261 334.5,-261 328.5,-261 322.5,-255 322.5,-249 322.5,-249 322.5,-205 322.5,-205 322.5,-199 328.5,-193 334.5,-193 334.5,-193 442.5,-193 442.5,-193 448.5,-193 454.5,-199 454.5,-205 454.5,-205 454.5,-249 454.5,-249 454.5,-255 448.5,-261 442.5,-261\"/>\n",
       "<text text-anchor=\"middle\" x=\"388.5\" y=\"-245.8\" font-family=\"Helvetica,sans-Serif\" font-size=\"14.00\">donald &lt;= 0.5</text>\n",
       "<text text-anchor=\"middle\" x=\"388.5\" y=\"-230.8\" font-family=\"Helvetica,sans-Serif\" font-size=\"14.00\">gini = 0.449</text>\n",
       "<text text-anchor=\"middle\" x=\"388.5\" y=\"-215.8\" font-family=\"Helvetica,sans-Serif\" font-size=\"14.00\">samples = 1932</text>\n",
       "<text text-anchor=\"middle\" x=\"388.5\" y=\"-200.8\" font-family=\"Helvetica,sans-Serif\" font-size=\"14.00\">value = [657, 1275]</text>\n",
       "</g>\n",
       "<!-- 0&#45;&gt;1 -->\n",
       "<g id=\"edge1\" class=\"edge\"><title>0&#45;&gt;1</title>\n",
       "<path fill=\"none\" stroke=\"black\" d=\"M455.358,-296.884C446.626,-287.887 437.069,-278.041 427.982,-268.678\"/>\n",
       "<polygon fill=\"black\" stroke=\"black\" points=\"430.296,-266.038 420.82,-261.299 425.273,-270.913 430.296,-266.038\"/>\n",
       "<text text-anchor=\"middle\" x=\"420.447\" y=\"-282.597\" font-family=\"Helvetica,sans-Serif\" font-size=\"14.00\">True</text>\n",
       "</g>\n",
       "<!-- 8 -->\n",
       "<g id=\"node9\" class=\"node\"><title>8</title>\n",
       "<path fill=\"#e58139\" fill-opacity=\"0.592157\" stroke=\"black\" d=\"M637,-261C637,-261 536,-261 536,-261 530,-261 524,-255 524,-249 524,-249 524,-205 524,-205 524,-199 530,-193 536,-193 536,-193 637,-193 637,-193 643,-193 649,-199 649,-205 649,-205 649,-249 649,-249 649,-255 643,-261 637,-261\"/>\n",
       "<text text-anchor=\"middle\" x=\"586.5\" y=\"-245.8\" font-family=\"Helvetica,sans-Serif\" font-size=\"14.00\">trumps &lt;= 0.5</text>\n",
       "<text text-anchor=\"middle\" x=\"586.5\" y=\"-230.8\" font-family=\"Helvetica,sans-Serif\" font-size=\"14.00\">gini = 0.412</text>\n",
       "<text text-anchor=\"middle\" x=\"586.5\" y=\"-215.8\" font-family=\"Helvetica,sans-Serif\" font-size=\"14.00\">samples = 355</text>\n",
       "<text text-anchor=\"middle\" x=\"586.5\" y=\"-200.8\" font-family=\"Helvetica,sans-Serif\" font-size=\"14.00\">value = [252, 103]</text>\n",
       "</g>\n",
       "<!-- 0&#45;&gt;8 -->\n",
       "<g id=\"edge8\" class=\"edge\"><title>0&#45;&gt;8</title>\n",
       "<path fill=\"none\" stroke=\"black\" d=\"M519.642,-296.884C528.374,-287.887 537.931,-278.041 547.018,-268.678\"/>\n",
       "<polygon fill=\"black\" stroke=\"black\" points=\"549.727,-270.913 554.18,-261.299 544.704,-266.038 549.727,-270.913\"/>\n",
       "<text text-anchor=\"middle\" x=\"554.553\" y=\"-282.597\" font-family=\"Helvetica,sans-Serif\" font-size=\"14.00\">False</text>\n",
       "</g>\n",
       "<!-- 2 -->\n",
       "<g id=\"node3\" class=\"node\"><title>2</title>\n",
       "<path fill=\"#399de5\" fill-opacity=\"0.270588\" stroke=\"black\" d=\"M245,-157C245,-157 144,-157 144,-157 138,-157 132,-151 132,-145 132,-145 132,-101 132,-101 132,-95 138,-89 144,-89 144,-89 245,-89 245,-89 251,-89 257,-95 257,-101 257,-101 257,-145 257,-145 257,-151 251,-157 245,-157\"/>\n",
       "<text text-anchor=\"middle\" x=\"194.5\" y=\"-141.8\" font-family=\"Helvetica,sans-Serif\" font-size=\"14.00\">hillary &lt;= 0.5</text>\n",
       "<text text-anchor=\"middle\" x=\"194.5\" y=\"-126.8\" font-family=\"Helvetica,sans-Serif\" font-size=\"14.00\">gini = 0.488</text>\n",
       "<text text-anchor=\"middle\" x=\"194.5\" y=\"-111.8\" font-family=\"Helvetica,sans-Serif\" font-size=\"14.00\">samples = 1288</text>\n",
       "<text text-anchor=\"middle\" x=\"194.5\" y=\"-96.8\" font-family=\"Helvetica,sans-Serif\" font-size=\"14.00\">value = [544, 744]</text>\n",
       "</g>\n",
       "<!-- 1&#45;&gt;2 -->\n",
       "<g id=\"edge2\" class=\"edge\"><title>1&#45;&gt;2</title>\n",
       "<path fill=\"none\" stroke=\"black\" d=\"M325.514,-192.884C306.602,-182.94 285.716,-171.959 266.281,-161.741\"/>\n",
       "<polygon fill=\"black\" stroke=\"black\" points=\"267.65,-158.506 257.17,-156.95 264.393,-164.702 267.65,-158.506\"/>\n",
       "</g>\n",
       "<!-- 5 -->\n",
       "<g id=\"node6\" class=\"node\"><title>5</title>\n",
       "<path fill=\"#399de5\" fill-opacity=\"0.788235\" stroke=\"black\" d=\"M439,-157C439,-157 338,-157 338,-157 332,-157 326,-151 326,-145 326,-145 326,-101 326,-101 326,-95 332,-89 338,-89 338,-89 439,-89 439,-89 445,-89 451,-95 451,-101 451,-101 451,-145 451,-145 451,-151 445,-157 439,-157\"/>\n",
       "<text text-anchor=\"middle\" x=\"388.5\" y=\"-141.8\" font-family=\"Helvetica,sans-Serif\" font-size=\"14.00\">a &lt;= 0.5</text>\n",
       "<text text-anchor=\"middle\" x=\"388.5\" y=\"-126.8\" font-family=\"Helvetica,sans-Serif\" font-size=\"14.00\">gini = 0.289</text>\n",
       "<text text-anchor=\"middle\" x=\"388.5\" y=\"-111.8\" font-family=\"Helvetica,sans-Serif\" font-size=\"14.00\">samples = 644</text>\n",
       "<text text-anchor=\"middle\" x=\"388.5\" y=\"-96.8\" font-family=\"Helvetica,sans-Serif\" font-size=\"14.00\">value = [113, 531]</text>\n",
       "</g>\n",
       "<!-- 1&#45;&gt;5 -->\n",
       "<g id=\"edge5\" class=\"edge\"><title>1&#45;&gt;5</title>\n",
       "<path fill=\"none\" stroke=\"black\" d=\"M388.5,-192.884C388.5,-184.778 388.5,-175.982 388.5,-167.472\"/>\n",
       "<polygon fill=\"black\" stroke=\"black\" points=\"392,-167.299 388.5,-157.299 385,-167.299 392,-167.299\"/>\n",
       "</g>\n",
       "<!-- 3 -->\n",
       "<g id=\"node4\" class=\"node\"><title>3</title>\n",
       "<path fill=\"#399de5\" fill-opacity=\"0.360784\" stroke=\"black\" d=\"M113,-53C113,-53 12,-53 12,-53 6,-53 7.10543e-15,-47 7.10543e-15,-41 7.10543e-15,-41 7.10543e-15,-12 7.10543e-15,-12 7.10543e-15,-6 6,-0 12,-0 12,-0 113,-0 113,-0 119,-0 125,-6 125,-12 125,-12 125,-41 125,-41 125,-47 119,-53 113,-53\"/>\n",
       "<text text-anchor=\"middle\" x=\"62.5\" y=\"-37.8\" font-family=\"Helvetica,sans-Serif\" font-size=\"14.00\">gini = 0.476</text>\n",
       "<text text-anchor=\"middle\" x=\"62.5\" y=\"-22.8\" font-family=\"Helvetica,sans-Serif\" font-size=\"14.00\">samples = 1217</text>\n",
       "<text text-anchor=\"middle\" x=\"62.5\" y=\"-7.8\" font-family=\"Helvetica,sans-Serif\" font-size=\"14.00\">value = [475, 742]</text>\n",
       "</g>\n",
       "<!-- 2&#45;&gt;3 -->\n",
       "<g id=\"edge3\" class=\"edge\"><title>2&#45;&gt;3</title>\n",
       "<path fill=\"none\" stroke=\"black\" d=\"M148.333,-88.9485C134.788,-79.2516 120.015,-68.6752 106.602,-59.073\"/>\n",
       "<polygon fill=\"black\" stroke=\"black\" points=\"108.618,-56.212 98.4497,-53.2367 104.543,-61.9038 108.618,-56.212\"/>\n",
       "</g>\n",
       "<!-- 4 -->\n",
       "<g id=\"node5\" class=\"node\"><title>4</title>\n",
       "<path fill=\"#e58139\" fill-opacity=\"0.972549\" stroke=\"black\" d=\"M233.5,-53C233.5,-53 155.5,-53 155.5,-53 149.5,-53 143.5,-47 143.5,-41 143.5,-41 143.5,-12 143.5,-12 143.5,-6 149.5,-0 155.5,-0 155.5,-0 233.5,-0 233.5,-0 239.5,-0 245.5,-6 245.5,-12 245.5,-12 245.5,-41 245.5,-41 245.5,-47 239.5,-53 233.5,-53\"/>\n",
       "<text text-anchor=\"middle\" x=\"194.5\" y=\"-37.8\" font-family=\"Helvetica,sans-Serif\" font-size=\"14.00\">gini = 0.055</text>\n",
       "<text text-anchor=\"middle\" x=\"194.5\" y=\"-22.8\" font-family=\"Helvetica,sans-Serif\" font-size=\"14.00\">samples = 71</text>\n",
       "<text text-anchor=\"middle\" x=\"194.5\" y=\"-7.8\" font-family=\"Helvetica,sans-Serif\" font-size=\"14.00\">value = [69, 2]</text>\n",
       "</g>\n",
       "<!-- 2&#45;&gt;4 -->\n",
       "<g id=\"edge4\" class=\"edge\"><title>2&#45;&gt;4</title>\n",
       "<path fill=\"none\" stroke=\"black\" d=\"M194.5,-88.9485C194.5,-80.7153 194.5,-71.848 194.5,-63.4814\"/>\n",
       "<polygon fill=\"black\" stroke=\"black\" points=\"198,-63.2367 194.5,-53.2367 191,-63.2367 198,-63.2367\"/>\n",
       "</g>\n",
       "<!-- 6 -->\n",
       "<g id=\"node7\" class=\"node\"><title>6</title>\n",
       "<path fill=\"#399de5\" fill-opacity=\"0.815686\" stroke=\"black\" d=\"M369,-53C369,-53 276,-53 276,-53 270,-53 264,-47 264,-41 264,-41 264,-12 264,-12 264,-6 270,-0 276,-0 276,-0 369,-0 369,-0 375,-0 381,-6 381,-12 381,-12 381,-41 381,-41 381,-47 375,-53 369,-53\"/>\n",
       "<text text-anchor=\"middle\" x=\"322.5\" y=\"-37.8\" font-family=\"Helvetica,sans-Serif\" font-size=\"14.00\">gini = 0.262</text>\n",
       "<text text-anchor=\"middle\" x=\"322.5\" y=\"-22.8\" font-family=\"Helvetica,sans-Serif\" font-size=\"14.00\">samples = 612</text>\n",
       "<text text-anchor=\"middle\" x=\"322.5\" y=\"-7.8\" font-family=\"Helvetica,sans-Serif\" font-size=\"14.00\">value = [95, 517]</text>\n",
       "</g>\n",
       "<!-- 5&#45;&gt;6 -->\n",
       "<g id=\"edge6\" class=\"edge\"><title>5&#45;&gt;6</title>\n",
       "<path fill=\"none\" stroke=\"black\" d=\"M365.416,-88.9485C359.219,-80.0749 352.507,-70.4648 346.273,-61.5388\"/>\n",
       "<polygon fill=\"black\" stroke=\"black\" points=\"349.07,-59.4311 340.475,-53.2367 343.331,-63.4392 349.07,-59.4311\"/>\n",
       "</g>\n",
       "<!-- 7 -->\n",
       "<g id=\"node8\" class=\"node\"><title>7</title>\n",
       "<path fill=\"#e58139\" fill-opacity=\"0.223529\" stroke=\"black\" d=\"M497.5,-53C497.5,-53 411.5,-53 411.5,-53 405.5,-53 399.5,-47 399.5,-41 399.5,-41 399.5,-12 399.5,-12 399.5,-6 405.5,-0 411.5,-0 411.5,-0 497.5,-0 497.5,-0 503.5,-0 509.5,-6 509.5,-12 509.5,-12 509.5,-41 509.5,-41 509.5,-47 503.5,-53 497.5,-53\"/>\n",
       "<text text-anchor=\"middle\" x=\"454.5\" y=\"-37.8\" font-family=\"Helvetica,sans-Serif\" font-size=\"14.00\">gini = 0.492</text>\n",
       "<text text-anchor=\"middle\" x=\"454.5\" y=\"-22.8\" font-family=\"Helvetica,sans-Serif\" font-size=\"14.00\">samples = 32</text>\n",
       "<text text-anchor=\"middle\" x=\"454.5\" y=\"-7.8\" font-family=\"Helvetica,sans-Serif\" font-size=\"14.00\">value = [18, 14]</text>\n",
       "</g>\n",
       "<!-- 5&#45;&gt;7 -->\n",
       "<g id=\"edge7\" class=\"edge\"><title>5&#45;&gt;7</title>\n",
       "<path fill=\"none\" stroke=\"black\" d=\"M411.584,-88.9485C417.781,-80.0749 424.493,-70.4648 430.727,-61.5388\"/>\n",
       "<polygon fill=\"black\" stroke=\"black\" points=\"433.669,-63.4392 436.525,-53.2367 427.93,-59.4311 433.669,-63.4392\"/>\n",
       "</g>\n",
       "<!-- 9 -->\n",
       "<g id=\"node10\" class=\"node\"><title>9</title>\n",
       "<path fill=\"#e58139\" fill-opacity=\"0.643137\" stroke=\"black\" d=\"M633,-157C633,-157 540,-157 540,-157 534,-157 528,-151 528,-145 528,-145 528,-101 528,-101 528,-95 534,-89 540,-89 540,-89 633,-89 633,-89 639,-89 645,-95 645,-101 645,-101 645,-145 645,-145 645,-151 639,-157 633,-157\"/>\n",
       "<text text-anchor=\"middle\" x=\"586.5\" y=\"-141.8\" font-family=\"Helvetica,sans-Serif\" font-size=\"14.00\">era &lt;= 0.5</text>\n",
       "<text text-anchor=\"middle\" x=\"586.5\" y=\"-126.8\" font-family=\"Helvetica,sans-Serif\" font-size=\"14.00\">gini = 0.388</text>\n",
       "<text text-anchor=\"middle\" x=\"586.5\" y=\"-111.8\" font-family=\"Helvetica,sans-Serif\" font-size=\"14.00\">samples = 342</text>\n",
       "<text text-anchor=\"middle\" x=\"586.5\" y=\"-96.8\" font-family=\"Helvetica,sans-Serif\" font-size=\"14.00\">value = [252, 90]</text>\n",
       "</g>\n",
       "<!-- 8&#45;&gt;9 -->\n",
       "<g id=\"edge9\" class=\"edge\"><title>8&#45;&gt;9</title>\n",
       "<path fill=\"none\" stroke=\"black\" d=\"M586.5,-192.884C586.5,-184.778 586.5,-175.982 586.5,-167.472\"/>\n",
       "<polygon fill=\"black\" stroke=\"black\" points=\"590,-167.299 586.5,-157.299 583,-167.299 590,-167.299\"/>\n",
       "</g>\n",
       "<!-- 12 -->\n",
       "<g id=\"node13\" class=\"node\"><title>12</title>\n",
       "<path fill=\"#399de5\" stroke=\"black\" d=\"M753.5,-149.5C753.5,-149.5 675.5,-149.5 675.5,-149.5 669.5,-149.5 663.5,-143.5 663.5,-137.5 663.5,-137.5 663.5,-108.5 663.5,-108.5 663.5,-102.5 669.5,-96.5 675.5,-96.5 675.5,-96.5 753.5,-96.5 753.5,-96.5 759.5,-96.5 765.5,-102.5 765.5,-108.5 765.5,-108.5 765.5,-137.5 765.5,-137.5 765.5,-143.5 759.5,-149.5 753.5,-149.5\"/>\n",
       "<text text-anchor=\"middle\" x=\"714.5\" y=\"-134.3\" font-family=\"Helvetica,sans-Serif\" font-size=\"14.00\">gini = 0.0</text>\n",
       "<text text-anchor=\"middle\" x=\"714.5\" y=\"-119.3\" font-family=\"Helvetica,sans-Serif\" font-size=\"14.00\">samples = 13</text>\n",
       "<text text-anchor=\"middle\" x=\"714.5\" y=\"-104.3\" font-family=\"Helvetica,sans-Serif\" font-size=\"14.00\">value = [0, 13]</text>\n",
       "</g>\n",
       "<!-- 8&#45;&gt;12 -->\n",
       "<g id=\"edge12\" class=\"edge\"><title>8&#45;&gt;12</title>\n",
       "<path fill=\"none\" stroke=\"black\" d=\"M628.058,-192.884C642.963,-181.006 659.728,-167.646 674.499,-155.876\"/>\n",
       "<polygon fill=\"black\" stroke=\"black\" points=\"676.836,-158.489 682.475,-149.52 672.473,-153.015 676.836,-158.489\"/>\n",
       "</g>\n",
       "<!-- 10 -->\n",
       "<g id=\"node11\" class=\"node\"><title>10</title>\n",
       "<path fill=\"#e58139\" fill-opacity=\"0.654902\" stroke=\"black\" d=\"M633,-53C633,-53 540,-53 540,-53 534,-53 528,-47 528,-41 528,-41 528,-12 528,-12 528,-6 534,-0 540,-0 540,-0 633,-0 633,-0 639,-0 645,-6 645,-12 645,-12 645,-41 645,-41 645,-47 639,-53 633,-53\"/>\n",
       "<text text-anchor=\"middle\" x=\"586.5\" y=\"-37.8\" font-family=\"Helvetica,sans-Serif\" font-size=\"14.00\">gini = 0.382</text>\n",
       "<text text-anchor=\"middle\" x=\"586.5\" y=\"-22.8\" font-family=\"Helvetica,sans-Serif\" font-size=\"14.00\">samples = 339</text>\n",
       "<text text-anchor=\"middle\" x=\"586.5\" y=\"-7.8\" font-family=\"Helvetica,sans-Serif\" font-size=\"14.00\">value = [252, 87]</text>\n",
       "</g>\n",
       "<!-- 9&#45;&gt;10 -->\n",
       "<g id=\"edge10\" class=\"edge\"><title>9&#45;&gt;10</title>\n",
       "<path fill=\"none\" stroke=\"black\" d=\"M586.5,-88.9485C586.5,-80.7153 586.5,-71.848 586.5,-63.4814\"/>\n",
       "<polygon fill=\"black\" stroke=\"black\" points=\"590,-63.2367 586.5,-53.2367 583,-63.2367 590,-63.2367\"/>\n",
       "</g>\n",
       "<!-- 11 -->\n",
       "<g id=\"node12\" class=\"node\"><title>11</title>\n",
       "<path fill=\"#399de5\" stroke=\"black\" d=\"M746,-53C746,-53 675,-53 675,-53 669,-53 663,-47 663,-41 663,-41 663,-12 663,-12 663,-6 669,-0 675,-0 675,-0 746,-0 746,-0 752,-0 758,-6 758,-12 758,-12 758,-41 758,-41 758,-47 752,-53 746,-53\"/>\n",
       "<text text-anchor=\"middle\" x=\"710.5\" y=\"-37.8\" font-family=\"Helvetica,sans-Serif\" font-size=\"14.00\">gini = 0.0</text>\n",
       "<text text-anchor=\"middle\" x=\"710.5\" y=\"-22.8\" font-family=\"Helvetica,sans-Serif\" font-size=\"14.00\">samples = 3</text>\n",
       "<text text-anchor=\"middle\" x=\"710.5\" y=\"-7.8\" font-family=\"Helvetica,sans-Serif\" font-size=\"14.00\">value = [0, 3]</text>\n",
       "</g>\n",
       "<!-- 9&#45;&gt;11 -->\n",
       "<g id=\"edge11\" class=\"edge\"><title>9&#45;&gt;11</title>\n",
       "<path fill=\"none\" stroke=\"black\" d=\"M629.869,-88.9485C642.473,-79.3431 656.209,-68.8747 668.714,-59.345\"/>\n",
       "<polygon fill=\"black\" stroke=\"black\" points=\"670.897,-62.0819 676.729,-53.2367 666.654,-56.5144 670.897,-62.0819\"/>\n",
       "</g>\n",
       "</g>\n",
       "</svg>\n"
      ],
      "text/plain": [
       "<graphviz.files.Source at 0x7f1efdb8dcf8>"
      ]
     },
     "execution_count": 63,
     "metadata": {},
     "output_type": "execute_result"
    }
   ],
   "source": [
    "from sklearn import tree\n",
    "import pydot\n",
    "from io import StringIO\n",
    "import graphviz\n",
    "#dotfile = StringIO()\n",
    "\n",
    "#plot the first three layers, so we can see hwat its splitting on the second layer\n",
    "tree.export_graphviz(tree_mod, out_file = \"tree.dot\", label =\"all\", filled = True, rounded = True, feature_names=unique_keys)\n",
    "with open(\"tree.dot\") as f:\n",
    "    dot_graph = f.read()\n",
    "\n",
    "graphviz.Source(dot_graph)\n",
    "#pydot.graph_from_dot_data(dotfile.getvalue()).write_png(\"dtree2.png\")"
   ]
  },
  {
   "cell_type": "code",
   "execution_count": null,
   "metadata": {
    "collapsed": true
   },
   "outputs": [],
   "source": []
  }
 ],
 "metadata": {
  "kernelspec": {
   "display_name": "Python [conda env:CSC401]",
   "language": "python",
   "name": "conda-env-CSC401-py"
  },
  "language_info": {
   "codemirror_mode": {
    "name": "ipython",
    "version": 3
   },
   "file_extension": ".py",
   "mimetype": "text/x-python",
   "name": "python",
   "nbconvert_exporter": "python",
   "pygments_lexer": "ipython3",
   "version": "3.6.3"
  }
 },
 "nbformat": 4,
 "nbformat_minor": 1
}
