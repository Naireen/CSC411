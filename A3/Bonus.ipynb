{
 "cells": [
  {
   "cell_type": "code",
   "execution_count": 1,
   "metadata": {
    "collapsed": true
   },
   "outputs": [],
   "source": [
    "#begin with initial analysis, and remove stop words?\n",
    "import time\n",
    "import numpy as np\n",
    "import pickle\n",
    "import matplotlib\n",
    "from matplotlib import pyplot as plt\n",
    "from sklearn import metrics\n",
    "from sklearn.model_selection import cross_val_score\n",
    "import sklearn"
   ]
  },
  {
   "cell_type": "code",
   "execution_count": 2,
   "metadata": {
    "collapsed": true
   },
   "outputs": [],
   "source": [
    "font = {'family' : 'normal',\n",
    "        'weight' : 'bold',\n",
    "        'size'   : 15}\n",
    "#matplotlib.rc('text', usetex=True)\n",
    "matplotlib.rc('font', **font)"
   ]
  },
  {
   "cell_type": "code",
   "execution_count": 3,
   "metadata": {
    "collapsed": true
   },
   "outputs": [],
   "source": [
    "import os\n",
    "train_r = pickle.load(open(\"train_r.pkl\", \"rb\"))\n",
    "train_b = pickle.load(open(\"train_b.pkl\", \"rb\"))\n",
    "valid_r = pickle.load(open(\"test_r.pkl\", \"rb\"))\n",
    "valid_b = pickle.load(open(\"test_b.pkl\", \"rb\"))"
   ]
  },
  {
   "cell_type": "code",
   "execution_count": 4,
   "metadata": {
    "collapsed": true
   },
   "outputs": [],
   "source": [
    "#concatenate everythin appropriately to have the final datasets\n",
    "one_label = np.ones(len(train_r))\n",
    "zeros_label = np.zeros(len(train_b))\n",
    "one_test = np.ones(len(valid_r))\n",
    "zero_test = np.zeros(len(valid_b))\n",
    "\n",
    "trainX = np.concatenate((train_r, train_b))\n",
    "trainY = np.concatenate((one_label, zeros_label))\n",
    "validX = np.concatenate((valid_r, valid_b))\n",
    "validY  = np.concatenate((one_test, zero_test))"
   ]
  },
  {
   "cell_type": "code",
   "execution_count": 5,
   "metadata": {
    "collapsed": false
   },
   "outputs": [
    {
     "name": "stdout",
     "output_type": "stream",
     "text": [
      "4818\n"
     ]
    }
   ],
   "source": [
    "#gerenate feature vectors \n",
    "total_words = {}\n",
    "for line in trainX:\n",
    "    words = line.split(\" \")\n",
    "    for word in words:\n",
    "        if word == \"\":\n",
    "            continue\n",
    "        try:\n",
    "            total_words[word]\n",
    "        except:\n",
    "            total_words[word] = True\n",
    "\n",
    "print(len(total_words.keys()))\n",
    "#dont add words in valid and test sets"
   ]
  },
  {
   "cell_type": "code",
   "execution_count": 6,
   "metadata": {
    "collapsed": true
   },
   "outputs": [],
   "source": [
    "#create training feats\n",
    "\n",
    "#print(len(validX))\n",
    "unique_keys = list(total_words.keys())\n",
    "unique_keys.sort()\n",
    "#print(unique_keys[:10])\n",
    "#account for a bias\n",
    "train_feats = np.zeros((len(trainX), len(total_words.keys()) ))\n",
    "for i, line in enumerate(trainX):\n",
    "    words = line.split(\" \")\n",
    "    #print(words)\n",
    "    for word in words:\n",
    "        if word ==\"\":\n",
    "            continue\n",
    "        #print(unique_keys.index(word))\n",
    "        ind = unique_keys.index(word)  \n",
    "        #plus one is so that the very first is the bias (here a bias of zero)\n",
    "        train_feats[i][ind] = 1\n",
    "\n",
    "\n",
    "#create testing features\n",
    "valid_feats = np.zeros((len(validX), len(total_words.keys())))\n",
    "for i , line in enumerate(validX):\n",
    "    words = line.split(\" \")\n",
    "    #print(len(words), end = \" \")\n",
    "    #if i ==0:\n",
    "        #print(words)\n",
    "    #print(words)\n",
    "    for word in words:\n",
    "        if word ==\"\":\n",
    "            continue\n",
    "        #account for value error:\n",
    "        try:\n",
    "            ind = unique_keys.index(word) \n",
    "            #print(ind)\n",
    "            valid_feats[i][ind] = 1\n",
    "        except:\n",
    "            continue       \n",
    "#inds = np.where(valid_feats ==1)[1]\n",
    "#print(\"\\n\", inds[:34])"
   ]
  },
  {
   "cell_type": "code",
   "execution_count": 7,
   "metadata": {
    "collapsed": false
   },
   "outputs": [],
   "source": [
    "from sklearn.ensemble import RandomForestClassifier\n",
    "#ensemble method\n",
    "rfc = RandomForestClassifier(random_state = 0, max_depth = 100, n_estimators = 100, n_jobs = -1, class_weight=\"balanced\")"
   ]
  },
  {
   "cell_type": "code",
   "execution_count": 8,
   "metadata": {
    "collapsed": false
   },
   "outputs": [
    {
     "data": {
      "text/plain": [
       "RandomForestClassifier(bootstrap=True, class_weight='balanced',\n",
       "            criterion='gini', max_depth=100, max_features='auto',\n",
       "            max_leaf_nodes=None, min_impurity_decrease=0.0,\n",
       "            min_impurity_split=None, min_samples_leaf=1,\n",
       "            min_samples_split=2, min_weight_fraction_leaf=0.0,\n",
       "            n_estimators=100, n_jobs=-1, oob_score=False, random_state=0,\n",
       "            verbose=0, warm_start=False)"
      ]
     },
     "execution_count": 8,
     "metadata": {},
     "output_type": "execute_result"
    }
   ],
   "source": [
    "rfc.fit(train_feats, trainY)\n"
   ]
  },
  {
   "cell_type": "code",
   "execution_count": 9,
   "metadata": {
    "collapsed": false
   },
   "outputs": [
    {
     "name": "stdout",
     "output_type": "stream",
     "text": [
      "[CV]  ................................................................\n",
      "[CV]  ................................................................\n",
      "[CV]  ................................................................\n",
      "[CV]  ................................................................\n",
      "[CV] ....................... , score=0.8431703204047217, total=  11.8s\n",
      "[CV]  ................................................................\n",
      "[CV] ....................... , score=0.8369747899159664, total=  12.5s\n"
     ]
    },
    {
     "name": "stderr",
     "output_type": "stream",
     "text": [
      "[Parallel(n_jobs=-1)]: Done   2 out of   5 | elapsed:   13.0s remaining:   19.4s\n"
     ]
    },
    {
     "name": "stdout",
     "output_type": "stream",
     "text": [
      "[CV] ....................... , score=0.8803986710963455, total=  12.9s\n",
      "[CV] ....................... , score=0.8415841584158416, total=  12.9s\n",
      "[CV] ....................... , score=0.8547297297297298, total=   4.0s\n",
      "0.851371533912521 0.015647178864262576\n"
     ]
    },
    {
     "name": "stderr",
     "output_type": "stream",
     "text": [
      "[Parallel(n_jobs=-1)]: Done   5 out of   5 | elapsed:   16.2s finished\n"
     ]
    }
   ],
   "source": [
    "#confirm with cross val score\n",
    "score = cross_val_score(rfc, train_feats, trainY, n_jobs= -1, cv = 5, scoring=\"f1\", verbose = 5)\n",
    "print(np.mean(score) ,np.std(score))"
   ]
  },
  {
   "cell_type": "code",
   "execution_count": 10,
   "metadata": {
    "collapsed": false
   },
   "outputs": [
    {
     "name": "stdout",
     "output_type": "stream",
     "text": [
      "0.8187372708757638 0.7935482391714201\n"
     ]
    }
   ],
   "source": [
    "preds = rfc.predict(valid_feats)\n",
    "a_score = metrics.accuracy_score(validY, preds)\n",
    "score  = metrics.average_precision_score(validY, preds)\n",
    "print(a_score, score)"
   ]
  },
  {
   "cell_type": "code",
   "execution_count": 2,
   "metadata": {
    "collapsed": true
   },
   "outputs": [],
   "source": [
    "import matplotlib.pyplot as plt"
   ]
  },
  {
   "cell_type": "code",
   "execution_count": 3,
   "metadata": {
    "collapsed": false
   },
   "outputs": [],
   "source": [
    "def plot_confusion_matrix(cm, classes,\n",
    "                          normalize=False,\n",
    "                          title='Confusion matrix',\n",
    "                          cmap=plt.cm.Blues):\n",
    "    \"\"\"\n",
    "    This function prints and plots the confusion matrix.\n",
    "    Normalization can be applied by setting `normalize=True`.\n",
    "    \"\"\"\n",
    "    if normalize:\n",
    "        cm = cm.astype('float') / cm.sum(axis=1)[:, np.newaxis]\n",
    "        print(\"Normalized confusion matrix\")\n",
    "    else:\n",
    "        print('Confusion matrix, without normalization')\n",
    "\n",
    "    print(cm)\n",
    "\n",
    "    plt.imshow(cm, interpolation='nearest', cmap=cmap)\n",
    "    plt.title(title)\n",
    "    plt.colorbar()\n",
    "    tick_marks = np.arange(len(classes))\n",
    "    plt.xticks(tick_marks, classes, rotation=45)\n",
    "    plt.yticks(tick_marks, classes)\n",
    "\n",
    "    fmt = '.2f' if normalize else 'd'\n",
    "    thresh = cm.max() / 2.\n",
    "    for i, j in itertools.product(range(cm.shape[0]), range(cm.shape[1])):\n",
    "        plt.text(j, i, format(cm[i, j], fmt),\n",
    "                 horizontalalignment=\"center\",\n",
    "                 color=\"white\" if cm[i, j] > thresh else \"black\")\n",
    "\n",
    "    plt.tight_layout()\n",
    "    plt.ylabel('True label')\n",
    "    plt.xlabel('Predicted label')\n"
   ]
  },
  {
   "cell_type": "code",
   "execution_count": 11,
   "metadata": {
    "collapsed": false
   },
   "outputs": [
    {
     "name": "stderr",
     "output_type": "stream",
     "text": [
      "/home/naireen/anaconda2/envs/CSC401/lib/python3.6/site-packages/matplotlib/font_manager.py:1316: UserWarning: findfont: Font family ['normal'] not found. Falling back to DejaVu Sans\n",
      "  (prop.get_family(), self.defaultFamily[fontext]))\n"
     ]
    },
    {
     "data": {
      "image/png": "[encoded data removed]",
      "text/plain": [
       "<matplotlib.figure.Figure at 0x7f83a2d2b390>"
      ]
     },
     "metadata": {},
     "output_type": "display_data"
    }
   ],
   "source": [
    "# plot graph\n",
    "plt.figure(figsize=(10,8))\n",
    "precision, recall, thresh = metrics.precision_recall_curve(validY, preds)\n",
    "plt.plot(precision, recall)\n",
    "plt.title(\"AUPRC: {0:.04}, Accuracy: {1:.04}\".format(score, a_score))\n",
    "plt.xlabel(\"Precision\")\n",
    "plt.ylabel(\"Recall\")\n",
    "plt.ylim([0,1.01])\n",
    "plt.show()"
   ]
  },
  {
   "cell_type": "code",
   "execution_count": 12,
   "metadata": {
    "collapsed": false
   },
   "outputs": [
    {
     "name": "stdout",
     "output_type": "stream",
     "text": [
      "0.8058570923021964 0.020196921798536882\n"
     ]
    }
   ],
   "source": [
    "score = cross_val_score(rfc, train_feats, trainY, n_jobs= -1, cv = 5, scoring=\"accuracy\")\n",
    "print(np.mean(score) ,np.std(score))"
   ]
  },
  {
   "cell_type": "code",
   "execution_count": 13,
   "metadata": {
    "collapsed": false
   },
   "outputs": [
    {
     "name": "stdout",
     "output_type": "stream",
     "text": [
      "0.9301056885085751 0.004251564644914123\n"
     ]
    }
   ],
   "source": [
    "score = cross_val_score(rfc, train_feats, trainY, n_jobs= -1, cv = 5, scoring=\"average_precision\")\n",
    "print(np.mean(score) ,np.std(score))"
   ]
  },
  {
   "cell_type": "markdown",
   "metadata": {},
   "source": [
    "accuracy is not good for imbalanced sets, and the other two compensate for that. explain diff between f1 and average precision scoring metrics"
   ]
  },
  {
   "cell_type": "code",
   "execution_count": 14,
   "metadata": {
    "collapsed": false
   },
   "outputs": [
    {
     "name": "stdout",
     "output_type": "stream",
     "text": [
      "[4285 1333 4429 2016 4413 4525   77 2265 2356  242]\n"
     ]
    }
   ],
   "source": [
    "# do feature score evaluation\n",
    "importances = rfc.feature_importances_\n",
    "import_keys = np.argsort(importances)[::-1]\n",
    "print(import_keys[:10])\n",
    "import_keys = np.flip(import_keys, axis = 0)\n",
    "importances = np.sort(importances)\n",
    "importances = np.flip(importances, axis = 0)"
   ]
  },
  {
   "cell_type": "code",
   "execution_count": 15,
   "metadata": {
    "collapsed": false
   },
   "outputs": [
    {
     "name": "stdout",
     "output_type": "stream",
     "text": [
      "[0 1 2 3 4 5 6 7 8 9] [0.03823946 0.03382351 0.02028465 0.01918675 0.01502512 0.01273438\n",
      " 0.01204756 0.00990484 0.00934945 0.00817969]\n",
      "[1837 2548 2550 2553 3510 3497 2558  812 4205 4206]\n",
      "['google' 'locals' 'locked' 'lodged' 'related' 'regulation' 'londons'\n",
      " 'christopher' 'table' 'tabloid']\n"
     ]
    },
    {
     "name": "stderr",
     "output_type": "stream",
     "text": [
      "/home/naireen/anaconda2/envs/CSC401/lib/python3.6/site-packages/matplotlib/font_manager.py:1316: UserWarning: findfont: Font family ['normal'] not found. Falling back to DejaVu Sans\n",
      "  (prop.get_family(), self.defaultFamily[fontext]))\n"
     ]
    },
    {
     "data": {
      "image/png": "[encoded data removed]",
      "text/plain": [
       "<matplotlib.figure.Figure at 0x7f83b7febd68>"
      ]
     },
     "metadata": {},
     "output_type": "display_data"
    }
   ],
   "source": [
    "x = np.arange(10)\n",
    "print(x, importances[:10])\n",
    "print(import_keys[:10])\n",
    "#\n",
    "unique_keys = np.asarray(unique_keys)\n",
    "print(unique_keys[import_keys[:10]])\n",
    "\n",
    "#unique_keys = np.flip(unique_keys)\n",
    "#print(unique_keys[import_keys[:10]])\n",
    "#plt.bar(unique_keys[import_keys[:10]], importances[:10])\n",
    "#plt.xticks(rotation = 45)\n",
    "#plt.xticks_labels()\n",
    "#plt.x_range = FactorRange(factors=unique_keys[import_keys[:10]])\n",
    "#plt.show()\n",
    "fig  = plt.figure(figsize=(10,5))\n",
    "ax = fig.add_subplot(\"111\")\n",
    "#ax = f.add_axes([0.1, 0.1, 0.8, 0.8])\n",
    "ax.bar(x, importances[:10])\n",
    "ax.set_xticks(x)\n",
    "plt.ylabel(\"Perctange Feature Importance\")\n",
    "plt.xlabel(\"Important Words\")\n",
    "ax.set_xticklabels(unique_keys[import_keys[:10]], rotation = 45)\n",
    "plt.show()"
   ]
  },
  {
   "cell_type": "code",
   "execution_count": 16,
   "metadata": {
    "collapsed": false
   },
   "outputs": [
    {
     "name": "stdout",
     "output_type": "stream",
     "text": [
      "(2287, 1000)\n"
     ]
    }
   ],
   "source": [
    "# use pca data, to get rid of data of wrds that are barely used\n",
    "#reduce features by half\n",
    "from sklearn.decomposition import PCA\n",
    "pca = PCA(n_components = 1000)\n",
    "pca.fit(train_feats)\n",
    "trimmed_train = pca.transform(train_feats)\n",
    "trimmed_valid = pca.transform(valid_feats)\n",
    "print(trimmed_train.shape)"
   ]
  },
  {
   "cell_type": "code",
   "execution_count": 17,
   "metadata": {
    "collapsed": false
   },
   "outputs": [
    {
     "name": "stdout",
     "output_type": "stream",
     "text": [
      "0.7992924989702812 0.019434969999769996\n"
     ]
    }
   ],
   "source": [
    "score = cross_val_score(rfc, trimmed_train, trainY, n_jobs= -1, cv = 5, scoring=\"accuracy\")\n",
    "print(np.mean(score) ,np.std(score))"
   ]
  },
  {
   "cell_type": "code",
   "execution_count": 18,
   "metadata": {
    "collapsed": false
   },
   "outputs": [
    {
     "name": "stdout",
     "output_type": "stream",
     "text": [
      "0.9301056885085751 0.004251564644914123\n"
     ]
    }
   ],
   "source": [
    "score = cross_val_score(rfc, train_feats, trainY, n_jobs= -1, cv = 5, scoring=\"average_precision\")\n",
    "print(np.mean(score) ,np.std(score))"
   ]
  },
  {
   "cell_type": "code",
   "execution_count": 19,
   "metadata": {
    "collapsed": true
   },
   "outputs": [],
   "source": [
    "# if features have been reduced, it doesn't make sense that you need the same tree depth, reduce depth as well\n",
    "# and then rerun the tests\n",
    "rfc2 = RandomForestClassifier(random_state = 0, max_depth = 15, n_estimators = 500, n_jobs = -1, verbose=True)"
   ]
  },
  {
   "cell_type": "code",
   "execution_count": 20,
   "metadata": {
    "collapsed": false,
    "scrolled": true
   },
   "outputs": [
    {
     "name": "stderr",
     "output_type": "stream",
     "text": [
      "[Parallel(n_jobs=-1)]: Done  42 tasks      | elapsed:    2.5s\n",
      "[Parallel(n_jobs=-1)]: Done  42 tasks      | elapsed:    2.6s\n",
      "[Parallel(n_jobs=-1)]: Done  42 tasks      | elapsed:    2.7s\n",
      "[Parallel(n_jobs=-1)]: Done  42 tasks      | elapsed:    2.6s\n",
      "[Parallel(n_jobs=-1)]: Done 192 tasks      | elapsed:   12.0s\n",
      "[Parallel(n_jobs=-1)]: Done 192 tasks      | elapsed:   12.3s\n",
      "[Parallel(n_jobs=-1)]: Done 192 tasks      | elapsed:   12.2s\n",
      "[Parallel(n_jobs=-1)]: Done 192 tasks      | elapsed:   12.2s\n",
      "[Parallel(n_jobs=-1)]: Done 442 tasks      | elapsed:   30.1s\n",
      "[Parallel(n_jobs=-1)]: Done 442 tasks      | elapsed:   30.5s\n",
      "[Parallel(n_jobs=-1)]: Done 442 tasks      | elapsed:   30.5s\n",
      "[Parallel(n_jobs=-1)]: Done 442 tasks      | elapsed:   30.4s\n",
      "[Parallel(n_jobs=-1)]: Done 500 out of 500 | elapsed:   33.6s finished\n",
      "[Parallel(n_jobs=4)]: Done  42 tasks      | elapsed:    0.0s\n",
      "[Parallel(n_jobs=4)]: Done 192 tasks      | elapsed:    0.1s\n",
      "[Parallel(n_jobs=-1)]: Done 500 out of 500 | elapsed:   33.9s finished\n",
      "[Parallel(n_jobs=4)]: Done 442 tasks      | elapsed:    0.2s\n",
      "[Parallel(n_jobs=4)]: Done 500 out of 500 | elapsed:    0.3s finished\n",
      "[Parallel(n_jobs=-1)]: Done 500 out of 500 | elapsed:   33.9s finished\n",
      "[Parallel(n_jobs=4)]: Done  42 tasks      | elapsed:    0.0s\n",
      "[Parallel(n_jobs=4)]: Done 192 tasks      | elapsed:    0.1s\n",
      "[Parallel(n_jobs=4)]: Done  42 tasks      | elapsed:    0.0s\n",
      "[Parallel(n_jobs=4)]: Done 442 tasks      | elapsed:    0.2s\n",
      "[Parallel(n_jobs=4)]: Done 192 tasks      | elapsed:    0.1s\n",
      "[Parallel(n_jobs=4)]: Done 500 out of 500 | elapsed:    0.3s finished\n",
      "[Parallel(n_jobs=-1)]: Done 500 out of 500 | elapsed:   33.9s finished\n",
      "[Parallel(n_jobs=4)]: Done  42 tasks      | elapsed:    0.0s\n",
      "[Parallel(n_jobs=4)]: Done 442 tasks      | elapsed:    0.2s\n",
      "[Parallel(n_jobs=4)]: Done 500 out of 500 | elapsed:    0.3s finished\n",
      "[Parallel(n_jobs=4)]: Done 192 tasks      | elapsed:    0.1s\n",
      "[Parallel(n_jobs=4)]: Done 442 tasks      | elapsed:    0.1s\n",
      "[Parallel(n_jobs=4)]: Done 500 out of 500 | elapsed:    0.2s finished\n",
      "[Parallel(n_jobs=-1)]: Done  42 tasks      | elapsed:    0.7s\n",
      "[Parallel(n_jobs=-1)]: Done 192 tasks      | elapsed:    3.0s\n",
      "[Parallel(n_jobs=-1)]: Done 442 tasks      | elapsed:    7.1s\n",
      "[Parallel(n_jobs=-1)]: Done 500 out of 500 | elapsed:    8.0s finished\n",
      "[Parallel(n_jobs=4)]: Done  42 tasks      | elapsed:    0.0s\n",
      "[Parallel(n_jobs=4)]: Done 192 tasks      | elapsed:    0.1s\n",
      "[Parallel(n_jobs=4)]: Done 442 tasks      | elapsed:    0.1s\n",
      "[Parallel(n_jobs=4)]: Done 500 out of 500 | elapsed:    0.1s finished\n"
     ]
    },
    {
     "name": "stdout",
     "output_type": "stream",
     "text": [
      "[0.82969432 0.8209607  0.84497817 0.82713348 0.81578947]\n"
     ]
    }
   ],
   "source": [
    "score = cross_val_score(rfc2, trimmed_train, trainY, n_jobs= -1, cv = 5, scoring=\"accuracy\")\n",
    "print(score)"
   ]
  },
  {
   "cell_type": "code",
   "execution_count": 21,
   "metadata": {
    "collapsed": false
   },
   "outputs": [
    {
     "name": "stdout",
     "output_type": "stream",
     "text": [
      "0.8277112281338781 0.009900620967684013\n"
     ]
    },
    {
     "name": "stderr",
     "output_type": "stream",
     "text": [
      "[Parallel(n_jobs=-1)]: Done  42 tasks      | elapsed:    0.9s\n",
      "[Parallel(n_jobs=-1)]: Done 192 tasks      | elapsed:    3.8s\n",
      "[Parallel(n_jobs=-1)]: Done 442 tasks      | elapsed:    8.8s\n",
      "[Parallel(n_jobs=-1)]: Done 500 out of 500 | elapsed:    9.9s finished\n",
      "[Parallel(n_jobs=4)]: Done  42 tasks      | elapsed:    0.0s\n",
      "[Parallel(n_jobs=4)]: Done 192 tasks      | elapsed:    0.0s\n",
      "[Parallel(n_jobs=4)]: Done 442 tasks      | elapsed:    0.1s\n",
      "[Parallel(n_jobs=4)]: Done 500 out of 500 | elapsed:    0.1s finished\n"
     ]
    },
    {
     "name": "stdout",
     "output_type": "stream",
     "text": [
      "score 0.745417515274949\n"
     ]
    }
   ],
   "source": [
    "print(np.mean(score) ,np.std(score))\n",
    "rfc2.fit(trimmed_train, trainY)\n",
    "preds = rfc2.predict(trimmed_valid)\n",
    "print(\"score\", metrics.accuracy_score(validY, preds))\n",
    "#generalizes poorly "
   ]
  },
  {
   "cell_type": "code",
   "execution_count": null,
   "metadata": {
    "collapsed": true
   },
   "outputs": [],
   "source": []
  }
 ],
 "metadata": {
  "anaconda-cloud": {},
  "kernelspec": {
   "display_name": "Python [conda env:CSC401]",
   "language": "python",
   "name": "conda-env-CSC401-py"
  },
  "language_info": {
   "codemirror_mode": {
    "name": "ipython",
    "version": 3
   },
   "file_extension": ".py",
   "mimetype": "text/x-python",
   "name": "python",
   "nbconvert_exporter": "python",
   "pygments_lexer": "ipython3",
   "version": "3.6.3"
  }
 },
 "nbformat": 4,
 "nbformat_minor": 1
}
