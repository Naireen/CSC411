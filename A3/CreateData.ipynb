{
 "cells": [
  {
   "cell_type": "code",
   "execution_count": 1,
   "metadata": {
    "collapsed": false
   },
   "outputs": [],
   "source": [
    "#print(valid_r_preds[:, 1])\n",
    "#calculate the predictions of it being real for all, fake is the oppostion\n",
    "import matplotlib\n",
    "from matplotlib import pyplot as plt\n",
    "#final_guesses[:len(valid_r)]"
   ]
  },
  {
   "cell_type": "code",
   "execution_count": 2,
   "metadata": {
    "collapsed": true
   },
   "outputs": [],
   "source": [
    "import numpy as np\n",
    "import pandas as pd\n",
    "import os\n",
    "import time\n",
    "import pickle"
   ]
  },
  {
   "cell_type": "code",
   "execution_count": 3,
   "metadata": {
    "collapsed": false
   },
   "outputs": [
    {
     "name": "stdout",
     "output_type": "stream",
     "text": [
      "1378 295 296\n",
      "909 195 195\n"
     ]
    }
   ],
   "source": [
    "#create data\n",
    "#good = np.loadtxt(\"clean_real.txt\", dtype = str)\n",
    "def make_data():\n",
    "    good = open(\"clean_real.txt\", \"r\")\n",
    "    words = good.read()\n",
    "    words = words.split(\"\\n\")\n",
    "    #print(len(words))\n",
    "    total = len(words)\n",
    "    np.random.seed(0)\n",
    "    np.random.shuffle(words)\n",
    "    #print(words[0])\n",
    "    end1 = int(total*0.7)\n",
    "    end2 = int(total*0.85)\n",
    "    train = words[:end1]\n",
    "    valid = words[end1:end2]\n",
    "    test = words[end2:]\n",
    "    print(len(train), len(valid), len(test))\n",
    "\n",
    "    bad = open(\"clean_fake.txt\", \"r\")\n",
    "    words = bad.read()\n",
    "    words = words.split(\"\\n\")\n",
    "    #print(len(words))\n",
    "    total = len(words)\n",
    "    np.random.seed(0)\n",
    "    np.random.shuffle(words)\n",
    "    #print(words[0])\n",
    "    end1 = int(total*0.7)\n",
    "    end2 = int(total*0.85)\n",
    "    train_bad = words[:end1]\n",
    "    valid_bad = words[end1:end2]\n",
    "    test_bad = words[end2:]\n",
    "    print(len(train_bad), len(valid_bad), len(test_bad))\n",
    "    \n",
    "    return train, valid, test, train_bad, valid_bad, test_bad\n",
    "p1, p2, p3, p4, p5, p6 = make_data()"
   ]
  },
  {
   "cell_type": "code",
   "execution_count": 7,
   "metadata": {
    "collapsed": false
   },
   "outputs": [],
   "source": [
    "#p1.extend(p4)\n",
    "#p2.extend(p5)\n",
    "#p3.extend(p6)\n",
    "pickle.dump(p1, open(\"train_r.pkl\", \"wb\"))\n",
    "pickle.dump(p2, open(\"valid_r.pkl\", \"wb\"))\n",
    "pickle.dump(p3, open(\"test_r.pkl\", \"wb\"))\n",
    "pickle.dump(p4, open(\"train_b.pkl\", \"wb\"))\n",
    "pickle.dump(p5, open(\"valid_b.pkl\", \"wb\"))\n",
    "pickle.dump(p6, open(\"test_b.pkl\", \"wb\"))\n",
    "\n",
    "p1 = np.asarray(p1)\n",
    "p2 = np.asarray(p2)\n",
    "p3 = np.asarray(p3)\n",
    "\n",
    "p4 = np.asarray(p4)\n",
    "p5 = np.asarray(p5)\n",
    "p6 = np.asarray(p6)\n",
    "real = np.concatenate((p1, p2, p3))\n",
    "fake = np.concatenate((p4, p5, p6))\n"
   ]
  },
  {
   "cell_type": "markdown",
   "metadata": {},
   "source": [
    "Use the native Bayes Algorithm"
   ]
  },
  {
   "cell_type": "code",
   "execution_count": 16,
   "metadata": {
    "collapsed": false
   },
   "outputs": [
    {
     "name": "stdout",
     "output_type": "stream",
     "text": [
      "nc trump supporter hangs clinton in effigy at rally says she deserves prison\n",
      "facebook nazi thought police editors threaten to quit if mark zuckerberg doesnt ban donald trump for hate speech\n",
      "texas ask for a paper ballot at polling stations where george soros electronic voting machines are rigged to switch trump votes to hillary\n",
      "democrats plan to burn down u if trump elected\n",
      "texas official sees record breaking turnout and it all for trump\n",
      "homeless trump supporter posts as guard for trump hollywood star liberals lose it\n",
      "israeli supporters of donald trump rally at jerusalem forever event in israel capital city\n",
      "the man behind the trump rally disturbance in reno\n",
      "the intercept outs neocon democrat smear against trump as putin puppet\n",
      "speculation trump promotes nsa boss rogers to dni because he leaked the clinton emails\n",
      "clinton policy on syria would lead to ww iii trump\n",
      "the fbi clinton email investigation has shifted poll numbers significantly in trump favor\n",
      "russia warns us is now a colour revolution active zone due to trump victory\n",
      "texas police arrest trump voter for wearing deplorable t shirt\n",
      "fox latinos are already crushing trump at the polls\n",
      "obama trump display unity in white house meeting\n",
      "snowflake colbert didnt want to write jokes about trump winning daily wire\n",
      "donald trump en 5 dates le gorafi\n",
      "new play vicu a portrays trump in emperor new clothes tale\n",
      "revealed trump financial backers paid a playmate 150 000 in hush money to hide affair\n",
      "lol remember when obama told trump he d never be president american lookout\n",
      "if you thought the trump child rape case in ny couldnt get much worse you were wrong\n",
      "trump wont prosecute hillary dismissing things that sound like the campaign\n",
      "i m a hispanic woman and i am voting for donald trump\n",
      "hot norpoth model predicts trump presidency\n",
      "donald trump minnesota has suffered enough accepting refugees\n",
      "breaking trump just gave obama horrible news check out what the pentagon just did\n",
      "non mainstream poll shows trump poised to win with 76 chance\n",
      "megyn kelly makes bombshell admission about trump and the media\n",
      "trump the president what does that mean for the world countercurrents org\n",
      "netanyahu calls trump true friend of israel likud party pols call for u embassy move to jerusalem\n",
      "whether it john mccain mitt romney or donald trump democrats always run war on women tactic to destroy the republican candidate\n",
      "trump and clinton assemble army of lawyers to contest election results\n",
      "trump invigorates new american volk by formulating u einsatzgruppen\n",
      "breaking trump announces devastating cuts to social security his reason will make you vomit\n",
      "counting 100 over trump gets 306 electors media refuses to update maps\n",
      "ha ha look at arkansas today trump 28\n",
      "queen claims 70 years of prince philip is perfect preparation for donald trump\n",
      "america might not deserve trump but dems and hillary deserved to lose\n",
      "video trump voter dragged from his car brutally beaten and robbed by gang of hillary supporters daily wire\n",
      "\n",
      "north korea calls trump warning a load of nonsense\n",
      "what happens now to us cuba relations fidel castro trump\n",
      "donald trump muslim ban immediate consequences zoe daniel\n",
      "trump gives dramatic first official press\n",
      "us election hillary clinton donald trump camps react to results\n",
      "donald trump shared worst call with malcolm turnbull\n",
      "trumps g20 video includes make america great again anthem\n",
      "george clooney on harvey weinstein donald trump fox news\n",
      "donald trump and hillary clinton bitter us election campaign\n",
      "conservative hindus see parallels donald trump narendra modi\n",
      "trump supporters expecting delivery on key promises\n",
      "will the afghan attack affect donald trumps troops decision\n",
      "hillary clinton on trump\n",
      "donald trump delivered two blows to obamacare today\n",
      "trumps biggest weakness is the power hes given his family\n",
      "donald trump faces new lawsuit over transgender military ban\n",
      "donald trump jared kushner under fbi investigation russia ties\n",
      "trump repeatedly demeaned women on hit show the apprentice\n",
      "robert de niro says he would like to punch trump\n",
      "trump administration officials may be deposed over travel ban\n",
      "trump travel ban order the key differences analysis\n",
      "trump formally wins presidency\n",
      "us attorney general sessions brushes off trump criticism\n",
      "donald trump scrapping tpp has analysts fearing china row\n",
      "donald trump hugs narendra modi at white house\n",
      "pimco warns trump protectionist policies risk\n",
      "trump felt scaramuccis comments were inappropriate\n",
      "donald trump under pressure not to leave dreamers in limbo\n",
      "trump posts wrestling video of him physically beating up cnn\n",
      "donald trump team exploring ways to hamper russia probe\n",
      "un votes to reject trump push to move capital to jerusalem\n",
      "live blog donald trump hillary clinton third presidential debate\n",
      "lucia osborne crowley trump tape voter reactions\n",
      "trump counters criticism of his national security adviser\n",
      "donald trump meets xi jinping for talks in florida\n",
      "trumps team says we are behind but can still win the race\n",
      "charlottesville car attack suspect charged trump under fire\n",
      "trump decides to skip white house press dinner\n",
      "donald trump signs executive orders on immigration\n",
      "zambia fears health programs suffer under trump foreign aid cuts\n"
     ]
    }
   ],
   "source": [
    "for line in fake[:40]:\n",
    "    print(line)\n",
    "    \n",
    "print()\n",
    "for line in real[:40]:\n",
    "    print(line)"
   ]
  },
  {
   "cell_type": "markdown",
   "metadata": {},
   "source": [
    "Determine some stats to guess which three words will determine fake and real news\n"
   ]
  },
  {
   "cell_type": "markdown",
   "metadata": {
    "collapsed": true
   },
   "source": [
    "The key words donald and hilary are not useful, sinc ethey appear alot in real and fake news\n",
    "check obama"
   ]
  },
  {
   "cell_type": "code",
   "execution_count": 43,
   "metadata": {
    "collapsed": false
   },
   "outputs": [
    {
     "name": "stdout",
     "output_type": "stream",
     "text": [
      "north korea calls trump warning a load of nonsense what happens now to us cuba relations fidel castro trump donald trump muslim ban immediat\n",
      "nc trump supporter hangs clinton in effigy at rally says she deserves prison facebook nazi thought police editors threaten to quit if mark z\n",
      "1969 1299\n"
     ]
    }
   ],
   "source": [
    "real_words = real.flatten()\n",
    "total_real = real.shape[0]\n",
    "real_words = \" \".join(real_words)\n",
    "print(real_words[:140])\n",
    "\n",
    "fake_words = fake.flatten()\n",
    "total_fake = fake.shape[0]\n",
    "fake_words = \" \".join(fake_words)\n",
    "print(fake_words[:140])\n",
    "print(total_real, total_fake)"
   ]
  },
  {
   "cell_type": "markdown",
   "metadata": {},
   "source": [
    "determine stats"
   ]
  },
  {
   "cell_type": "code",
   "execution_count": 44,
   "metadata": {
    "collapsed": true
   },
   "outputs": [],
   "source": [
    "#count words of trump in both list\n",
    "import re"
   ]
  },
  {
   "cell_type": "code",
   "execution_count": 57,
   "metadata": {
    "collapsed": true
   },
   "outputs": [],
   "source": [
    "def count_words(word, real_words, fake_words):\n",
    "    count = sum(1 for _ in re.finditer(r'\\b%s\\b' % re.escape(word), real_words))\n",
    "    count2 = sum(1 for _ in re.finditer(r'\\b%s\\b' % re.escape(word), fake_words))\n",
    "    #print(\"Word: {0}, Count in real: {1}/{3}, Count in fake : {2}/{4}\".format(word, count, count2, total_real, total_fake))\n",
    "    print(\" {0} {1:.04} {2:.04}\".format(word, count/total_real, count2/total_fake, total_real, total_fake))"
   ]
  },
  {
   "cell_type": "code",
   "execution_count": 58,
   "metadata": {
    "collapsed": false
   },
   "outputs": [
    {
     "name": "stdout",
     "output_type": "stream",
     "text": [
      " trump 0.8857 1.022\n",
      " obama 0.01727 0.04619\n",
      " hillary 0.01219 0.1155\n",
      " immigration 0.01117 0.002309\n",
      " muslim 0.003047 0.004619\n",
      " syria 0.009142 0.006928\n",
      " finance 0.002539 0.0\n",
      " war 0.00711 0.02232\n",
      " polls 0.002031 0.01155\n"
     ]
    }
   ],
   "source": [
    "count_words(\"trump\", real_words, fake_words)\n",
    "count_words(\"obama\", real_words, fake_words)\n",
    "count_words(\"hillary\", real_words, fake_words)\n",
    "count_words(\"immigration\", real_words, fake_words)\n",
    "count_words(\"muslim\", real_words, fake_words)\n",
    "count_words(\"syria\", real_words, fake_words)\n",
    "count_words(\"finance\", real_words, fake_words)\n",
    "count_words(\"war\", real_words, fake_words)\n",
    "count_words(\"polls\", real_words, fake_words)"
   ]
  },
  {
   "cell_type": "code",
   "execution_count": null,
   "metadata": {
    "collapsed": true
   },
   "outputs": [],
   "source": []
  }
 ],
 "metadata": {
  "anaconda-cloud": {},
  "kernelspec": {
   "display_name": "Python [conda env:CSC401]",
   "language": "python",
   "name": "conda-env-CSC401-py"
  },
  "language_info": {
   "codemirror_mode": {
    "name": "ipython",
    "version": 3
   },
   "file_extension": ".py",
   "mimetype": "text/x-python",
   "name": "python",
   "nbconvert_exporter": "python",
   "pygments_lexer": "ipython3",
   "version": "3.6.3"
  }
 },
 "nbformat": 4,
 "nbformat_minor": 1
}
