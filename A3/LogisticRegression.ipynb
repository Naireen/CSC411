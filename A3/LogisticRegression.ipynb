{
 "cells": [
  {
   "cell_type": "code",
   "execution_count": 278,
   "metadata": {
    "collapsed": true
   },
   "outputs": [],
   "source": [
    "import numpy as np\n",
    "import pickle\n",
    "from numpy.linalg import norm\n"
   ]
  },
  {
   "cell_type": "code",
   "execution_count": 279,
   "metadata": {
    "collapsed": false
   },
   "outputs": [
    {
     "name": "stdout",
     "output_type": "stream",
     "text": [
      "['train_b.pkl', 'CreateData.ipynb', 'train.pkl', 'valid_b.pkl', 'clean_real.txt', 'NativeBayes.ipynb', 'test_b.pkl', 'train_r.pkl', 'test_r.pkl', 'train.pickle', 'clean_fake.txt', 'LogisticRegression.ipynb', 'valid.pkl', 'valid_r.pkl', '.ipynb_checkpoints', 'test.pkl']\n"
     ]
    }
   ],
   "source": [
    "import os\n",
    "print(os.listdir(\".\"))\n",
    "train_r = pickle.load(open(\"train_r.pkl\", \"rb\"))\n",
    "train_b = pickle.load(open(\"train_b.pkl\", \"rb\"))\n",
    "valid_r = pickle.load(open(\"valid_r.pkl\", \"rb\"))\n",
    "valid_b = pickle.load(open(\"valid_b.pkl\", \"rb\"))"
   ]
  },
  {
   "cell_type": "code",
   "execution_count": 280,
   "metadata": {
    "collapsed": true
   },
   "outputs": [],
   "source": [
    "from sklearn.linear_model import LogisticRegression"
   ]
  },
  {
   "cell_type": "code",
   "execution_count": 281,
   "metadata": {
    "collapsed": true
   },
   "outputs": [],
   "source": [
    "lr = LogisticRegression()"
   ]
  },
  {
   "cell_type": "code",
   "execution_count": 282,
   "metadata": {
    "collapsed": false
   },
   "outputs": [
    {
     "name": "stdout",
     "output_type": "stream",
     "text": [
      "['trump and trade richardson every', 'trump charlottesville condemnation included neo nazis whitehouse', 'hameed darweesh iraqi refugee detained at jfk after trump order']\n"
     ]
    }
   ],
   "source": [
    "print(valid_r[:3])"
   ]
  },
  {
   "cell_type": "code",
   "execution_count": 283,
   "metadata": {
    "collapsed": false
   },
   "outputs": [
    {
     "name": "stdout",
     "output_type": "stream",
     "text": [
      "['trump and trade richardson every'\n",
      " 'trump charlottesville condemnation included neo nazis whitehouse'\n",
      " 'hameed darweesh iraqi refugee detained at jfk after trump order'] 490\n"
     ]
    }
   ],
   "source": [
    "one_label = np.ones(len(train_r))\n",
    "zeros_label = np.zeros(len(train_b))\n",
    "one_test = np.ones(len(valid_r))\n",
    "zero_test = np.zeros(len(valid_b))\n",
    "trainX = np.concatenate((train_r, train_b))\n",
    "trainY = np.concatenate((one_label, zeros_label))\n",
    "validX = np.concatenate((valid_r, valid_b))\n",
    "validY  = np.concatenate((one_test, zero_test))\n",
    "print(validX[:3], len(validX))"
   ]
  },
  {
   "cell_type": "code",
   "execution_count": 305,
   "metadata": {
    "collapsed": false
   },
   "outputs": [
    {
     "name": "stdout",
     "output_type": "stream",
     "text": [
      "4818\n"
     ]
    }
   ],
   "source": [
    "#gerenate feature vectors \n",
    "total_words = {}\n",
    "for line in trainX:\n",
    "    words = line.split(\" \")\n",
    "    for word in words:\n",
    "        if word == \"\":\n",
    "            continue\n",
    "        try:\n",
    "            total_words[word]\n",
    "        except:\n",
    "            total_words[word] = True\n",
    "\n",
    "print(len(total_words.keys()))\n",
    "#dont add words in valid and test sets"
   ]
  },
  {
   "cell_type": "code",
   "execution_count": 307,
   "metadata": {
    "collapsed": false
   },
   "outputs": [],
   "source": [
    "#create training feats\n",
    "\n",
    "#print(len(validX))\n",
    "unique_keys = list(total_words.keys())\n",
    "unique_keys.sort()\n",
    "#print(unique_keys[:10])\n",
    "#account for a bias\n",
    "train_feats = np.zeros((len(trainX), len(total_words.keys()) ))\n",
    "for i, line in enumerate(trainX):\n",
    "    words = line.split(\" \")\n",
    "    #print(words)\n",
    "    for word in words:\n",
    "        if word ==\"\":\n",
    "            continue\n",
    "        #print(unique_keys.index(word))\n",
    "        ind = unique_keys.index(word)  \n",
    "        #plus one is so that the very first is the bias (here a bias of zero)\n",
    "        train_feats[i][ind] = 1\n",
    "\n",
    "\n",
    "#create testing features\n",
    "valid_feats = np.zeros((len(validX), len(total_words.keys())))\n",
    "for i , line in enumerate(validX):\n",
    "    words = line.split(\" \")\n",
    "    #print(len(words), end = \" \")\n",
    "    #if i ==0:\n",
    "        #print(words)\n",
    "    #print(words)\n",
    "    for word in words:\n",
    "        if word ==\"\":\n",
    "            continue\n",
    "        #account for value error:\n",
    "        try:\n",
    "            ind = unique_keys.index(word) \n",
    "            #print(ind)\n",
    "            valid_feats[i][ind] = 1\n",
    "        except:\n",
    "            continue       \n",
    "#inds = np.where(valid_feats ==1)[1]\n",
    "#print(\"\\n\", inds[:34])"
   ]
  },
  {
   "cell_type": "code",
   "execution_count": 308,
   "metadata": {
    "collapsed": false
   },
   "outputs": [],
   "source": [
    "#logistic regression model from assignment 1.\n",
    "def grad_descent(f, df, x, y, reg, init_t, alpha, EPS=1e-4):\n",
    "    print(reg)\n",
    "    #EPS = 1e-4   #EPS = 10**(-5)\n",
    "    prev_t = init_t-10*EPS\n",
    "    t = init_t.copy()\n",
    "    max_iter = 400\n",
    "    iter  = 0\n",
    "    while norm(t - prev_t) >  EPS and iter < max_iter:\n",
    "        prev_t = t.copy()\n",
    "        t -= alpha*df(x, y, t, reg)\n",
    "        if iter % 50 == 0:\n",
    "            print(\"Iter\", iter)\n",
    "        iter += 1\n",
    "    print(\"Iter\", iter)\n",
    "    return t"
   ]
  },
  {
   "cell_type": "code",
   "execution_count": 309,
   "metadata": {
    "collapsed": true
   },
   "outputs": [],
   "source": [
    "#assume here that x is already flattened\n",
    "def f(x, y, theta, reg):\n",
    "    bias = np.ones( (1, x.shape[0])).T\n",
    "    x = np.vstack( (bias.T, x.T))\n",
    "    #print( np.sum(theta**2))\n",
    "    return np.sum((y - np.dot(theta.T, x))**2) - reg*np.sum(theta**2)\n",
    "    \n",
    "def df(x, y, theta ,reg):\n",
    "    bias = np.ones( (1, x.shape[0])).T\n",
    "    x = np.vstack( (bias.T, x.T))\n",
    "    #print( np.sum(theta) )\n",
    "    return -2*np.sum((y-np.dot(theta.T, x))*x, 1) - 2.*reg*theta"
   ]
  },
  {
   "cell_type": "code",
   "execution_count": 310,
   "metadata": {
    "collapsed": true
   },
   "outputs": [],
   "source": [
    "np.random.seed(0)\n",
    "#this is used to create the two differentn types of images, uncomment the one that you dont want\n",
    "theta0 = np.random.random((len(unique_keys)+1))*5\n",
    "theta0 = np.ones_like(theta0)"
   ]
  },
  {
   "cell_type": "code",
   "execution_count": 311,
   "metadata": {
    "collapsed": false,
    "scrolled": true
   },
   "outputs": [
    {
     "name": "stdout",
     "output_type": "stream",
     "text": [
      "0.15\n",
      "Iter 0\n",
      "Iter 50\n",
      "Iter 100\n",
      "Iter 150\n",
      "Iter 200\n",
      "Iter 250\n",
      "Iter 300\n",
      "Iter 350\n",
      "Iter 400\n",
      "CPU times: user 54.3 s, sys: 10.3 s, total: 1min 4s\n",
      "Wall time: 32.4 s\n"
     ]
    }
   ],
   "source": [
    "%%time\n",
    "theta = grad_descent(f, df, train_feats, trainY,0.15,  theta0, 0.0001, EPS=5e-3)"
   ]
  },
  {
   "cell_type": "code",
   "execution_count": 312,
   "metadata": {
    "collapsed": false
   },
   "outputs": [
    {
     "name": "stdout",
     "output_type": "stream",
     "text": [
      "(490, 4819) (4819,) (490,)\n",
      "242 490\n",
      "0.49387755102040815\n"
     ]
    }
   ],
   "source": [
    "#learning curve\n",
    "valid_data_ones = np.concatenate((np.ones((1, valid_feats.shape[0])).T, valid_feats), axis = 1)\n",
    "preds = np.dot( valid_data_ones, theta)\n",
    "print(valid_data_ones.shape, theta.shape, preds.shape)\n",
    "preds_binary= np.zeros_like(preds)\n",
    "#preds_binary[preds<0.5] = 0\n",
    "preds_binary[preds>0.5] = 1\n",
    "#print(preds)\n",
    "print(len(np.where(validY ==preds_binary)[0]), validY.shape[0])\n",
    "print(len(np.where(validY ==preds_binary)[0])/ validY.shape[0])\n",
    "#print(validY)"
   ]
  },
  {
   "cell_type": "code",
   "execution_count": 313,
   "metadata": {
    "collapsed": true
   },
   "outputs": [],
   "source": [
    "#logistic regression model from assignment 1.\n",
    "def track_grad_descent(f, df, x, y,reg, init_t, alpha, EPS=1e-4):\n",
    "    #EPS = 1e-4   #EPS = 10**(-5)\n",
    "    prev_t = init_t-10*EPS\n",
    "    t = init_t.copy()\n",
    "    #times = np.linspace()\n",
    "    max_iter = 1300\n",
    "    iter  = 0\n",
    "    thresh = 25\n",
    "    iterations = np.arange(max_iter//thresh +1)*thresh\n",
    "    learn_train = [0]#np.zeros_like(iterations)\n",
    "    learn_valid = [0]#np.zeros_like(iterations)\n",
    "    counter = 1\n",
    "    while norm(t - prev_t) >  EPS and iter < max_iter:\n",
    "        prev_t = t.copy()\n",
    "        t -= alpha*df(x, y, t, reg)\n",
    "        if iter % 500 == 0:\n",
    "            print(\"Iter\", iter)\n",
    "        if (iter%thresh==thresh-1):\n",
    "            #train scores\n",
    "            train_data_ones = np.concatenate((np.ones((1, train_feats.shape[0])).T, train_feats), axis = 1)\n",
    "            preds = np.dot(train_data_ones, prev_t)\n",
    "            preds_binary= np.zeros_like(preds)\n",
    "            preds_binary[preds<0.5] = 0\n",
    "            preds_binary[preds>0.5] = 1\n",
    "            val = len(np.where(trainY ==preds_binary)[0])/ float(trainY.shape[0])\n",
    "            print(val)\n",
    "            #print(learn_train[:], print(type(learn_train)))\n",
    "            #print(learn_train, counter)\n",
    "            #learn_train[:] = val\n",
    "            learn_train.append(val)\n",
    "            #learn_train = val\n",
    "            #learn_train[0] = val\n",
    "            #print(learn_train)\n",
    "            \n",
    "            #validationscores\n",
    "            valid_data_ones = np.concatenate((np.ones((1, valid_feats.shape[0])).T, valid_feats), axis = 1)\n",
    "            preds = np.dot( valid_data_ones, prev_t)\n",
    "            preds_binary= np.zeros_like(preds)\n",
    "            preds_binary[preds<0.5] = 0\n",
    "            preds_binary[preds>0.5] = 1\n",
    "            val =len(np.where(validY ==preds_binary)[0])/ float(validY.shape[0])\n",
    "            print(val)\n",
    "            learn_valid.append(val)\n",
    "            #learn_valid[counter] = val\n",
    "            #print(learn_valid)\n",
    "            #counter +=1\n",
    "            \n",
    "        iter += 1\n",
    "    print(learn_train, learn_valid)\n",
    "    print(\"Iter\", iter)\n",
    "    return t, learn_train, learn_valid"
   ]
  },
  {
   "cell_type": "code",
   "execution_count": 314,
   "metadata": {
    "collapsed": false,
    "scrolled": true
   },
   "outputs": [
    {
     "name": "stdout",
     "output_type": "stream",
     "text": [
      "Iter 0\n",
      "0.42369916921731526\n",
      "0.4448979591836735\n",
      "0.45999125491910803\n",
      "0.47346938775510206\n",
      "0.49365981635330125\n",
      "0.46530612244897956\n",
      "0.5080891998250984\n",
      "0.49387755102040815\n",
      "0.5212068211630958\n",
      "0.49183673469387756\n",
      "0.5373852208132925\n",
      "0.5040816326530613\n",
      "0.5544381285526891\n",
      "0.5020408163265306\n",
      "0.5658067337122868\n",
      "0.5122448979591837\n",
      "0.5767380848272846\n",
      "0.5306122448979592\n",
      "0.5859204197638828\n",
      "0.5346938775510204\n",
      "0.5959772627896808\n",
      "0.536734693877551\n",
      "0.6012243113248797\n",
      "0.536734693877551\n",
      "0.609969392216878\n",
      "0.5448979591836735\n",
      "0.6191517271534762\n",
      "0.5469387755102041\n",
      "0.6274595540008745\n",
      "0.5489795918367347\n",
      "0.6327066025360735\n",
      "0.5428571428571428\n",
      "0.6405771753388719\n",
      "0.5387755102040817\n",
      "0.6488850021862702\n",
      "0.536734693877551\n",
      "0.6541320507214692\n",
      "0.5408163265306123\n",
      "0.6624398775688675\n",
      "0.5408163265306123\n",
      "Iter 500\n",
      "0.6694359422824662\n",
      "0.5428571428571428\n",
      "0.6773065150852645\n",
      "0.5408163265306123\n",
      "0.684739833843463\n",
      "0.5448979591836735\n",
      "0.6939221687800612\n",
      "0.5469387755102041\n",
      "0.6996064713598601\n",
      "0.5469387755102041\n",
      "0.7096633143856581\n",
      "0.5469387755102041\n",
      "0.7144731088762571\n",
      "0.5530612244897959\n",
      "0.719720157411456\n",
      "0.5530612244897959\n",
      "0.7240926978574552\n",
      "0.5551020408163265\n",
      "0.7262789680804548\n",
      "0.5510204081632653\n",
      "0.730214254481854\n",
      "0.5530612244897959\n",
      "0.7358985570616529\n",
      "0.5530612244897959\n",
      "0.7415828596414517\n",
      "0.5530612244897959\n",
      "0.75032794053345\n",
      "0.5551020408163265\n",
      "0.7560122431132488\n",
      "0.5571428571428572\n",
      "0.7608220376038478\n",
      "0.5591836734693878\n",
      "0.7678181023174464\n",
      "0.5591836734693878\n",
      "0.7704416265850459\n",
      "0.5591836734693878\n",
      "0.774814167031045\n",
      "0.5591836734693878\n",
      "0.7809357236554438\n",
      "0.5591836734693878\n",
      "Iter 1000\n",
      "0.7835592479230433\n",
      "0.5591836734693878\n",
      "0.7874945343244425\n",
      "0.5612244897959183\n",
      "0.7918670747704416\n",
      "0.563265306122449\n",
      "0.7971141233056406\n",
      "0.5653061224489796\n",
      "0.8027984258854395\n",
      "0.5653061224489796\n",
      "0.8067337122868387\n",
      "0.5653061224489796\n",
      "0.8106689986882378\n",
      "0.5673469387755102\n",
      "0.8154787931788369\n",
      "0.563265306122449\n",
      "0.819851333624836\n",
      "0.5591836734693878\n",
      "0.8264101442938347\n",
      "0.5571428571428572\n",
      "0.8316571928290337\n",
      "0.5551020408163265\n",
      "0.8342807170966331\n",
      "0.5551020408163265\n",
      "[0, 0.42369916921731526, 0.45999125491910803, 0.49365981635330125, 0.5080891998250984, 0.5212068211630958, 0.5373852208132925, 0.5544381285526891, 0.5658067337122868, 0.5767380848272846, 0.5859204197638828, 0.5959772627896808, 0.6012243113248797, 0.609969392216878, 0.6191517271534762, 0.6274595540008745, 0.6327066025360735, 0.6405771753388719, 0.6488850021862702, 0.6541320507214692, 0.6624398775688675, 0.6694359422824662, 0.6773065150852645, 0.684739833843463, 0.6939221687800612, 0.6996064713598601, 0.7096633143856581, 0.7144731088762571, 0.719720157411456, 0.7240926978574552, 0.7262789680804548, 0.730214254481854, 0.7358985570616529, 0.7415828596414517, 0.75032794053345, 0.7560122431132488, 0.7608220376038478, 0.7678181023174464, 0.7704416265850459, 0.774814167031045, 0.7809357236554438, 0.7835592479230433, 0.7874945343244425, 0.7918670747704416, 0.7971141233056406, 0.8027984258854395, 0.8067337122868387, 0.8106689986882378, 0.8154787931788369, 0.819851333624836, 0.8264101442938347, 0.8316571928290337, 0.8342807170966331] [0, 0.4448979591836735, 0.47346938775510206, 0.46530612244897956, 0.49387755102040815, 0.49183673469387756, 0.5040816326530613, 0.5020408163265306, 0.5122448979591837, 0.5306122448979592, 0.5346938775510204, 0.536734693877551, 0.536734693877551, 0.5448979591836735, 0.5469387755102041, 0.5489795918367347, 0.5428571428571428, 0.5387755102040817, 0.536734693877551, 0.5408163265306123, 0.5408163265306123, 0.5428571428571428, 0.5408163265306123, 0.5448979591836735, 0.5469387755102041, 0.5469387755102041, 0.5469387755102041, 0.5530612244897959, 0.5530612244897959, 0.5551020408163265, 0.5510204081632653, 0.5530612244897959, 0.5530612244897959, 0.5530612244897959, 0.5551020408163265, 0.5571428571428572, 0.5591836734693878, 0.5591836734693878, 0.5591836734693878, 0.5591836734693878, 0.5591836734693878, 0.5591836734693878, 0.5612244897959183, 0.563265306122449, 0.5653061224489796, 0.5653061224489796, 0.5653061224489796, 0.5673469387755102, 0.563265306122449, 0.5591836734693878, 0.5571428571428572, 0.5551020408163265, 0.5551020408163265]\n",
      "Iter 1300\n",
      "CPU times: user 3min 12s, sys: 37 s, total: 3min 49s\n",
      "Wall time: 1min 55s\n"
     ]
    }
   ],
   "source": [
    "%%time\n",
    "np.random.seed(0)\n",
    "theta0 = np.random.random((len(unique_keys)+1))\n",
    "theta, train_learn, valid_learn = track_grad_descent(f, df, train_feats, trainY, 0.25, theta0, 0.0001, EPS=1e-4)"
   ]
  },
  {
   "cell_type": "code",
   "execution_count": 315,
   "metadata": {
    "collapsed": false,
    "scrolled": true
   },
   "outputs": [
    {
     "data": {
      "image/png": "[encoded data removed]",
      "text/plain": [
       "<matplotlib.figure.Figure at 0x7fc0a52a9e80>"
      ]
     },
     "metadata": {},
     "output_type": "display_data"
    }
   ],
   "source": [
    "iterations = np.arange(1300//25 +1)*25\n",
    "import matplotlib\n",
    "from matplotlib import pyplot as plt\n",
    "plt.figure(figsize = (10, 7))\n",
    "plt.plot(iterations, train_learn, marker = \".\", label = \"Training Accuracy\")\n",
    "plt.plot(iterations, valid_learn, marker = \".\", label = \"Testing Accuracy\")\n",
    "plt.legend()\n",
    "plt.show()\n",
    "#print(train_learn)"
   ]
  },
  {
   "cell_type": "markdown",
   "metadata": {},
   "source": [
    "#write up part 5"
   ]
  },
  {
   "cell_type": "code",
   "execution_count": 316,
   "metadata": {
    "collapsed": false
   },
   "outputs": [
    {
     "name": "stdout",
     "output_type": "stream",
     "text": [
      "[-0.87608463  0.67211309  0.56226197 ..., -0.07369296  0.09836016\n",
      "  0.08750137]\n",
      "[2093  164 2190]\n",
      "['lead' 'begin' 'labels' 'sortie' '0' 'downgrades' 'young' 'trade' 'freak'\n",
      " '30']\n",
      "['impression' 'pursuit' 'expert' 'taliban' 'serious' 'accepted' 'eclipse'\n",
      " 'hung' 'africa' 'influencer']\n"
     ]
    }
   ],
   "source": [
    "#part 6 in the code\n",
    "print(theta)\n",
    "#print the highest 10 vals, and include what they correspond to \n",
    "ordered_theta = theta.argsort()\n",
    "lowest = ordered_theta[:10]\n",
    "highest = ordered_theta[-10:]\n",
    "print(highest[7:])\n",
    "unique_keys = np.asarray(unique_keys)\n",
    "print(unique_keys[lowest])\n",
    "print(unique_keys[highest])\n",
    "#edit code and see why do we have a null word?"
   ]
  },
  {
   "cell_type": "code",
   "execution_count": 323,
   "metadata": {
    "collapsed": false
   },
   "outputs": [
    {
     "name": "stdout",
     "output_type": "stream",
     "text": [
      "['lead', 'begin', 'labels', 'sortie', '0', 'downgrades', 'young', 'trade', 'freak', '30']\n",
      "['influencer', 'africa', 'hung', 'eclipse', 'accepted', 'taliban', 'expert', 'pursuit', 'impression', 'chuck']\n"
     ]
    }
   ],
   "source": [
    "#do this again, but remove stop words\n",
    "#load the stop words\n",
    "from sklearn.feature_extraction.text import ENGLISH_STOP_WORDS\n",
    "stop_words = list(ENGLISH_STOP_WORDS)\n",
    "#print(stop_words)\n",
    "counter = 0\n",
    "new_low_words = []\n",
    "for val in ordered_theta:\n",
    "    if unique_keys[val] in stop_words:\n",
    "        continue\n",
    "    else:\n",
    "        new_low_words.append(unique_keys[val])\n",
    "    if len(new_low_words)>=10:\n",
    "        break\n",
    "print(new_low_words)\n",
    "\n",
    "\n",
    "new_high_words = []\n",
    "reversed_Words = np.flip(ordered_theta, axis = 0)\n",
    "#print(reversed_Words[:10])\n",
    "for val in reversed_Words:\n",
    "    if unique_keys[val] in stop_words:\n",
    "        continue\n",
    "    else:\n",
    "        new_high_words.append(unique_keys[val])\n",
    "    if len(new_high_words)>=10:\n",
    "        break\n",
    "print(new_high_words)"
   ]
  },
  {
   "cell_type": "markdown",
   "metadata": {},
   "source": [
    "Its reasonable to use magnitude for this, since the different scale for the features have meaning, if one is larger, it means that it occured more often(native bayes method)\n",
    "For this one, the individual features are already normalized, since they're either zero if that word is not present, or are one if they are. "
   ]
  },
  {
   "cell_type": "code",
   "execution_count": null,
   "metadata": {
    "collapsed": true
   },
   "outputs": [],
   "source": []
  }
 ],
 "metadata": {
  "anaconda-cloud": {},
  "kernelspec": {
   "display_name": "Python [conda env:CSC401]",
   "language": "python",
   "name": "conda-env-CSC401-py"
  },
  "language_info": {
   "codemirror_mode": {
    "name": "ipython",
    "version": 3
   },
   "file_extension": ".py",
   "mimetype": "text/x-python",
   "name": "python",
   "nbconvert_exporter": "python",
   "pygments_lexer": "ipython3",
   "version": "3.6.3"
  }
 },
 "nbformat": 4,
 "nbformat_minor": 1
}
