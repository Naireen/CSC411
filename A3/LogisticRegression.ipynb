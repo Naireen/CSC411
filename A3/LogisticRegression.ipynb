{
 "cells": [
  {
   "cell_type": "code",
   "execution_count": 2,
   "metadata": {
    "collapsed": true
   },
   "outputs": [],
   "source": [
    "import numpy as np\n",
    "import pickle\n",
    "from numpy.linalg import norm\n"
   ]
  },
  {
   "cell_type": "code",
   "execution_count": 5,
   "metadata": {
    "collapsed": false
   },
   "outputs": [
    {
     "name": "stdout",
     "output_type": "stream",
     "text": [
      "['train_b.pkl', 'CreateData.ipynb', 'train.pkl', 'Bonus.ipynb', 'valid_b.pkl', 'clean_real.txt', 'NativeBayes.ipynb', 'test_b.pkl', 'train_r.pkl', 'SklearnTrees.ipynb', 'CreateData.py', 'XGB_bonus.ipynb', 'test_r.pkl', 'train.pickle', 'clean_fake.txt', '__pycache__', 'LogisticRegression.ipynb', 'valid.pkl', 'pics', 'tree.dot', 'NativeBayes.py', 'valid_r.pkl', 'fake.py', '.ipynb_checkpoints', 'LogisticRegression.py', 'bonus_spacy.ipynb', 'bonus_pics', 'test.pkl']\n"
     ]
    }
   ],
   "source": [
    "import os\n",
    "print(os.listdir(\".\"))\n",
    "train_r = pickle.load(open(\"train_r.pkl\", \"rb\"))\n",
    "train_b = pickle.load(open(\"train_b.pkl\", \"rb\"))\n",
    "valid_r = pickle.load(open(\"valid_r.pkl\", \"rb\"))\n",
    "valid_b = pickle.load(open(\"valid_b.pkl\", \"rb\"))\n",
    "test_r = pickle.load(open(\"test_r.pkl\", \"rb\"))\n",
    "test_b = pickle.load(open(\"test_b.pkl\", \"rb\"))"
   ]
  },
  {
   "cell_type": "code",
   "execution_count": 6,
   "metadata": {
    "collapsed": false
   },
   "outputs": [
    {
     "name": "stdout",
     "output_type": "stream",
     "text": [
      "['trump and trade richardson every', 'trump charlottesville condemnation included neo nazis whitehouse', 'hameed darweesh iraqi refugee detained at jfk after trump order']\n"
     ]
    }
   ],
   "source": [
    "print(valid_r[:3])"
   ]
  },
  {
   "cell_type": "code",
   "execution_count": 7,
   "metadata": {
    "collapsed": false
   },
   "outputs": [
    {
     "name": "stdout",
     "output_type": "stream",
     "text": [
      "['trump and trade richardson every'\n",
      " 'trump charlottesville condemnation included neo nazis whitehouse'\n",
      " 'hameed darweesh iraqi refugee detained at jfk after trump order'] 490\n"
     ]
    }
   ],
   "source": [
    "one_label = np.ones(len(train_r))\n",
    "zeros_label = np.zeros(len(train_b))\n",
    "one_test = np.ones(len(valid_r))\n",
    "zero_test = np.zeros(len(valid_b))\n",
    "trainX = np.concatenate((train_r, train_b))\n",
    "trainY = np.concatenate((one_label, zeros_label))\n",
    "validX = np.concatenate((valid_r, valid_b))\n",
    "validY  = np.concatenate((one_test, zero_test))\n",
    "print(validX[:3], len(validX))"
   ]
  },
  {
   "cell_type": "code",
   "execution_count": 8,
   "metadata": {
    "collapsed": false
   },
   "outputs": [
    {
     "name": "stdout",
     "output_type": "stream",
     "text": [
      "4818\n"
     ]
    }
   ],
   "source": [
    "#gerenate feature vectors \n",
    "total_words = {}\n",
    "for line in trainX:\n",
    "    words = line.split(\" \")\n",
    "    for word in words:\n",
    "        if word == \"\":\n",
    "            continue\n",
    "        try:\n",
    "            total_words[word]\n",
    "        except:\n",
    "            total_words[word] = True\n",
    "\n",
    "print(len(total_words.keys()))\n",
    "#dont add words in valid and test sets"
   ]
  },
  {
   "cell_type": "code",
   "execution_count": 9,
   "metadata": {
    "collapsed": false
   },
   "outputs": [],
   "source": [
    "#create training feats\n",
    "\n",
    "#print(len(validX))\n",
    "unique_keys = list(total_words.keys())\n",
    "unique_keys.sort()\n",
    "#print(unique_keys[:10])\n",
    "#account for a bias\n",
    "train_feats = np.zeros((len(trainX), len(total_words.keys()) ))\n",
    "for i, line in enumerate(trainX):\n",
    "    words = line.split(\" \")\n",
    "    #print(words)\n",
    "    for word in words:\n",
    "        if word ==\"\":\n",
    "            continue\n",
    "        #print(unique_keys.index(word))\n",
    "        ind = unique_keys.index(word)  \n",
    "        #plus one is so that the very first is the bias (here a bias of zero)\n",
    "        train_feats[i][ind] = 1\n",
    "\n",
    "\n",
    "#create testing features\n",
    "valid_feats = np.zeros((len(validX), len(total_words.keys())))\n",
    "for i , line in enumerate(validX):\n",
    "    words = line.split(\" \")\n",
    "    #print(len(words), end = \" \")\n",
    "    #if i ==0:\n",
    "        #print(words)\n",
    "    #print(words)\n",
    "    for word in words:\n",
    "        if word ==\"\":\n",
    "            continue\n",
    "        #account for value error:\n",
    "        try:\n",
    "            ind = unique_keys.index(word) \n",
    "            #print(ind)\n",
    "            valid_feats[i][ind] = 1\n",
    "        except:\n",
    "            continue       \n",
    "#inds = np.where(valid_feats ==1)[1]\n",
    "#print(\"\\n\", inds[:34])"
   ]
  },
  {
   "cell_type": "code",
   "execution_count": 10,
   "metadata": {
    "collapsed": false
   },
   "outputs": [],
   "source": [
    "#logistic regression model from assignment 1.\n",
    "def grad_descent(f, df, x, y, reg, init_t, alpha, EPS=1e-4):\n",
    "    print(reg)\n",
    "    #EPS = 1e-4   #EPS = 10**(-5)\n",
    "    prev_t = init_t-10*EPS\n",
    "    t = init_t.copy()\n",
    "    max_iter = 300\n",
    "    iter  = 0\n",
    "    while norm(t - prev_t) >  EPS and iter < max_iter:\n",
    "        prev_t = t.copy()\n",
    "        t -= alpha*df(x, y, t, reg)\n",
    "        if iter % 50 == 0:\n",
    "            print(\"Iter\", iter)\n",
    "        iter += 1\n",
    "    print(\"Iter\", iter)\n",
    "    return t"
   ]
  },
  {
   "cell_type": "code",
   "execution_count": 11,
   "metadata": {
    "collapsed": true
   },
   "outputs": [],
   "source": [
    "def softmax(x):\n",
    "    return 1./(1+np.exp(-1*x))\n",
    "#assume here that x is already flattened\n",
    "def f_log(x, y, theta, reg):\n",
    "    bias = np.ones( (1, x.shape[0])).T\n",
    "    x = np.vstack( (bias.T, x.T))\n",
    "    val = softmax(np.dot(theta.T, x))\n",
    "    vals =  np.sum((y - np.log(val)) - (1.-y)*np.log(1-val)) + reg*np.sum(theta**2)\n",
    "    return vals\n",
    "    \n",
    "def df_log(x, y, theta ,reg):\n",
    "    bias = np.ones( (1, x.shape[0])).T\n",
    "    x = np.vstack( (bias.T, x.T))\n",
    "    val = softmax(np.dot(theta.T, x)) - y\n",
    "    val = np.dot(val, x.T)\n",
    "    val += 2.*reg*theta\n",
    "    return val\n",
    "    #return   -2*np.sum((y-np.dot(theta.T, x))*x, 1) + 2.*reg*theta"
   ]
  },
  {
   "cell_type": "code",
   "execution_count": 12,
   "metadata": {
    "collapsed": true
   },
   "outputs": [],
   "source": [
    "#assume here that x is already flattened\n",
    "def f_l1(x, y, theta, reg):\n",
    "    bias = np.ones( (1, x.shape[0])).T\n",
    "    x = np.vstack( (bias.T, x.T))\n",
    "    val = softmax(np.dot(theta.T, x))\n",
    "    vals =  np.sum((y - np.log(val)) - (1.-y)*np.log(1-val)) + reg*np.sum(theta)\n",
    "    return vals \n",
    "\n",
    "def df_l1(x, y, theta ,reg):\n",
    "    bias = np.ones( (1, x.shape[0])).T\n",
    "    x = np.vstack( (bias.T, x.T))\n",
    "    val = softmax(np.dot(theta.T, x)) - y\n",
    "    val = np.dot(val, x.T)\n",
    "    val += reg\n",
    "    return val"
   ]
  },
  {
   "cell_type": "code",
   "execution_count": 13,
   "metadata": {
    "collapsed": true
   },
   "outputs": [],
   "source": [
    "np.random.seed(0)\n",
    "#this is used to create the two differentn types of images, uncomment the one that you dont want\n",
    "theta0 = np.random.random((len(unique_keys)+1))*5\n",
    "theta0 = np.ones_like(theta0)"
   ]
  },
  {
   "cell_type": "code",
   "execution_count": 14,
   "metadata": {
    "collapsed": false,
    "scrolled": true
   },
   "outputs": [
    {
     "name": "stdout",
     "output_type": "stream",
     "text": [
      "0.15\n",
      "Iter 0\n",
      "Iter 50\n",
      "Iter 100\n",
      "Iter 150\n",
      "Iter 200\n",
      "Iter 250\n",
      "Iter 300\n",
      "CPU times: user 32.4 s, sys: 23.9 s, total: 56.3 s\n",
      "Wall time: 14.5 s\n"
     ]
    }
   ],
   "source": [
    "%%time\n",
    "theta = grad_descent(f_log, df_log, train_feats, trainY,0.15,  theta0, 0.0005, EPS=5e-4)"
   ]
  },
  {
   "cell_type": "code",
   "execution_count": 78,
   "metadata": {
    "collapsed": false
   },
   "outputs": [
    {
     "name": "stdout",
     "output_type": "stream",
     "text": [
      "(490, 4819) (4819,) (490,)\n",
      "330 490\n",
      "0.673469387755102\n"
     ]
    }
   ],
   "source": [
    "#learning curve\n",
    "valid_data_ones = np.concatenate((np.ones((1, valid_feats.shape[0])).T, valid_feats), axis = 1)\n",
    "preds = np.dot( valid_data_ones, theta)\n",
    "print(valid_data_ones.shape, theta.shape, preds.shape)\n",
    "preds_binary= np.zeros_like(preds)\n",
    "#preds_binary[preds<0.5] = 0\n",
    "preds_binary[preds>0.5] = 1\n",
    "#print(preds)\n",
    "print(len(np.where(validY ==preds_binary)[0]), validY.shape[0])\n",
    "print(len(np.where(validY ==preds_binary)[0])/ validY.shape[0])\n",
    "#print(validY)"
   ]
  },
  {
   "cell_type": "code",
   "execution_count": 15,
   "metadata": {
    "collapsed": true
   },
   "outputs": [],
   "source": [
    "#l2error function\n",
    "\n",
    "#logistic regression model from assignment 1.\n",
    "def track_grad_descent(f, df, x, y,reg, init_t, alpha, EPS=1e-4):\n",
    "    #EPS = 1e-4   #EPS = 10**(-5)\n",
    "    prev_t = init_t-10*EPS\n",
    "    t = init_t.copy()\n",
    "    #times = np.linspace()\n",
    "    max_iter = 2500\n",
    "    iter  = 0\n",
    "    thresh = 25\n",
    "    iterations = np.arange(max_iter//thresh +1)*thresh\n",
    "    learn_train = [0]#np.zeros_like(iterations)\n",
    "    learn_valid = [0]#np.zeros_like(iterations)\n",
    "    counter = 1\n",
    "    while norm(t - prev_t) >  EPS and iter < max_iter:\n",
    "        prev_t = t.copy()\n",
    "        t -= alpha*df(x, y, t, reg)\n",
    "        if iter % 500 == 0:\n",
    "            print(\"Iter\", iter)\n",
    "        if (iter%thresh==thresh-1):\n",
    "            #train scores\n",
    "            train_data_ones = np.concatenate((np.ones((1, train_feats.shape[0])).T, train_feats), axis = 1)\n",
    "            preds = np.dot(train_data_ones, prev_t)\n",
    "            preds_binary= np.zeros_like(preds)\n",
    "            preds_binary[preds<0.5] = 0\n",
    "            preds_binary[preds>0.5] = 1\n",
    "            val = len(np.where(trainY ==preds_binary)[0])/ float(trainY.shape[0])\n",
    "            print(val)\n",
    "\n",
    "            learn_train.append(val)\n",
    "\n",
    "            valid_data_ones = np.concatenate((np.ones((1, valid_feats.shape[0])).T, valid_feats), axis = 1)\n",
    "            preds = np.dot( valid_data_ones, prev_t)\n",
    "            preds_binary= np.zeros_like(preds)\n",
    "            preds_binary[preds<0.5] = 0\n",
    "            preds_binary[preds>0.5] = 1\n",
    "            val =len(np.where(validY ==preds_binary)[0])/ float(validY.shape[0])\n",
    "            print(val)\n",
    "            learn_valid.append(val)\n",
    "            #learn_valid[counter] = val\n",
    "            #print(learn_valid)\n",
    "            #counter +=1\n",
    "            \n",
    "        iter += 1\n",
    "    print(learn_train, learn_valid)\n",
    "    print(\"Iter\", iter)\n",
    "    return t, learn_train, learn_valid"
   ]
  },
  {
   "cell_type": "code",
   "execution_count": 94,
   "metadata": {
    "collapsed": false
   },
   "outputs": [
    {
     "name": "stdout",
     "output_type": "stream",
     "text": [
      "Iter 0\n",
      "0.49934411893310016\n",
      "0.5183673469387755\n",
      "0.6156536947966769\n",
      "0.6224489795918368\n",
      "0.6724967205946655\n",
      "0.6755102040816326\n",
      "0.7153476169654569\n",
      "0.7061224489795919\n",
      "0.7485789243550502\n",
      "0.7346938775510204\n",
      "0.7756886751202449\n",
      "0.7591836734693878\n",
      "0.7931788369042414\n",
      "0.7673469387755102\n",
      "0.8067337122868387\n",
      "0.7836734693877551\n",
      "0.8159160472234368\n",
      "0.7877551020408163\n",
      "0.8229121119370354\n",
      "0.7979591836734694\n",
      "0.8334062090074333\n",
      "0.8\n",
      "0.839965019676432\n",
      "0.8061224489795918\n",
      "0.8456493222562309\n",
      "0.8081632653061225\n",
      "0.8495846086576301\n",
      "0.810204081632653\n",
      "0.8539571491036292\n",
      "0.8163265306122449\n",
      "0.8561434193266287\n",
      "0.8224489795918367\n",
      "0.8578924355050285\n",
      "0.8244897959183674\n",
      "0.8618277219064276\n",
      "0.826530612244898\n",
      "0.8653257542632269\n",
      "0.8244897959183674\n",
      "0.8662002623524268\n",
      "0.8244897959183674\n",
      "Iter 500\n",
      "0.8675120244862266\n",
      "0.8244897959183674\n",
      "0.8692610406646262\n",
      "0.8244897959183674\n",
      "0.8710100568430258\n",
      "0.8244897959183674\n",
      "0.8710100568430258\n",
      "0.8244897959183674\n",
      "0.8710100568430258\n",
      "0.8244897959183674\n",
      "0.8718845649322257\n",
      "0.8244897959183674\n",
      "0.8723218189768255\n",
      "0.826530612244898\n",
      "0.8731963270660253\n",
      "0.8244897959183674\n",
      "0.8727590730214254\n",
      "0.8244897959183674\n",
      "0.8740708351552252\n",
      "0.8244897959183674\n",
      "0.8745080891998251\n",
      "0.8244897959183674\n",
      "0.874945343244425\n",
      "0.826530612244898\n",
      "0.8753825972890249\n",
      "0.826530612244898\n",
      "0.8753825972890249\n",
      "0.8244897959183674\n",
      "0.8753825972890249\n",
      "0.826530612244898\n",
      "0.8758198513336248\n",
      "0.826530612244898\n",
      "0.8753825972890249\n",
      "0.826530612244898\n",
      "0.8753825972890249\n",
      "0.826530612244898\n",
      "0.8753825972890249\n",
      "0.826530612244898\n",
      "0.8753825972890249\n",
      "0.826530612244898\n",
      "Iter 1000\n",
      "0.8753825972890249\n",
      "0.826530612244898\n",
      "0.8758198513336248\n",
      "0.826530612244898\n",
      "0.8758198513336248\n",
      "0.826530612244898\n",
      "0.8758198513336248\n",
      "0.826530612244898\n",
      "0.8758198513336248\n",
      "0.826530612244898\n",
      "0.8758198513336248\n",
      "0.826530612244898\n",
      "0.8758198513336248\n",
      "0.826530612244898\n",
      "[0, 0.49934411893310016, 0.6156536947966769, 0.6724967205946655, 0.7153476169654569, 0.7485789243550502, 0.7756886751202449, 0.7931788369042414, 0.8067337122868387, 0.8159160472234368, 0.8229121119370354, 0.8334062090074333, 0.839965019676432, 0.8456493222562309, 0.8495846086576301, 0.8539571491036292, 0.8561434193266287, 0.8578924355050285, 0.8618277219064276, 0.8653257542632269, 0.8662002623524268, 0.8675120244862266, 0.8692610406646262, 0.8710100568430258, 0.8710100568430258, 0.8710100568430258, 0.8718845649322257, 0.8723218189768255, 0.8731963270660253, 0.8727590730214254, 0.8740708351552252, 0.8745080891998251, 0.874945343244425, 0.8753825972890249, 0.8753825972890249, 0.8753825972890249, 0.8758198513336248, 0.8753825972890249, 0.8753825972890249, 0.8753825972890249, 0.8753825972890249, 0.8753825972890249, 0.8758198513336248, 0.8758198513336248, 0.8758198513336248, 0.8758198513336248, 0.8758198513336248, 0.8758198513336248] [0, 0.5183673469387755, 0.6224489795918368, 0.6755102040816326, 0.7061224489795919, 0.7346938775510204, 0.7591836734693878, 0.7673469387755102, 0.7836734693877551, 0.7877551020408163, 0.7979591836734694, 0.8, 0.8061224489795918, 0.8081632653061225, 0.810204081632653, 0.8163265306122449, 0.8224489795918367, 0.8244897959183674, 0.826530612244898, 0.8244897959183674, 0.8244897959183674, 0.8244897959183674, 0.8244897959183674, 0.8244897959183674, 0.8244897959183674, 0.8244897959183674, 0.8244897959183674, 0.826530612244898, 0.8244897959183674, 0.8244897959183674, 0.8244897959183674, 0.8244897959183674, 0.826530612244898, 0.826530612244898, 0.8244897959183674, 0.826530612244898, 0.826530612244898, 0.826530612244898, 0.826530612244898, 0.826530612244898, 0.826530612244898, 0.826530612244898, 0.826530612244898, 0.826530612244898, 0.826530612244898, 0.826530612244898, 0.826530612244898, 0.826530612244898]\n",
      "Iter 1176\n",
      "CPU times: user 1min 49s, sys: 18.1 s, total: 2min 7s\n",
      "Wall time: 1min 3s\n"
     ]
    }
   ],
   "source": [
    "#%%time\n",
    "#done with l2 regularization\n",
    "np.random.seed(0)\n",
    "theta0 = np.random.random((len(unique_keys)+1))\n",
    "theta, train_learn, valid_learn = track_grad_descent(f_log, df_log, train_feats, trainY, 5, theta0, 0.0005, EPS=5e-4)"
   ]
  },
  {
   "cell_type": "code",
   "execution_count": 98,
   "metadata": {
    "collapsed": true
   },
   "outputs": [],
   "source": [
    "import matplotlib\n",
    "from matplotlib import pyplot as plt\n",
    "font = {'family' : 'normal',\n",
    "        'weight' : 'bold',\n",
    "        'size'   : 20}\n",
    "#matplotlib.rc('text', usetex=True)\n",
    "matplotlib.rc('font', **font)"
   ]
  },
  {
   "cell_type": "code",
   "execution_count": 101,
   "metadata": {
    "collapsed": false
   },
   "outputs": [
    {
     "name": "stderr",
     "output_type": "stream",
     "text": [
      "/home/naireen/anaconda2/envs/CSC401/lib/python3.6/site-packages/matplotlib/font_manager.py:1316: UserWarning: findfont: Font family ['normal'] not found. Falling back to DejaVu Sans\n",
      "  (prop.get_family(), self.defaultFamily[fontext]))\n"
     ]
    },
    {
     "data": {
      "image/png": "[encoded data removed]",
      "text/plain": [
       "<matplotlib.figure.Figure at 0x7efc77e54cc0>"
      ]
     },
     "metadata": {},
     "output_type": "display_data"
    }
   ],
   "source": [
    "iterations = np.arange(1176//25 +1)*25\n",
    "\n",
    "\n",
    "plt.figure(figsize = (10, 7))\n",
    "plt.plot(iterations, train_learn, marker = \".\", label = \"Training Accuracy\")\n",
    "plt.plot(iterations, valid_learn, marker = \".\", label = \"Testing Accuracy\")\n",
    "\n",
    "plt.legend()\n",
    "plt.show()\n",
    "#print(train_learn)"
   ]
  },
  {
   "cell_type": "code",
   "execution_count": 102,
   "metadata": {
    "collapsed": false
   },
   "outputs": [
    {
     "name": "stdout",
     "output_type": "stream",
     "text": [
      "Iter 0\n",
      "0.5080891998250984\n",
      "0.5224489795918368\n",
      "0.630083078268474\n",
      "0.6510204081632653\n",
      "0.6987319632706602\n",
      "0.6959183673469388\n",
      "0.7538259728902492\n",
      "0.7387755102040816\n",
      "0.7870572802798426\n",
      "0.773469387755102\n",
      "0.8045474420638391\n",
      "0.8040816326530612\n",
      "0.8264101442938347\n",
      "0.8142857142857143\n",
      "0.8390905115872321\n",
      "0.8224489795918367\n",
      "0.8574551814604285\n",
      "0.8326530612244898\n",
      "0.8648885002186271\n",
      "0.8387755102040816\n",
      "0.8688237866200262\n",
      "0.8346938775510204\n",
      "0.8736335811106253\n",
      "0.8367346938775511\n",
      "0.8762571053782248\n",
      "0.8448979591836735\n",
      "0.8753825972890249\n",
      "0.8510204081632653\n",
      "0.8775688675120245\n",
      "0.8510204081632653\n",
      "0.8823786620026235\n",
      "0.8551020408163266\n",
      "0.8806296458242239\n",
      "0.8591836734693877\n",
      "0.8801923917796239\n",
      "0.8591836734693877\n",
      "0.8780061215566244\n",
      "0.8551020408163266\n",
      "0.8788806296458243\n",
      "0.8591836734693877\n",
      "Iter 500\n",
      "0.8801923917796239\n",
      "0.8591836734693877\n",
      "0.8801923917796239\n",
      "0.8591836734693877\n",
      "0.8788806296458243\n",
      "0.8551020408163266\n",
      "0.8784433756012243\n",
      "0.8591836734693877\n",
      "0.8784433756012243\n",
      "0.863265306122449\n",
      "0.8775688675120245\n",
      "0.863265306122449\n",
      "0.8771316134674245\n",
      "0.8612244897959184\n",
      "0.8762571053782248\n",
      "0.863265306122449\n",
      "0.874945343244425\n",
      "0.8571428571428571\n",
      "0.8753825972890249\n",
      "0.8551020408163266\n",
      "0.8736335811106253\n",
      "0.8551020408163266\n",
      "0.8736335811106253\n",
      "0.8551020408163266\n",
      "0.8740708351552252\n",
      "0.8510204081632653\n",
      "0.8727590730214254\n",
      "0.8510204081632653\n",
      "0.8701355487538259\n",
      "0.8469387755102041\n",
      "0.8683865325754263\n",
      "0.8489795918367347\n",
      "0.8675120244862266\n",
      "0.8489795918367347\n",
      "0.8675120244862266\n",
      "0.8469387755102041\n",
      "0.8666375163970267\n",
      "0.8489795918367347\n",
      "0.8670747704416266\n",
      "0.8469387755102041\n",
      "Iter 1000\n",
      "0.8657630083078268\n",
      "0.8448979591836735\n",
      "0.8662002623524268\n",
      "0.8448979591836735\n",
      "0.8648885002186271\n",
      "0.8448979591836735\n",
      "0.8648885002186271\n",
      "0.8448979591836735\n",
      "0.8648885002186271\n",
      "0.8408163265306122\n",
      "0.8635767380848273\n",
      "0.8428571428571429\n",
      "0.8627022299956275\n",
      "0.8428571428571429\n",
      "0.8622649759510276\n",
      "0.8448979591836735\n",
      "0.8618277219064276\n",
      "0.8448979591836735\n",
      "0.8618277219064276\n",
      "0.8448979591836735\n",
      "0.8622649759510276\n",
      "0.8448979591836735\n",
      "0.8613904678618277\n",
      "0.8448979591836735\n",
      "0.8605159597726278\n",
      "0.8428571428571429\n",
      "0.8605159597726278\n",
      "0.8408163265306122\n",
      "0.8583296895496283\n",
      "0.8408163265306122\n",
      "0.8574551814604285\n",
      "0.8408163265306122\n",
      "0.8561434193266287\n",
      "0.8408163265306122\n",
      "0.8561434193266287\n",
      "0.8408163265306122\n",
      "0.8565806733712287\n",
      "0.8408163265306122\n",
      "0.8561434193266287\n",
      "0.8408163265306122\n",
      "Iter 1500\n",
      "0.8557061652820288\n",
      "0.8387755102040816\n",
      "0.8557061652820288\n",
      "0.8367346938775511\n",
      "0.855268911237429\n",
      "0.8367346938775511\n",
      "0.854831657192829\n",
      "0.8367346938775511\n",
      "0.854831657192829\n",
      "0.8367346938775511\n",
      "0.8543944031482291\n",
      "0.8367346938775511\n",
      "0.8543944031482291\n",
      "0.8367346938775511\n",
      "0.854831657192829\n",
      "0.8367346938775511\n",
      "0.854831657192829\n",
      "0.8367346938775511\n",
      "0.854831657192829\n",
      "0.8367346938775511\n",
      "0.854831657192829\n",
      "0.8367346938775511\n",
      "0.854831657192829\n",
      "0.8367346938775511\n",
      "0.854831657192829\n",
      "0.8367346938775511\n",
      "0.8539571491036292\n",
      "0.8367346938775511\n",
      "0.8535198950590293\n",
      "0.8367346938775511\n",
      "0.8530826410144294\n",
      "0.8367346938775511\n",
      "0.8526453869698295\n",
      "0.8346938775510204\n",
      "0.8526453869698295\n",
      "0.8346938775510204\n",
      "0.8522081329252296\n",
      "0.8346938775510204\n",
      "0.8517708788806296\n",
      "0.8346938775510204\n",
      "Iter 2000\n",
      "0.8517708788806296\n",
      "0.8346938775510204\n",
      "0.8517708788806296\n",
      "0.8346938775510204\n",
      "0.8517708788806296\n",
      "0.8346938775510204\n",
      "0.8517708788806296\n",
      "0.8346938775510204\n",
      "0.8517708788806296\n",
      "0.8346938775510204\n",
      "0.8517708788806296\n",
      "0.8346938775510204\n",
      "0.8522081329252296\n",
      "0.8346938775510204\n",
      "0.8522081329252296\n",
      "0.8326530612244898\n",
      "0.8522081329252296\n",
      "0.8326530612244898\n",
      "0.8522081329252296\n",
      "0.8326530612244898\n",
      "0.8522081329252296\n",
      "0.8326530612244898\n",
      "0.8522081329252296\n",
      "0.8326530612244898\n",
      "0.8522081329252296\n",
      "0.8326530612244898\n",
      "0.8522081329252296\n",
      "0.8306122448979592\n",
      "0.8522081329252296\n",
      "0.8306122448979592\n",
      "0.8526453869698295\n",
      "0.8306122448979592\n",
      "0.8526453869698295\n",
      "0.8306122448979592\n",
      "0.8526453869698295\n",
      "0.8285714285714286\n",
      "0.8522081329252296\n",
      "0.8285714285714286\n",
      "0.8522081329252296\n",
      "0.826530612244898\n",
      "[0, 0.5080891998250984, 0.630083078268474, 0.6987319632706602, 0.7538259728902492, 0.7870572802798426, 0.8045474420638391, 0.8264101442938347, 0.8390905115872321, 0.8574551814604285, 0.8648885002186271, 0.8688237866200262, 0.8736335811106253, 0.8762571053782248, 0.8753825972890249, 0.8775688675120245, 0.8823786620026235, 0.8806296458242239, 0.8801923917796239, 0.8780061215566244, 0.8788806296458243, 0.8801923917796239, 0.8801923917796239, 0.8788806296458243, 0.8784433756012243, 0.8784433756012243, 0.8775688675120245, 0.8771316134674245, 0.8762571053782248, 0.874945343244425, 0.8753825972890249, 0.8736335811106253, 0.8736335811106253, 0.8740708351552252, 0.8727590730214254, 0.8701355487538259, 0.8683865325754263, 0.8675120244862266, 0.8675120244862266, 0.8666375163970267, 0.8670747704416266, 0.8657630083078268, 0.8662002623524268, 0.8648885002186271, 0.8648885002186271, 0.8648885002186271, 0.8635767380848273, 0.8627022299956275, 0.8622649759510276, 0.8618277219064276, 0.8618277219064276, 0.8622649759510276, 0.8613904678618277, 0.8605159597726278, 0.8605159597726278, 0.8583296895496283, 0.8574551814604285, 0.8561434193266287, 0.8561434193266287, 0.8565806733712287, 0.8561434193266287, 0.8557061652820288, 0.8557061652820288, 0.855268911237429, 0.854831657192829, 0.854831657192829, 0.8543944031482291, 0.8543944031482291, 0.854831657192829, 0.854831657192829, 0.854831657192829, 0.854831657192829, 0.854831657192829, 0.854831657192829, 0.8539571491036292, 0.8535198950590293, 0.8530826410144294, 0.8526453869698295, 0.8526453869698295, 0.8522081329252296, 0.8517708788806296, 0.8517708788806296, 0.8517708788806296, 0.8517708788806296, 0.8517708788806296, 0.8517708788806296, 0.8517708788806296, 0.8522081329252296, 0.8522081329252296, 0.8522081329252296, 0.8522081329252296, 0.8522081329252296, 0.8522081329252296, 0.8522081329252296, 0.8522081329252296, 0.8522081329252296, 0.8526453869698295, 0.8526453869698295, 0.8526453869698295, 0.8522081329252296, 0.8522081329252296] [0, 0.5224489795918368, 0.6510204081632653, 0.6959183673469388, 0.7387755102040816, 0.773469387755102, 0.8040816326530612, 0.8142857142857143, 0.8224489795918367, 0.8326530612244898, 0.8387755102040816, 0.8346938775510204, 0.8367346938775511, 0.8448979591836735, 0.8510204081632653, 0.8510204081632653, 0.8551020408163266, 0.8591836734693877, 0.8591836734693877, 0.8551020408163266, 0.8591836734693877, 0.8591836734693877, 0.8591836734693877, 0.8551020408163266, 0.8591836734693877, 0.863265306122449, 0.863265306122449, 0.8612244897959184, 0.863265306122449, 0.8571428571428571, 0.8551020408163266, 0.8551020408163266, 0.8551020408163266, 0.8510204081632653, 0.8510204081632653, 0.8469387755102041, 0.8489795918367347, 0.8489795918367347, 0.8469387755102041, 0.8489795918367347, 0.8469387755102041, 0.8448979591836735, 0.8448979591836735, 0.8448979591836735, 0.8448979591836735, 0.8408163265306122, 0.8428571428571429, 0.8428571428571429, 0.8448979591836735, 0.8448979591836735, 0.8448979591836735, 0.8448979591836735, 0.8448979591836735, 0.8428571428571429, 0.8408163265306122, 0.8408163265306122, 0.8408163265306122, 0.8408163265306122, 0.8408163265306122, 0.8408163265306122, 0.8408163265306122, 0.8387755102040816, 0.8367346938775511, 0.8367346938775511, 0.8367346938775511, 0.8367346938775511, 0.8367346938775511, 0.8367346938775511, 0.8367346938775511, 0.8367346938775511, 0.8367346938775511, 0.8367346938775511, 0.8367346938775511, 0.8367346938775511, 0.8367346938775511, 0.8367346938775511, 0.8367346938775511, 0.8346938775510204, 0.8346938775510204, 0.8346938775510204, 0.8346938775510204, 0.8346938775510204, 0.8346938775510204, 0.8346938775510204, 0.8346938775510204, 0.8346938775510204, 0.8346938775510204, 0.8346938775510204, 0.8326530612244898, 0.8326530612244898, 0.8326530612244898, 0.8326530612244898, 0.8326530612244898, 0.8326530612244898, 0.8306122448979592, 0.8306122448979592, 0.8306122448979592, 0.8306122448979592, 0.8285714285714286, 0.8285714285714286, 0.826530612244898]\n",
      "Iter 2500\n",
      "CPU times: user 4min 6s, sys: 1min 16s, total: 5min 23s\n",
      "Wall time: 2min 41s\n"
     ]
    }
   ],
   "source": [
    "#%%time\n",
    "#done with l1 regularization\n",
    "np.random.seed(0)\n",
    "theta0 = np.random.random((len(unique_keys)+1))\n",
    "theta, train_learn, valid_learn = track_grad_descent(f_l1, df_l1, train_feats, trainY, 5, theta0, 0.0005, EPS=5e-4)"
   ]
  },
  {
   "cell_type": "code",
   "execution_count": 103,
   "metadata": {
    "collapsed": false
   },
   "outputs": [
    {
     "name": "stderr",
     "output_type": "stream",
     "text": [
      "/home/naireen/anaconda2/envs/CSC401/lib/python3.6/site-packages/matplotlib/font_manager.py:1316: UserWarning: findfont: Font family ['normal'] not found. Falling back to DejaVu Sans\n",
      "  (prop.get_family(), self.defaultFamily[fontext]))\n"
     ]
    },
    {
     "data": {
      "image/png": "[encoded data removed]",
      "text/plain": [
       "<matplotlib.figure.Figure at 0x7efc77f1a390>"
      ]
     },
     "metadata": {},
     "output_type": "display_data"
    }
   ],
   "source": [
    "iterations = np.arange(2500//25 +1)*25\n",
    "\n",
    "\n",
    "plt.figure(figsize = (10, 7))\n",
    "plt.plot(iterations, train_learn, marker = \".\", label = \"Training Accuracy\")\n",
    "plt.plot(iterations, valid_learn, marker = \".\", label = \"Testing Accuracy\")\n",
    "\n",
    "plt.legend()\n",
    "plt.show()\n",
    "#print(train_learn)"
   ]
  },
  {
   "cell_type": "markdown",
   "metadata": {},
   "source": [
    "#write up part 5"
   ]
  },
  {
   "cell_type": "code",
   "execution_count": null,
   "metadata": {
    "collapsed": false
   },
   "outputs": [],
   "source": []
  },
  {
   "cell_type": "code",
   "execution_count": null,
   "metadata": {
    "collapsed": false
   },
   "outputs": [],
   "source": []
  },
  {
   "cell_type": "markdown",
   "metadata": {},
   "source": [
    "Its reasonable to use magnitude for this, since the different scale for the features have meaning, if one is larger, it means that it occured more often(native bayes method)\n",
    "For this one, the individual features are already normalized, since they're either zero if that word is not present, or are one if they are. "
   ]
  },
  {
   "cell_type": "code",
   "execution_count": null,
   "metadata": {
    "collapsed": true
   },
   "outputs": [],
   "source": []
  }
 ],
 "metadata": {
  "anaconda-cloud": {},
  "kernelspec": {
   "display_name": "Python [conda env:CSC401]",
   "language": "python",
   "name": "conda-env-CSC401-py"
  },
  "language_info": {
   "codemirror_mode": {
    "name": "ipython",
    "version": 3
   },
   "file_extension": ".py",
   "mimetype": "text/x-python",
   "name": "python",
   "nbconvert_exporter": "python",
   "pygments_lexer": "ipython3",
   "version": "3.6.3"
  }
 },
 "nbformat": 4,
 "nbformat_minor": 1
}
