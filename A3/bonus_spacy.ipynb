{
 "cells": [
  {
   "cell_type": "code",
   "execution_count": 1,
   "metadata": {
    "collapsed": true
   },
   "outputs": [],
   "source": [
    "import numpy as np\n",
    "from sklearn import metrics\n",
    "import spacy\n",
    "import time\n",
    "import pickle"
   ]
  },
  {
   "cell_type": "code",
   "execution_count": 2,
   "metadata": {
    "collapsed": false
   },
   "outputs": [
    {
     "name": "stdout",
     "output_type": "stream",
     "text": [
      "north korea calls trump warning a load of nonsense\n"
     ]
    }
   ],
   "source": [
    "#load data\n",
    "train_r = pickle.load(open(\"train_r.pkl\", \"rb\"))\n",
    "train_b = pickle.load(open(\"train_b.pkl\", \"rb\"))\n",
    "print(train_r[0])"
   ]
  },
  {
   "cell_type": "code",
   "execution_count": 3,
   "metadata": {
    "collapsed": true
   },
   "outputs": [],
   "source": [
    "nlp = spacy.load(\"en\")"
   ]
  },
  {
   "cell_type": "code",
   "execution_count": 4,
   "metadata": {
    "collapsed": true
   },
   "outputs": [],
   "source": [
    "doc = spacy.tokens.Doc(nlp.vocab, words = train_r[0])"
   ]
  },
  {
   "cell_type": "code",
   "execution_count": 5,
   "metadata": {
    "collapsed": false
   },
   "outputs": [
    {
     "name": "stdout",
     "output_type": "stream",
     "text": [
      "north NN north\n",
      "korea NN korea\n",
      "calls NNS call\n",
      "trump VBP trump\n",
      "warning VBG warn\n",
      "a DT a\n",
      "load NN load\n",
      "of IN of\n",
      "nonsense NN nonsense\n"
     ]
    }
   ],
   "source": [
    "tokens = nlp(train_r[0])\n",
    "for token in tokens:\n",
    "    print(token.text, token.tag_, token.lemma_)"
   ]
  },
  {
   "cell_type": "code",
   "execution_count": 6,
   "metadata": {
    "collapsed": true
   },
   "outputs": [],
   "source": [
    "#pass in the tags and lemmas instead, and determine how the performance is\n",
    "#create 16 new features\n",
    "\n",
    "# 1 Number of first-person pronouns\n",
    "# 2 Number of second-person pronouns\n",
    "# 3 Number of third-person pronouns\n",
    "# 4 Number of coordinating conjunctions\n",
    "# 5 Number of past-tense verbs\n",
    "# 6 Number of future-tense verbs\n",
    "# 7 Number of common nouns\n",
    "# 8 Number of proper nouns\n",
    "# 9 Number of adverbs\n",
    "# 10 who words\n",
    "# 11 Average length of sentences, in tokens\n",
    "\n",
    "def make_feats(lines):\n",
    "    data =np.zeros((len(lines), 11))\n",
    "    first_person = [\"I\", 'me', 'my', 'mine', 'we', 'us', 'our', 'ours']\n",
    "    second_person = ['you', 'your', 'yours', 'u', 'ur', 'urs']\n",
    "    third_person =['he', 'min', 'his','she', 'her', 'hers', 'it', 'its', 'they' , 'them' ,'their', 'theirs']\n",
    "    future_tense = [\"'ll\", 'will', 'gonna','going to']\n",
    "    for i, line in enumerate(lines):\n",
    "        doc = spacy.tokens.Doc(nlp.vocab, words = line)\n",
    "        tokens = nlp(line)\n",
    "        total = 0\n",
    "        for token in tokens:\n",
    "            total+=1\n",
    "            if token.text in first_person:\n",
    "                data[i, 0] +=1\n",
    "            elif token.text in second_person:\n",
    "                data[i, 1] +=1\n",
    "            elif token.text in third_person:\n",
    "                data[i, 2] +=1\n",
    "            elif token.text in future_tense:\n",
    "                data[i, 5] +=1\n",
    "            if token.tag_ == \"CC\":\n",
    "                data[i, 3] +=1\n",
    "            elif token.tag_ == \"VBD\":\n",
    "                data[i, 4] +=1\n",
    "            elif token.tag_ == \"NNS\" or token.tag_== \"NN\":\n",
    "                data[i, 6] +=1\n",
    "            elif token.tag_ == \"NNPS\" or token.tag_ == \"NNP\" :\n",
    "                data[i, 7]\n",
    "            elif token.tag_ == \"RB\" or token.tag_ == \"RBR\" or token.tag_ == \"RBS\":\n",
    "                data[i, 8]+=1\n",
    "            elif token.tag_ == \"WDT\" or token.tag_ ==\"WP\" or token.tag_ == \"WP$\" or token.tag_==\"WRB\":\n",
    "                data[i, 9] +=1\n",
    "        data[i, 10] = total\n",
    "    return data"
   ]
  },
  {
   "cell_type": "code",
   "execution_count": 7,
   "metadata": {
    "collapsed": false
   },
   "outputs": [],
   "source": [
    "#tag_counts_r = np.zeros((len(train_r), 11 ))\n",
    "tag_counts_r = make_feats(train_r)\n",
    "tag_counts_b = make_feats(train_b)"
   ]
  },
  {
   "cell_type": "code",
   "execution_count": 8,
   "metadata": {
    "collapsed": false
   },
   "outputs": [
    {
     "name": "stdout",
     "output_type": "stream",
     "text": [
      "[[ 0.  0.  0.  0.  0.  0.  5.  0.  0.  0.  9.]\n",
      " [ 1.  0.  0.  0.  0.  0.  5.  0.  1.  1. 10.]\n",
      " [ 0.  0.  0.  0.  0.  0.  3.  0.  0.  0.  8.]]\n",
      "[[ 0.  0.  1.  0.  0.  0.  6.  0.  0.  0. 13.]\n",
      " [ 0.  0.  0.  0.  0.  0.  8.  0.  1.  0. 19.]\n",
      " [ 0.  0.  0.  0.  0.  0. 11.  0.  0.  1. 23.]]\n"
     ]
    }
   ],
   "source": [
    "print(tag_counts_r[:3, :])\n",
    "print(tag_counts_b[:3, :])"
   ]
  },
  {
   "cell_type": "code",
   "execution_count": 9,
   "metadata": {
    "collapsed": true
   },
   "outputs": [],
   "source": [
    "#train on these features\n",
    "y_Y = np.ones(len(train_r))\n",
    "n_Y = np.zeros(len(train_b))\n",
    "Y = np.concatenate((y_Y, n_Y))\n",
    "X = np.concatenate((tag_counts_r, tag_counts_b))"
   ]
  },
  {
   "cell_type": "code",
   "execution_count": 10,
   "metadata": {
    "collapsed": false
   },
   "outputs": [],
   "source": [
    "from sklearn.ensemble import RandomForestClassifier\n",
    "rfc = RandomForestClassifier(random_state = 0, n_estimators = 200, max_depth = 10, max_features=None, class_weight=\"balanced\") "
   ]
  },
  {
   "cell_type": "code",
   "execution_count": 11,
   "metadata": {
    "collapsed": true
   },
   "outputs": [],
   "source": [
    "from sklearn.model_selection import cross_val_score"
   ]
  },
  {
   "cell_type": "code",
   "execution_count": 12,
   "metadata": {
    "collapsed": false
   },
   "outputs": [
    {
     "name": "stdout",
     "output_type": "stream",
     "text": [
      "[0.79039301 0.80131004 0.81004367 0.79868709 0.79166667] 0.7984200962546064 0.007121423729663044\n",
      "[0.86891311 0.86631563 0.81978386 0.84873625 0.84702425] 0.8501546203557888 0.017591210005234937\n"
     ]
    }
   ],
   "source": [
    "score = cross_val_score(rfc, X, Y, cv = 5, n_jobs = -1, scoring=\"accuracy\")\n",
    "print(score, np.mean(score), np.std(score))\n",
    "score = cross_val_score(rfc, X, Y, cv = 5, n_jobs = -1, scoring=\"average_precision\")\n",
    "print(score, np.mean(score), np.std(score))"
   ]
  },
  {
   "cell_type": "code",
   "execution_count": 12,
   "metadata": {
    "collapsed": false
   },
   "outputs": [
    {
     "name": "stdout",
     "output_type": "stream",
     "text": [
      "[1. 1. 1. 1. 1. 1. 1. 1. 1. 1.]\n"
     ]
    }
   ],
   "source": [
    "# try on the validation data \n",
    "valid_r = pickle.load(open(\"valid_r.pkl\", \"rb\"))\n",
    "valid_b = pickle.load(open(\"valid_b.pkl\", \"rb\"))\n",
    "v_y_Y = np.ones(len(valid_r))\n",
    "v_n_Y = np.zeros(len(valid_b))\n",
    "validY = np.concatenate((v_y_Y, v_n_Y))\n",
    "print(validY[:10])"
   ]
  },
  {
   "cell_type": "code",
   "execution_count": 13,
   "metadata": {
    "collapsed": false
   },
   "outputs": [],
   "source": [
    "#create valid features\n",
    "#valid_counts_r = np.zeros((len(train_b), 11 ))\n",
    "valid_r_counts = make_feats(valid_r)\n",
    "valid_b_counts = make_feats(valid_b)\n",
    "v_X = np.concatenate((valid_r_counts, valid_b_counts))"
   ]
  },
  {
   "cell_type": "code",
   "execution_count": 14,
   "metadata": {
    "collapsed": false
   },
   "outputs": [
    {
     "name": "stdout",
     "output_type": "stream",
     "text": [
      "(490, 11)\n",
      "[[ 0.  0.  0.  1.  0.  0.  2.  0.  0.  0.  5.]\n",
      " [ 0.  0.  0.  0.  1.  0.  4.  0.  0.  0.  7.]\n",
      " [ 0.  0.  0.  0.  1.  0.  5.  0.  0.  0. 10.]]\n",
      "[[ 0.  0.  1.  1.  0.  0.  2.  0.  0.  0.  9.]\n",
      " [ 0.  0.  0.  0.  0.  0.  6.  0.  0.  0. 13.]\n",
      " [ 1.  0.  0.  1.  1.  0.  5.  0.  0.  0. 15.]]\n"
     ]
    }
   ],
   "source": [
    "print(v_X.shape)\n",
    "print(valid_r_counts[:3, :])\n",
    "print(valid_b_counts[:3, :])"
   ]
  },
  {
   "cell_type": "code",
   "execution_count": 16,
   "metadata": {
    "collapsed": false
   },
   "outputs": [
    {
     "name": "stdout",
     "output_type": "stream",
     "text": [
      "[0.80612245 0.82653061 0.73469388 0.78571429 0.75510204] 0.7816326530612244 0.03328470700061243\n",
      "[0.86659697 0.88274729 0.84717605 0.90707864 0.83753978] 0.8682277479534445 0.02493108034740239\n"
     ]
    }
   ],
   "source": [
    "# drops a little during validation, which makes sense\n",
    "score = cross_val_score(rfc, v_X, validY, cv = 5, n_jobs = -1, scoring=\"accuracy\")\n",
    "print(score, np.mean(score), np.std(score))\n",
    "score = cross_val_score(rfc, v_X, validY, cv = 5, n_jobs = -1, scoring=\"average_precision\")\n",
    "print(score, np.mean(score), np.std(score))"
   ]
  },
  {
   "cell_type": "code",
   "execution_count": 15,
   "metadata": {
    "collapsed": true
   },
   "outputs": [],
   "source": [
    "#the performance is less, and doesn't match native bayes validation accuracy. \n",
    "#However, the gain in creating these features is significant"
   ]
  },
  {
   "cell_type": "code",
   "execution_count": 16,
   "metadata": {
    "collapsed": false
   },
   "outputs": [
    {
     "name": "stdout",
     "output_type": "stream",
     "text": [
      "4818\n"
     ]
    }
   ],
   "source": [
    "#whats happens if you conbine the two sets of features \n",
    "trainX = np.concatenate((train_r, train_b))\n",
    "#gerenate feature vectors \n",
    "total_words = {}\n",
    "for line in trainX:\n",
    "    words = line.split(\" \")\n",
    "    for word in words:\n",
    "        if word == \"\":\n",
    "            continue\n",
    "        try:\n",
    "            total_words[word]\n",
    "        except:\n",
    "            total_words[word] = True\n",
    "\n",
    "print(len(total_words.keys()))\n",
    "#dont add words in valid and test sets"
   ]
  },
  {
   "cell_type": "code",
   "execution_count": 37,
   "metadata": {
    "collapsed": false
   },
   "outputs": [
    {
     "data": {
      "text/plain": [
       "['0', '00', '000', '1', '10', '100', '100mln', '10m', '11', '11yo']"
      ]
     },
     "execution_count": 37,
     "metadata": {},
     "output_type": "execute_result"
    }
   ],
   "source": [
    "unique_keys[:10]\n",
    "pickle.dump(unique_keys, open(\"train_set_keys.pkl\", \"wb\"))\n",
    "unique_keys[:10]"
   ]
  },
  {
   "cell_type": "code",
   "execution_count": 17,
   "metadata": {
    "collapsed": false
   },
   "outputs": [],
   "source": [
    "#create training feats\n",
    "\n",
    "#print(len(validX))\n",
    "unique_keys = list(total_words.keys())\n",
    "unique_keys.sort()\n",
    "#print(unique_keys[:10])\n",
    "#account for a bias\n",
    "train_feats = np.zeros((len(trainX), len(total_words.keys()) ))\n",
    "for i, line in enumerate(trainX):\n",
    "    words = line.split(\" \")\n",
    "    #print(words)\n",
    "    for word in words:\n",
    "        if word ==\"\":\n",
    "            continue\n",
    "        #print(unique_keys.index(word))\n",
    "        ind = unique_keys.index(word)  \n",
    "        #plus one is so that the very first is the bias (here a bias of zero)\n",
    "        train_feats[i][ind] = 1\n",
    "\n",
    "valid_X = np.concatenate((valid_r, valid_b))\n",
    "\n",
    "#create testing features\n",
    "valid_feats = np.zeros((len(valid_X), len(total_words.keys())))\n",
    "for i , line in enumerate(valid_X):\n",
    "    words = line.split(\" \")\n",
    "    #print(len(words), end = \" \")\n",
    "    #if i ==0:\n",
    "        #print(words)\n",
    "    #print(words)\n",
    "    for word in words:\n",
    "        if word ==\"\":\n",
    "            continue\n",
    "        #account for value error:\n",
    "        try:\n",
    "            ind = unique_keys.index(word) \n",
    "            #print(ind)\n",
    "            valid_feats[i][ind] = 1\n",
    "        except:\n",
    "            continue       \n",
    "#inds = np.where(valid_feats ==1)[1]\n",
    "#print(\"\\n\", inds[:34])"
   ]
  },
  {
   "cell_type": "code",
   "execution_count": 18,
   "metadata": {
    "collapsed": false
   },
   "outputs": [
    {
     "name": "stdout",
     "output_type": "stream",
     "text": [
      "(2287, 4818) (2287, 11)\n",
      "(490, 4818) (490, 11)\n"
     ]
    }
   ],
   "source": [
    "#concat the features\n",
    "print(train_feats.shape, X.shape)\n",
    "new_trainX = np.concatenate((train_feats, X), axis = 1)\n",
    "print(valid_feats.shape, v_X.shape)\n",
    "new_validX = np.concatenate((valid_feats, v_X), axis =1)"
   ]
  },
  {
   "cell_type": "code",
   "execution_count": 23,
   "metadata": {
    "collapsed": false
   },
   "outputs": [
    {
     "name": "stdout",
     "output_type": "stream",
     "text": [
      "[0.86244541 0.80131004 0.84497817 0.84682713 0.80921053] 0.83295425684983 0.023545192559592677\n",
      "[0.92598627 0.90943403 0.92948298 0.94504814 0.92767628] 0.9275255392410375 0.011318727931270976\n"
     ]
    }
   ],
   "source": [
    "score = cross_val_score(rfc, new_trainX, Y, cv = 5, n_jobs = -1, scoring=\"accuracy\")\n",
    "print(score, np.mean(score), np.std(score))\n",
    "score = cross_val_score(rfc, new_trainX, Y, cv = 5, n_jobs = -1, scoring=\"average_precision\")\n",
    "print(score, np.mean(score), np.std(score))"
   ]
  },
  {
   "cell_type": "code",
   "execution_count": 24,
   "metadata": {
    "collapsed": false
   },
   "outputs": [],
   "source": [
    "rfc2 = RandomForestClassifier(random_state = 0, n_estimators = 500, min_samples_split=5, class_weight = \"balanced\") "
   ]
  },
  {
   "cell_type": "code",
   "execution_count": 25,
   "metadata": {
    "collapsed": false
   },
   "outputs": [
    {
     "name": "stdout",
     "output_type": "stream",
     "text": [
      "[0.86681223 0.84716157 0.87336245 0.84463895 0.83552632] 0.8535003020005462 0.014237129857831451\n",
      "[0.93912189 0.93096109 0.96153671 0.95059447 0.92317498] 0.941077829381619 0.01368077569395519\n",
      "CPU times: user 1.99 s, sys: 204 ms, total: 2.2 s\n",
      "Wall time: 2min 16s\n"
     ]
    }
   ],
   "source": [
    "#%%time\n",
    "score = cross_val_score(rfc2, new_trainX, Y, cv = 5, n_jobs = -1, scoring=\"accuracy\")\n",
    "print(score, np.mean(score), np.std(score))\n",
    "score = cross_val_score(rfc2, new_trainX, Y, cv = 5, n_jobs = -1, scoring=\"average_precision\")\n",
    "print(score, np.mean(score), np.std(score))"
   ]
  },
  {
   "cell_type": "code",
   "execution_count": 26,
   "metadata": {
    "collapsed": false
   },
   "outputs": [
    {
     "name": "stdout",
     "output_type": "stream",
     "text": [
      "0.863265306122449\n",
      "0.835762327529882\n"
     ]
    }
   ],
   "source": [
    "rfc2.fit(new_trainX, Y)\n",
    "preds = rfc2.predict(new_validX)\n",
    "print(metrics.accuracy_score(validY, preds))\n",
    "print(metrics.average_precision_score(validY, preds))"
   ]
  },
  {
   "cell_type": "code",
   "execution_count": 41,
   "metadata": {
    "collapsed": false
   },
   "outputs": [
    {
     "name": "stdout",
     "output_type": "stream",
     "text": [
      "[4828 4824 4285 1333 2016 4429 4826 4413 4820 4525]\n",
      "[1914 3647 2411 ... 4285 4824 4828]\n"
     ]
    }
   ],
   "source": [
    "# plot feature importances with spacy tokens here\n",
    "# do feature score evaluation\n",
    "importances = rfc2.feature_importances_\n",
    "import_keys = np.argsort(importances)[::-1]\n",
    "print(import_keys[:10])\n",
    "import_keys = np.flip(import_keys, axis = 0)\n",
    "print(import_keys)\n",
    "importances = np.sort(importances)\n",
    "importances = np.flip(importances, axis = 0)"
   ]
  },
  {
   "cell_type": "code",
   "execution_count": 42,
   "metadata": {
    "collapsed": false
   },
   "outputs": [
    {
     "name": "stdout",
     "output_type": "stream",
     "text": [
      "[0 1 2 3 4 5 6 7 8 9] [0.12039155 0.03316927 0.02765408 0.02416592 0.01765351 0.01519242\n",
      " 0.01259255 0.01120186 0.01009837 0.00778613]\n",
      "[1914 3647 2411 1291 4825  626 2551 2747 3452 2289]\n",
      "['hair' 'rnc' 'kurdish' 'disqualification' 'ProperN' 'brought' 'locker'\n",
      " 'mired' 'rebecca' 'jabs']\n"
     ]
    }
   ],
   "source": [
    "x = np.arange(10)\n",
    "print(x, importances[:10])\n",
    "print(import_keys[:10])\n",
    "## 1 Number of first-person pronouns\n",
    "# 2 Number of second-person pronouns\n",
    "# 3 Number of third-person pronouns\n",
    "# 4 Number of coordinating conjunctions\n",
    "# 5 Number of past-tense verbs\n",
    "# 6 Number of future-tense verbs\n",
    "# 7 Number of common nouns\n",
    "# 8 Number of proper nouns\n",
    "# 9 Number of adverbs\n",
    "# 10 who words\n",
    "# 11 Average length of sentences, in tokens\n",
    "unique_keys = np.asarray(unique_keys)\n",
    "new_keys = [\"FirstP\", \"SecondP\", \"ThirdP\", \"CcomConj\", \"PresTV\", \"FutureTV\", \"CommonN\", \"ProperN\", \"Adverb\", \"WHO\", \"LENGTH\"]\n",
    "new_unique_keys = np.concatenate((unique_keys, new_keys))\n",
    "print(new_unique_keys[import_keys[:10]])"
   ]
  },
  {
   "cell_type": "code",
   "execution_count": 45,
   "metadata": {
    "collapsed": false
   },
   "outputs": [],
   "source": [
    "from matplotlib import pyplot as plt\n",
    "import matplotlib"
   ]
  },
  {
   "cell_type": "code",
   "execution_count": 46,
   "metadata": {
    "collapsed": true
   },
   "outputs": [],
   "source": [
    "font = {'family' : 'normal',\n",
    "        'weight' : 'bold',\n",
    "        'size'   : 15}\n",
    "#matplotlib.rc('text', usetex=True)\n",
    "matplotlib.rc('font', **font)"
   ]
  },
  {
   "cell_type": "code",
   "execution_count": 47,
   "metadata": {
    "collapsed": false
   },
   "outputs": [
    {
     "name": "stderr",
     "output_type": "stream",
     "text": [
      "/home/naireen/anaconda2/envs/CSC401/lib/python3.6/site-packages/matplotlib/font_manager.py:1316: UserWarning: findfont: Font family ['normal'] not found. Falling back to DejaVu Sans\n",
      "  (prop.get_family(), self.defaultFamily[fontext]))\n"
     ]
    },
    {
     "data": {
      "image/png": "[encoded data removed]",
      "text/plain": [
       "<matplotlib.figure.Figure at 0x7fa30e6b3048>"
      ]
     },
     "metadata": {},
     "output_type": "display_data"
    }
   ],
   "source": [
    "fig  = plt.figure(figsize=(10,5))\n",
    "ax = fig.add_subplot(\"111\")\n",
    "#ax = f.add_axes([0.1, 0.1, 0.8, 0.8])\n",
    "ax.bar(x, importances[:10])\n",
    "ax.set_xticks(x)\n",
    "plt.ylabel(\"Perctange Feature Importance\")\n",
    "plt.xlabel(\"Important Words\")\n",
    "ax.set_xticklabels(new_unique_keys[import_keys[:10]], rotation = 45)\n",
    "plt.show()"
   ]
  },
  {
   "cell_type": "code",
   "execution_count": 19,
   "metadata": {
    "collapsed": false
   },
   "outputs": [
    {
     "name": "stdout",
     "output_type": "stream",
     "text": [
      "north korea calls trump warning a load of nonsense\n"
     ]
    },
    {
     "data": {
      "text/html": [
       "<svg xmlns=\"http://www.w3.org/2000/svg\" xmlns:xlink=\"http://www.w3.org/1999/xlink\" id=\"0\" class=\"displacy\" width=\"995\" height=\"242.0\" style=\"max-width: none; height: 242.0px; color: #000000; background: #ffffff; font-family: Arial\">\n",
       "<text class=\"displacy-token\" fill=\"currentColor\" text-anchor=\"middle\" y=\"152.0\">\n",
       "    <tspan class=\"displacy-word\" fill=\"currentColor\" x=\"50\">north</tspan>\n",
       "    <tspan class=\"displacy-tag\" dy=\"2em\" fill=\"currentColor\" x=\"50\">NOUN</tspan>\n",
       "</text>\n",
       "\n",
       "<text class=\"displacy-token\" fill=\"currentColor\" text-anchor=\"middle\" y=\"152.0\">\n",
       "    <tspan class=\"displacy-word\" fill=\"currentColor\" x=\"155\">korea</tspan>\n",
       "    <tspan class=\"displacy-tag\" dy=\"2em\" fill=\"currentColor\" x=\"155\">NOUN</tspan>\n",
       "</text>\n",
       "\n",
       "<text class=\"displacy-token\" fill=\"currentColor\" text-anchor=\"middle\" y=\"152.0\">\n",
       "    <tspan class=\"displacy-word\" fill=\"currentColor\" x=\"260\">calls</tspan>\n",
       "    <tspan class=\"displacy-tag\" dy=\"2em\" fill=\"currentColor\" x=\"260\">NOUN</tspan>\n",
       "</text>\n",
       "\n",
       "<text class=\"displacy-token\" fill=\"currentColor\" text-anchor=\"middle\" y=\"152.0\">\n",
       "    <tspan class=\"displacy-word\" fill=\"currentColor\" x=\"365\">trump</tspan>\n",
       "    <tspan class=\"displacy-tag\" dy=\"2em\" fill=\"currentColor\" x=\"365\">VERB</tspan>\n",
       "</text>\n",
       "\n",
       "<text class=\"displacy-token\" fill=\"currentColor\" text-anchor=\"middle\" y=\"152.0\">\n",
       "    <tspan class=\"displacy-word\" fill=\"currentColor\" x=\"470\">warning</tspan>\n",
       "    <tspan class=\"displacy-tag\" dy=\"2em\" fill=\"currentColor\" x=\"470\">VERB</tspan>\n",
       "</text>\n",
       "\n",
       "<text class=\"displacy-token\" fill=\"currentColor\" text-anchor=\"middle\" y=\"152.0\">\n",
       "    <tspan class=\"displacy-word\" fill=\"currentColor\" x=\"575\">a</tspan>\n",
       "    <tspan class=\"displacy-tag\" dy=\"2em\" fill=\"currentColor\" x=\"575\">DET</tspan>\n",
       "</text>\n",
       "\n",
       "<text class=\"displacy-token\" fill=\"currentColor\" text-anchor=\"middle\" y=\"152.0\">\n",
       "    <tspan class=\"displacy-word\" fill=\"currentColor\" x=\"680\">load</tspan>\n",
       "    <tspan class=\"displacy-tag\" dy=\"2em\" fill=\"currentColor\" x=\"680\">NOUN</tspan>\n",
       "</text>\n",
       "\n",
       "<text class=\"displacy-token\" fill=\"currentColor\" text-anchor=\"middle\" y=\"152.0\">\n",
       "    <tspan class=\"displacy-word\" fill=\"currentColor\" x=\"785\">of</tspan>\n",
       "    <tspan class=\"displacy-tag\" dy=\"2em\" fill=\"currentColor\" x=\"785\">ADP</tspan>\n",
       "</text>\n",
       "\n",
       "<text class=\"displacy-token\" fill=\"currentColor\" text-anchor=\"middle\" y=\"152.0\">\n",
       "    <tspan class=\"displacy-word\" fill=\"currentColor\" x=\"890\">nonsense</tspan>\n",
       "    <tspan class=\"displacy-tag\" dy=\"2em\" fill=\"currentColor\" x=\"890\">NOUN</tspan>\n",
       "</text>\n",
       "\n",
       "<g class=\"displacy-arrow\">\n",
       "    <path class=\"displacy-arc\" id=\"arrow-0-0\" stroke-width=\"2px\" d=\"M70,107.0 C70,54.5 150.0,54.5 150.0,107.0\" fill=\"none\" stroke=\"currentColor\"/>\n",
       "    <text dy=\"1.25em\" style=\"font-size: 0.8em; letter-spacing: 1px\">\n",
       "        <textPath xlink:href=\"#arrow-0-0\" class=\"displacy-label\" startOffset=\"50%\" fill=\"currentColor\" text-anchor=\"middle\">amod</textPath>\n",
       "    </text>\n",
       "    <path class=\"displacy-arrowhead\" d=\"M70,109.0 L62,97.0 78,97.0\" fill=\"currentColor\"/>\n",
       "</g>\n",
       "\n",
       "<g class=\"displacy-arrow\">\n",
       "    <path class=\"displacy-arc\" id=\"arrow-0-1\" stroke-width=\"2px\" d=\"M175,107.0 C175,54.5 255.0,54.5 255.0,107.0\" fill=\"none\" stroke=\"currentColor\"/>\n",
       "    <text dy=\"1.25em\" style=\"font-size: 0.8em; letter-spacing: 1px\">\n",
       "        <textPath xlink:href=\"#arrow-0-1\" class=\"displacy-label\" startOffset=\"50%\" fill=\"currentColor\" text-anchor=\"middle\">nsubj</textPath>\n",
       "    </text>\n",
       "    <path class=\"displacy-arrowhead\" d=\"M175,109.0 L167,97.0 183,97.0\" fill=\"currentColor\"/>\n",
       "</g>\n",
       "\n",
       "<g class=\"displacy-arrow\">\n",
       "    <path class=\"displacy-arc\" id=\"arrow-0-2\" stroke-width=\"2px\" d=\"M280,107.0 C280,54.5 360.0,54.5 360.0,107.0\" fill=\"none\" stroke=\"currentColor\"/>\n",
       "    <text dy=\"1.25em\" style=\"font-size: 0.8em; letter-spacing: 1px\">\n",
       "        <textPath xlink:href=\"#arrow-0-2\" class=\"displacy-label\" startOffset=\"50%\" fill=\"currentColor\" text-anchor=\"middle\">dobj</textPath>\n",
       "    </text>\n",
       "    <path class=\"displacy-arrowhead\" d=\"M360.0,109.0 L368.0,97.0 352.0,97.0\" fill=\"currentColor\"/>\n",
       "</g>\n",
       "\n",
       "<g class=\"displacy-arrow\">\n",
       "    <path class=\"displacy-arc\" id=\"arrow-0-3\" stroke-width=\"2px\" d=\"M280,107.0 C280,2.0 470.0,2.0 470.0,107.0\" fill=\"none\" stroke=\"currentColor\"/>\n",
       "    <text dy=\"1.25em\" style=\"font-size: 0.8em; letter-spacing: 1px\">\n",
       "        <textPath xlink:href=\"#arrow-0-3\" class=\"displacy-label\" startOffset=\"50%\" fill=\"currentColor\" text-anchor=\"middle\">xcomp</textPath>\n",
       "    </text>\n",
       "    <path class=\"displacy-arrowhead\" d=\"M470.0,109.0 L478.0,97.0 462.0,97.0\" fill=\"currentColor\"/>\n",
       "</g>\n",
       "\n",
       "<g class=\"displacy-arrow\">\n",
       "    <path class=\"displacy-arc\" id=\"arrow-0-4\" stroke-width=\"2px\" d=\"M595,107.0 C595,54.5 675.0,54.5 675.0,107.0\" fill=\"none\" stroke=\"currentColor\"/>\n",
       "    <text dy=\"1.25em\" style=\"font-size: 0.8em; letter-spacing: 1px\">\n",
       "        <textPath xlink:href=\"#arrow-0-4\" class=\"displacy-label\" startOffset=\"50%\" fill=\"currentColor\" text-anchor=\"middle\">det</textPath>\n",
       "    </text>\n",
       "    <path class=\"displacy-arrowhead\" d=\"M595,109.0 L587,97.0 603,97.0\" fill=\"currentColor\"/>\n",
       "</g>\n",
       "\n",
       "<g class=\"displacy-arrow\">\n",
       "    <path class=\"displacy-arc\" id=\"arrow-0-5\" stroke-width=\"2px\" d=\"M490,107.0 C490,2.0 680.0,2.0 680.0,107.0\" fill=\"none\" stroke=\"currentColor\"/>\n",
       "    <text dy=\"1.25em\" style=\"font-size: 0.8em; letter-spacing: 1px\">\n",
       "        <textPath xlink:href=\"#arrow-0-5\" class=\"displacy-label\" startOffset=\"50%\" fill=\"currentColor\" text-anchor=\"middle\">dobj</textPath>\n",
       "    </text>\n",
       "    <path class=\"displacy-arrowhead\" d=\"M680.0,109.0 L688.0,97.0 672.0,97.0\" fill=\"currentColor\"/>\n",
       "</g>\n",
       "\n",
       "<g class=\"displacy-arrow\">\n",
       "    <path class=\"displacy-arc\" id=\"arrow-0-6\" stroke-width=\"2px\" d=\"M700,107.0 C700,54.5 780.0,54.5 780.0,107.0\" fill=\"none\" stroke=\"currentColor\"/>\n",
       "    <text dy=\"1.25em\" style=\"font-size: 0.8em; letter-spacing: 1px\">\n",
       "        <textPath xlink:href=\"#arrow-0-6\" class=\"displacy-label\" startOffset=\"50%\" fill=\"currentColor\" text-anchor=\"middle\">prep</textPath>\n",
       "    </text>\n",
       "    <path class=\"displacy-arrowhead\" d=\"M780.0,109.0 L788.0,97.0 772.0,97.0\" fill=\"currentColor\"/>\n",
       "</g>\n",
       "\n",
       "<g class=\"displacy-arrow\">\n",
       "    <path class=\"displacy-arc\" id=\"arrow-0-7\" stroke-width=\"2px\" d=\"M805,107.0 C805,54.5 885.0,54.5 885.0,107.0\" fill=\"none\" stroke=\"currentColor\"/>\n",
       "    <text dy=\"1.25em\" style=\"font-size: 0.8em; letter-spacing: 1px\">\n",
       "        <textPath xlink:href=\"#arrow-0-7\" class=\"displacy-label\" startOffset=\"50%\" fill=\"currentColor\" text-anchor=\"middle\">pobj</textPath>\n",
       "    </text>\n",
       "    <path class=\"displacy-arrowhead\" d=\"M885.0,109.0 L893.0,97.0 877.0,97.0\" fill=\"currentColor\"/>\n",
       "</g>\n",
       "</svg>"
      ],
      "text/plain": [
       "<IPython.core.display.HTML object>"
      ]
     },
     "metadata": {},
     "output_type": "display_data"
    }
   ],
   "source": [
    "#visualize the first training sentence\n",
    "doc = spacy.tokens.Doc(nlp.vocab, words = train_r[0])\n",
    "tokens = nlp(train_r[0])\n",
    "print(tokens)\n",
    "options = {\"word_spacing\":45, \"distance\": 105}\n",
    "spacy.displacy.render(tokens, style=\"dep\", jupyter = True, options=options)"
   ]
  },
  {
   "cell_type": "code",
   "execution_count": 20,
   "metadata": {
    "collapsed": false
   },
   "outputs": [
    {
     "name": "stdout",
     "output_type": "stream",
     "text": [
      "democrats plan to burn down u if trump elected\n"
     ]
    },
    {
     "data": {
      "text/html": [
       "<svg xmlns=\"http://www.w3.org/2000/svg\" xmlns:xlink=\"http://www.w3.org/1999/xlink\" id=\"0\" class=\"displacy\" width=\"995\" height=\"294.5\" style=\"max-width: none; height: 294.5px; color: #000000; background: #ffffff; font-family: Arial\">\n",
       "<text class=\"displacy-token\" fill=\"currentColor\" text-anchor=\"middle\" y=\"204.5\">\n",
       "    <tspan class=\"displacy-word\" fill=\"currentColor\" x=\"50\">democrats</tspan>\n",
       "    <tspan class=\"displacy-tag\" dy=\"2em\" fill=\"currentColor\" x=\"50\">NOUN</tspan>\n",
       "</text>\n",
       "\n",
       "<text class=\"displacy-token\" fill=\"currentColor\" text-anchor=\"middle\" y=\"204.5\">\n",
       "    <tspan class=\"displacy-word\" fill=\"currentColor\" x=\"155\">plan</tspan>\n",
       "    <tspan class=\"displacy-tag\" dy=\"2em\" fill=\"currentColor\" x=\"155\">VERB</tspan>\n",
       "</text>\n",
       "\n",
       "<text class=\"displacy-token\" fill=\"currentColor\" text-anchor=\"middle\" y=\"204.5\">\n",
       "    <tspan class=\"displacy-word\" fill=\"currentColor\" x=\"260\">to</tspan>\n",
       "    <tspan class=\"displacy-tag\" dy=\"2em\" fill=\"currentColor\" x=\"260\">PART</tspan>\n",
       "</text>\n",
       "\n",
       "<text class=\"displacy-token\" fill=\"currentColor\" text-anchor=\"middle\" y=\"204.5\">\n",
       "    <tspan class=\"displacy-word\" fill=\"currentColor\" x=\"365\">burn</tspan>\n",
       "    <tspan class=\"displacy-tag\" dy=\"2em\" fill=\"currentColor\" x=\"365\">VERB</tspan>\n",
       "</text>\n",
       "\n",
       "<text class=\"displacy-token\" fill=\"currentColor\" text-anchor=\"middle\" y=\"204.5\">\n",
       "    <tspan class=\"displacy-word\" fill=\"currentColor\" x=\"470\">down</tspan>\n",
       "    <tspan class=\"displacy-tag\" dy=\"2em\" fill=\"currentColor\" x=\"470\">PART</tspan>\n",
       "</text>\n",
       "\n",
       "<text class=\"displacy-token\" fill=\"currentColor\" text-anchor=\"middle\" y=\"204.5\">\n",
       "    <tspan class=\"displacy-word\" fill=\"currentColor\" x=\"575\">u</tspan>\n",
       "    <tspan class=\"displacy-tag\" dy=\"2em\" fill=\"currentColor\" x=\"575\">NOUN</tspan>\n",
       "</text>\n",
       "\n",
       "<text class=\"displacy-token\" fill=\"currentColor\" text-anchor=\"middle\" y=\"204.5\">\n",
       "    <tspan class=\"displacy-word\" fill=\"currentColor\" x=\"680\">if</tspan>\n",
       "    <tspan class=\"displacy-tag\" dy=\"2em\" fill=\"currentColor\" x=\"680\">ADP</tspan>\n",
       "</text>\n",
       "\n",
       "<text class=\"displacy-token\" fill=\"currentColor\" text-anchor=\"middle\" y=\"204.5\">\n",
       "    <tspan class=\"displacy-word\" fill=\"currentColor\" x=\"785\">trump</tspan>\n",
       "    <tspan class=\"displacy-tag\" dy=\"2em\" fill=\"currentColor\" x=\"785\">NOUN</tspan>\n",
       "</text>\n",
       "\n",
       "<text class=\"displacy-token\" fill=\"currentColor\" text-anchor=\"middle\" y=\"204.5\">\n",
       "    <tspan class=\"displacy-word\" fill=\"currentColor\" x=\"890\">elected</tspan>\n",
       "    <tspan class=\"displacy-tag\" dy=\"2em\" fill=\"currentColor\" x=\"890\">VERB</tspan>\n",
       "</text>\n",
       "\n",
       "<g class=\"displacy-arrow\">\n",
       "    <path class=\"displacy-arc\" id=\"arrow-0-0\" stroke-width=\"2px\" d=\"M70,159.5 C70,107.0 145.0,107.0 145.0,159.5\" fill=\"none\" stroke=\"currentColor\"/>\n",
       "    <text dy=\"1.25em\" style=\"font-size: 0.8em; letter-spacing: 1px\">\n",
       "        <textPath xlink:href=\"#arrow-0-0\" class=\"displacy-label\" startOffset=\"50%\" fill=\"currentColor\" text-anchor=\"middle\">nsubj</textPath>\n",
       "    </text>\n",
       "    <path class=\"displacy-arrowhead\" d=\"M70,161.5 L62,149.5 78,149.5\" fill=\"currentColor\"/>\n",
       "</g>\n",
       "\n",
       "<g class=\"displacy-arrow\">\n",
       "    <path class=\"displacy-arc\" id=\"arrow-0-1\" stroke-width=\"2px\" d=\"M280,159.5 C280,107.0 355.0,107.0 355.0,159.5\" fill=\"none\" stroke=\"currentColor\"/>\n",
       "    <text dy=\"1.25em\" style=\"font-size: 0.8em; letter-spacing: 1px\">\n",
       "        <textPath xlink:href=\"#arrow-0-1\" class=\"displacy-label\" startOffset=\"50%\" fill=\"currentColor\" text-anchor=\"middle\">aux</textPath>\n",
       "    </text>\n",
       "    <path class=\"displacy-arrowhead\" d=\"M280,161.5 L272,149.5 288,149.5\" fill=\"currentColor\"/>\n",
       "</g>\n",
       "\n",
       "<g class=\"displacy-arrow\">\n",
       "    <path class=\"displacy-arc\" id=\"arrow-0-2\" stroke-width=\"2px\" d=\"M175,159.5 C175,54.5 360.0,54.5 360.0,159.5\" fill=\"none\" stroke=\"currentColor\"/>\n",
       "    <text dy=\"1.25em\" style=\"font-size: 0.8em; letter-spacing: 1px\">\n",
       "        <textPath xlink:href=\"#arrow-0-2\" class=\"displacy-label\" startOffset=\"50%\" fill=\"currentColor\" text-anchor=\"middle\">xcomp</textPath>\n",
       "    </text>\n",
       "    <path class=\"displacy-arrowhead\" d=\"M360.0,161.5 L368.0,149.5 352.0,149.5\" fill=\"currentColor\"/>\n",
       "</g>\n",
       "\n",
       "<g class=\"displacy-arrow\">\n",
       "    <path class=\"displacy-arc\" id=\"arrow-0-3\" stroke-width=\"2px\" d=\"M385,159.5 C385,107.0 460.0,107.0 460.0,159.5\" fill=\"none\" stroke=\"currentColor\"/>\n",
       "    <text dy=\"1.25em\" style=\"font-size: 0.8em; letter-spacing: 1px\">\n",
       "        <textPath xlink:href=\"#arrow-0-3\" class=\"displacy-label\" startOffset=\"50%\" fill=\"currentColor\" text-anchor=\"middle\">prt</textPath>\n",
       "    </text>\n",
       "    <path class=\"displacy-arrowhead\" d=\"M460.0,161.5 L468.0,149.5 452.0,149.5\" fill=\"currentColor\"/>\n",
       "</g>\n",
       "\n",
       "<g class=\"displacy-arrow\">\n",
       "    <path class=\"displacy-arc\" id=\"arrow-0-4\" stroke-width=\"2px\" d=\"M385,159.5 C385,54.5 570.0,54.5 570.0,159.5\" fill=\"none\" stroke=\"currentColor\"/>\n",
       "    <text dy=\"1.25em\" style=\"font-size: 0.8em; letter-spacing: 1px\">\n",
       "        <textPath xlink:href=\"#arrow-0-4\" class=\"displacy-label\" startOffset=\"50%\" fill=\"currentColor\" text-anchor=\"middle\">dobj</textPath>\n",
       "    </text>\n",
       "    <path class=\"displacy-arrowhead\" d=\"M570.0,161.5 L578.0,149.5 562.0,149.5\" fill=\"currentColor\"/>\n",
       "</g>\n",
       "\n",
       "<g class=\"displacy-arrow\">\n",
       "    <path class=\"displacy-arc\" id=\"arrow-0-5\" stroke-width=\"2px\" d=\"M700,159.5 C700,54.5 885.0,54.5 885.0,159.5\" fill=\"none\" stroke=\"currentColor\"/>\n",
       "    <text dy=\"1.25em\" style=\"font-size: 0.8em; letter-spacing: 1px\">\n",
       "        <textPath xlink:href=\"#arrow-0-5\" class=\"displacy-label\" startOffset=\"50%\" fill=\"currentColor\" text-anchor=\"middle\">mark</textPath>\n",
       "    </text>\n",
       "    <path class=\"displacy-arrowhead\" d=\"M700,161.5 L692,149.5 708,149.5\" fill=\"currentColor\"/>\n",
       "</g>\n",
       "\n",
       "<g class=\"displacy-arrow\">\n",
       "    <path class=\"displacy-arc\" id=\"arrow-0-6\" stroke-width=\"2px\" d=\"M805,159.5 C805,107.0 880.0,107.0 880.0,159.5\" fill=\"none\" stroke=\"currentColor\"/>\n",
       "    <text dy=\"1.25em\" style=\"font-size: 0.8em; letter-spacing: 1px\">\n",
       "        <textPath xlink:href=\"#arrow-0-6\" class=\"displacy-label\" startOffset=\"50%\" fill=\"currentColor\" text-anchor=\"middle\">nsubj</textPath>\n",
       "    </text>\n",
       "    <path class=\"displacy-arrowhead\" d=\"M805,161.5 L797,149.5 813,149.5\" fill=\"currentColor\"/>\n",
       "</g>\n",
       "\n",
       "<g class=\"displacy-arrow\">\n",
       "    <path class=\"displacy-arc\" id=\"arrow-0-7\" stroke-width=\"2px\" d=\"M385,159.5 C385,2.0 890.0,2.0 890.0,159.5\" fill=\"none\" stroke=\"currentColor\"/>\n",
       "    <text dy=\"1.25em\" style=\"font-size: 0.8em; letter-spacing: 1px\">\n",
       "        <textPath xlink:href=\"#arrow-0-7\" class=\"displacy-label\" startOffset=\"50%\" fill=\"currentColor\" text-anchor=\"middle\">advcl</textPath>\n",
       "    </text>\n",
       "    <path class=\"displacy-arrowhead\" d=\"M890.0,161.5 L898.0,149.5 882.0,149.5\" fill=\"currentColor\"/>\n",
       "</g>\n",
       "</svg>"
      ],
      "text/plain": [
       "<IPython.core.display.HTML object>"
      ]
     },
     "metadata": {},
     "output_type": "display_data"
    }
   ],
   "source": [
    "#visualize the first training sentence\n",
    "doc = spacy.tokens.Doc(nlp.vocab, words = train_b[3])\n",
    "tokens = nlp(train_b[3])\n",
    "print(tokens)\n",
    "options = {\"word_spacing\":45, \"distance\": 105}\n",
    "spacy.displacy.render(tokens, style=\"dep\", jupyter = True, options=options)"
   ]
  },
  {
   "cell_type": "code",
   "execution_count": 21,
   "metadata": {
    "collapsed": false
   },
   "outputs": [],
   "source": [
    "#try using svm model\n",
    "from sklearn.svm import SVC"
   ]
  },
  {
   "cell_type": "code",
   "execution_count": 22,
   "metadata": {
    "collapsed": true
   },
   "outputs": [],
   "source": [
    "svc = SVC(random_state=0, kernel=\"rbf\", class_weight=\"balanced\", max_iter=10000, verbose = True, gamma = 0.1)"
   ]
  },
  {
   "cell_type": "code",
   "execution_count": 52,
   "metadata": {
    "collapsed": false,
    "scrolled": true
   },
   "outputs": [
    {
     "name": "stdout",
     "output_type": "stream",
     "text": [
      "[CV]  ................................................................\n",
      "[CV]  ................................................................\n",
      "[CV]  ................................................................\n",
      "[CV]  ................................................................\n",
      "[LibSVM][CV] ....................... , score=0.8537117903930131, total=  47.7s\n",
      "[CV]  ................................................................\n",
      "[LibSVM][CV] ....................... , score=0.8580786026200873, total=  54.8s\n"
     ]
    },
    {
     "name": "stderr",
     "output_type": "stream",
     "text": [
      "[Parallel(n_jobs=-1)]: Done   2 out of   5 | elapsed:   55.4s remaining:  1.4min\n"
     ]
    },
    {
     "name": "stdout",
     "output_type": "stream",
     "text": [
      "[LibSVM][CV] ....................... , score=0.8665207877461707, total=  55.8s\n",
      "[LibSVM][CV] ....................... , score=0.8558951965065502, total=  56.9s\n",
      "[LibSVM][CV] ....................... , score=0.8179824561403509, total=  30.4s\n",
      "[0.85371179 0.8558952  0.8580786  0.86652079 0.81798246]\n",
      "0.8504377666812346\n"
     ]
    },
    {
     "name": "stderr",
     "output_type": "stream",
     "text": [
      "[Parallel(n_jobs=-1)]: Done   5 out of   5 | elapsed:  1.3min finished\n"
     ]
    }
   ],
   "source": [
    "score = cross_val_score(svc, new_trainX, Y, cv = 5, scoring=\"accuracy\", verbose = 4, n_jobs = -1)\n",
    "print(score)\n",
    "print(np.mean(score))"
   ]
  },
  {
   "cell_type": "code",
   "execution_count": 54,
   "metadata": {
    "collapsed": false
   },
   "outputs": [
    {
     "name": "stdout",
     "output_type": "stream",
     "text": [
      "[CV]  ................................................................\n",
      "[CV]  ................................................................\n",
      "[CV]  ................................................................\n",
      "[CV]  ................................................................\n",
      "[LibSVM][CV] ....................... , score=0.9321254873238951, total=  52.6s\n",
      "[CV]  ................................................................\n",
      "[LibSVM][CV] ........................ , score=0.950748744183324, total=  57.1s\n"
     ]
    },
    {
     "name": "stderr",
     "output_type": "stream",
     "text": [
      "[Parallel(n_jobs=-1)]: Done   2 out of   5 | elapsed:   57.7s remaining:  1.4min\n"
     ]
    },
    {
     "name": "stdout",
     "output_type": "stream",
     "text": [
      "[LibSVM][CV] ....................... , score=0.9428891503219047, total=  58.5s\n",
      "[LibSVM][CV] ....................... , score=0.9311364963189293, total=  59.0s\n",
      "[LibSVM][CV] ....................... , score=0.9294172144136277, total=  26.1s\n",
      "[0.93212549 0.9311365  0.95074874 0.94288915 0.92941721]\n",
      "0.9372634185123362\n"
     ]
    },
    {
     "name": "stderr",
     "output_type": "stream",
     "text": [
      "[Parallel(n_jobs=-1)]: Done   5 out of   5 | elapsed:  1.3min finished\n"
     ]
    }
   ],
   "source": [
    "score = cross_val_score(svc, new_trainX, Y, cv = 5, scoring=\"average_precision\", verbose = 4, n_jobs = -1)\n",
    "print(score)\n",
    "print(np.mean(score))"
   ]
  },
  {
   "cell_type": "code",
   "execution_count": 55,
   "metadata": {
    "collapsed": false
   },
   "outputs": [
    {
     "name": "stdout",
     "output_type": "stream",
     "text": [
      "[CV]  ................................................................\n",
      "[CV]  ................................................................\n",
      "[CV]  ................................................................\n",
      "[CV]  ................................................................\n",
      "[CV] ....................... , score=0.8231441048034934, total=  10.4s\n",
      "[CV]  ................................................................\n",
      "[CV] ....................... , score=0.8449781659388647, total=  10.8s\n"
     ]
    },
    {
     "name": "stderr",
     "output_type": "stream",
     "text": [
      "[Parallel(n_jobs=-1)]: Done   2 out of   5 | elapsed:   11.0s remaining:   16.6s\n"
     ]
    },
    {
     "name": "stdout",
     "output_type": "stream",
     "text": [
      "[CV] ....................... , score=0.8493449781659389, total=  11.1s\n",
      "[CV] ....................... , score=0.8315098468271335, total=  11.0s\n",
      "[CV] ....................... , score=0.8135964912280702, total=   5.5s\n",
      "[0.84497817 0.8231441  0.84934498 0.83150985 0.81359649] 0.8325147173927\n"
     ]
    },
    {
     "name": "stderr",
     "output_type": "stream",
     "text": [
      "[Parallel(n_jobs=-1)]: Done   5 out of   5 | elapsed:   16.4s finished\n"
     ]
    }
   ],
   "source": [
    "#try gradient boosting as the third model, then take the majority vote\n",
    "# try KNN\n",
    "from sklearn.neighbors import KNeighborsClassifier\n",
    "knn = KNeighborsClassifier(n_neighbors= 10, n_jobs = -1)\n",
    "#should scale data for this\n",
    "#from sklearn.preprocessing import StandardScaler\n",
    "#sc = StandardScaler()\n",
    "#c.fit(new_trainX)\n",
    "#mention how score lowered when dats was scaled\n",
    "#norm_new_trainX = sc.transform(new_trainX)\n",
    "#norm_new_validX = sc.transform(new_validX)\n",
    "score = cross_val_score(knn,new_trainX, Y, cv = 5, n_jobs = -1, verbose = 5, scoring = \"accuracy\")\n",
    "print(score, np.mean(score))"
   ]
  },
  {
   "cell_type": "code",
   "execution_count": 56,
   "metadata": {
    "collapsed": false
   },
   "outputs": [
    {
     "name": "stdout",
     "output_type": "stream",
     "text": [
      "0.8489795918367347\n",
      "0.9134527443991598\n",
      "0.863265306122449\n",
      "0.835762327529882\n",
      "[LibSVM]0.8591836734693877\n",
      "0.8320383395040376\n"
     ]
    }
   ],
   "source": [
    "knn.fit(new_trainX, Y)\n",
    "preds = knn.predict(new_validX)\n",
    "print(metrics.accuracy_score(preds, validY))\n",
    "print(metrics.average_precision_score(preds, validY))\n",
    "\n",
    "rfc2.fit(new_trainX, Y)\n",
    "preds_1 = rfc2.predict(new_validX)\n",
    "print(metrics.accuracy_score(validY, preds_1))\n",
    "print(metrics.average_precision_score(validY, preds_1))\n",
    "\n",
    "svc.fit(new_trainX, Y)\n",
    "preds_2 = svc.predict(new_validX)\n",
    "print(metrics.accuracy_score(validY, preds_2))\n",
    "print(metrics.average_precision_score(validY, preds_2))"
   ]
  },
  {
   "cell_type": "code",
   "execution_count": 57,
   "metadata": {
    "collapsed": false
   },
   "outputs": [
    {
     "name": "stdout",
     "output_type": "stream",
     "text": [
      "0.8448979591836735\n",
      "0.8314954912993894\n"
     ]
    }
   ],
   "source": [
    "#print(preds)\n",
    "#print(preds_1)\n",
    "final_and_preds = (preds_1*preds_2*preds) #+ (preds_1*preds) + (preds*preds_2)\n",
    "#final_or_preds = preds_1+preds_2\n",
    "print(metrics.accuracy_score(validY, final_and_preds))\n",
    "print(metrics.average_precision_score(validY, final_and_preds))\n"
   ]
  },
  {
   "cell_type": "code",
   "execution_count": 23,
   "metadata": {
    "collapsed": false
   },
   "outputs": [
    {
     "name": "stdout",
     "output_type": "stream",
     "text": [
      "(2287, 4829)\n"
     ]
    }
   ],
   "source": [
    "#test performance of all these with nn\n",
    "print(new_trainX.shape)"
   ]
  },
  {
   "cell_type": "code",
   "execution_count": 24,
   "metadata": {
    "collapsed": false
   },
   "outputs": [
    {
     "data": {
      "text/plain": [
       "<torch._C.Generator at 0x7f6b6110c210>"
      ]
     },
     "execution_count": 24,
     "metadata": {},
     "output_type": "execute_result"
    }
   ],
   "source": [
    "import torch\n",
    "import torch.autograd as autograd\n",
    "import torch.nn as nn\n",
    "import torch.nn.functional as F\n",
    "import torch.optim as optim\n",
    "torch.manual_seed(1)"
   ]
  },
  {
   "cell_type": "code",
   "execution_count": 25,
   "metadata": {
    "collapsed": false
   },
   "outputs": [
    {
     "name": "stdout",
     "output_type": "stream",
     "text": [
      "Net(\n",
      "  (features): Sequential(\n",
      "    (0): Linear(in_features=4829, out_features=200, bias=True)\n",
      "    (1): ReLU()\n",
      "    (2): Linear(in_features=200, out_features=20, bias=True)\n",
      "    (3): ReLU()\n",
      "    (4): Linear(in_features=20, out_features=2, bias=True)\n",
      "  )\n",
      ")\n"
     ]
    }
   ],
   "source": [
    "class Net(nn.Module):\n",
    "\n",
    "    def __init__(self):\n",
    "        super(Net, self).__init__()\n",
    "        # 1 input image channel, 6 output channels, 5x5 square convolution\n",
    "        self.features = nn.Sequential(\n",
    "        # an affine operation: y = Wx + b\n",
    "        nn.Linear(new_trainX.shape[1], 200),\n",
    "        nn.ReLU(),\n",
    "        #nn.Linear(2000, 200),\n",
    "        #nn.ReLU(),\n",
    "        #nn.Dropout( 0.1),\n",
    "        nn.Linear(200, 20),\n",
    "        nn.ReLU(),\n",
    "        nn.Linear(20, 2), # final two classees, real or fake\n",
    "    )\n",
    "\n",
    "    def forward(self, x):\n",
    "        # If the size is a square you can only specify a single number\n",
    "        x = self.features(x)\n",
    "        return x\n",
    "\n",
    "net = Net()\n",
    "print(net)"
   ]
  },
  {
   "cell_type": "code",
   "execution_count": 26,
   "metadata": {
    "collapsed": false
   },
   "outputs": [
    {
     "name": "stdout",
     "output_type": "stream",
     "text": [
      "(2287, 4818)\n",
      "torch.Size([2287])\n"
     ]
    },
    {
     "data": {
      "text/plain": [
       "Variable containing:\n",
       " 0.0735  0.1894\n",
       " 0.0775  0.1939\n",
       " 0.0680  0.1949\n",
       "       ⋮        \n",
       " 0.0492  0.1736\n",
       " 0.0618  0.1824\n",
       " 0.0677  0.1880\n",
       "[torch.FloatTensor of size 2287x2]"
      ]
     },
     "execution_count": 26,
     "metadata": {},
     "output_type": "execute_result"
    }
   ],
   "source": [
    "#train_feats, trainY\n",
    "dtype_float = torch.FloatTensor\n",
    "dtype_long = torch.LongTensor\n",
    "print(train_feats.shape)#, valid_feats\n",
    "loss_fn = torch.nn.CrossEntropyLoss()\n",
    "from torch.autograd import Variable\n",
    "x_data = Variable(torch.from_numpy(new_trainX), requires_grad = False).type(dtype_float)\n",
    "x_valid_data = Variable(torch.from_numpy(new_validX), requires_grad = False).type(dtype_float)\n",
    "y_classes = Variable(torch.from_numpy(Y), requires_grad = False).type(dtype_long)\n",
    "\n",
    "#net.forward(x_data)\n",
    "print(y_classes.shape)\n",
    "learning_rate = 1e-3\n",
    "#optimal, lr = 2e-3, weight decay = 0.01\n",
    "optimizer = torch.optim.Adam(net.parameters(), lr = learning_rate, weight_decay=0.01)\n",
    "#softmax = torch.nn.Softmax()0\n",
    "net.forward(x_data)\n"
   ]
  },
  {
   "cell_type": "code",
   "execution_count": 27,
   "metadata": {
    "collapsed": false,
    "scrolled": true
   },
   "outputs": [
    {
     "name": "stdout",
     "output_type": "stream",
     "text": [
      "0 0.6837456822395325\n",
      "1 0.6808848977088928\n",
      "2 0.6777369976043701\n",
      "3 0.6749200224876404\n",
      "4 0.6718400716781616\n",
      "5 0.668483316898346\n",
      "6 0.6648978590965271\n",
      "7 0.6610564589500427\n",
      "8 0.6569338440895081\n",
      "9 0.6522485017776489\n",
      "10 0.6468033790588379\n",
      "11 0.6413451433181763\n",
      "12 0.6355941295623779\n",
      "13 0.6294041275978088\n",
      "14 0.6227185130119324\n",
      "15 0.6155015826225281\n",
      "16 0.6077702045440674\n",
      "17 0.5995270609855652\n",
      "18 0.5907649993896484\n",
      "19 0.5815044641494751\n",
      "20 0.5717987418174744\n",
      "21 0.5616547465324402\n",
      "22 0.5510494112968445\n",
      "23 0.5400202870368958\n",
      "24 0.5286377668380737\n",
      "25 0.5169503688812256\n",
      "26 0.5050110220909119\n",
      "27 0.49288955330848694\n",
      "28 0.48063069581985474\n",
      "29 0.46830254793167114\n",
      "30 0.45599138736724854\n",
      "31 0.4437576234340668\n",
      "32 0.43165817856788635\n",
      "33 0.41973885893821716\n",
      "34 0.4080491065979004\n",
      "35 0.396638423204422\n",
      "36 0.3855469822883606\n",
      "37 0.3748076856136322\n",
      "38 0.3644418716430664\n",
      "39 0.3544769585132599\n",
      "40 0.3449274003505707\n",
      "41 0.33580130338668823\n",
      "42 0.3270987272262573\n",
      "43 0.3188230097293854\n",
      "44 0.31097450852394104\n",
      "45 0.3035437762737274\n",
      "46 0.2965160608291626\n",
      "47 0.28987643122673035\n",
      "48 0.28360116481781006\n",
      "49 0.2776612639427185\n",
      "50 0.27203696966171265\n",
      "51 0.2667093276977539\n",
      "52 0.26165226101875305\n",
      "53 0.25685495138168335\n",
      "54 0.2522968649864197\n",
      "55 0.24796411395072937\n",
      "56 0.24383960664272308\n",
      "57 0.23991529643535614\n",
      "58 0.2361806184053421\n",
      "59 0.23268936574459076\n",
      "60 0.22954873740673065\n",
      "61 0.22664162516593933\n",
      "62 0.22315740585327148\n",
      "63 0.2200823426246643\n",
      "64 0.2177366465330124\n",
      "65 0.2147851437330246\n",
      "66 0.21218237280845642\n",
      "67 0.21008294820785522\n",
      "68 0.20746426284313202\n",
      "69 0.20527464151382446\n",
      "70 0.20333953201770782\n",
      "71 0.201004296541214\n",
      "72 0.19908355176448822\n",
      "73 0.19729003310203552\n",
      "74 0.19519713521003723\n",
      "75 0.1934400349855423\n",
      "76 0.19181334972381592\n",
      "77 0.18993628025054932\n",
      "78 0.18827272951602936\n",
      "79 0.18680210411548615\n",
      "80 0.18514898419380188\n",
      "81 0.18354478478431702\n",
      "82 0.18214045464992523\n",
      "83 0.18073171377182007\n",
      "84 0.1792546808719635\n",
      "85 0.17780610918998718\n",
      "86 0.17648598551750183\n",
      "87 0.1752113550901413\n",
      "88 0.17385873198509216\n",
      "89 0.1724991649389267\n",
      "90 0.17117944359779358\n",
      "91 0.16993048787117004\n",
      "92 0.16873405873775482\n",
      "93 0.16753661632537842\n",
      "94 0.16635695099830627\n",
      "95 0.16514769196510315\n",
      "96 0.16395603120326996\n",
      "97 0.16275736689567566\n",
      "98 0.16159524023532867\n",
      "99 0.1604529172182083\n",
      "100 0.1593397557735443\n",
      "101 0.15823961794376373\n",
      "102 0.1571507751941681\n",
      "103 0.1560722291469574\n",
      "104 0.1549999713897705\n",
      "105 0.15393555164337158\n",
      "106 0.15288981795310974\n",
      "107 0.15189985930919647\n",
      "108 0.15108352899551392\n",
      "109 0.15090085566043854\n",
      "110 0.15157000720500946\n",
      "111 0.15067781507968903\n",
      "112 0.14666613936424255\n",
      "113 0.14701662957668304\n",
      "114 0.1465751826763153\n",
      "115 0.14379195868968964\n",
      "116 0.14483687281608582\n",
      "117 0.14296507835388184\n",
      "118 0.14211702346801758\n",
      "119 0.1421949863433838\n",
      "120 0.14012446999549866\n",
      "121 0.1404767632484436\n",
      "122 0.1389666497707367\n",
      "123 0.13830818235874176\n",
      "124 0.13792754709720612\n",
      "125 0.13647250831127167\n",
      "126 0.13647089898586273\n",
      "127 0.13519565761089325\n",
      "128 0.1346742957830429\n",
      "129 0.13412252068519592\n",
      "130 0.13302108645439148\n",
      "131 0.13279254734516144\n",
      "132 0.131777822971344\n",
      "133 0.13119995594024658\n",
      "134 0.13067840039730072\n",
      "135 0.12972547113895416\n",
      "136 0.12934696674346924\n",
      "137 0.1285664141178131\n",
      "138 0.12785862386226654\n",
      "139 0.12741321325302124\n",
      "140 0.1265943944454193\n",
      "141 0.12604975700378418\n",
      "142 0.12551899254322052\n",
      "143 0.12477774173021317\n",
      "144 0.12429878860712051\n",
      "145 0.1237410381436348\n",
      "146 0.12308073043823242\n",
      "147 0.12261466681957245\n",
      "148 0.12206482887268066\n",
      "149 0.12145111709833145\n",
      "150 0.12097930163145065\n",
      "151 0.1204579547047615\n",
      "152 0.11987748742103577\n",
      "153 0.11939793825149536\n",
      "154 0.1189177930355072\n",
      "155 0.11836916953325272\n",
      "156 0.11787443608045578\n",
      "157 0.11741857975721359\n",
      "158 0.11691036075353622\n",
      "159 0.11640742421150208\n",
      "160 0.11595316231250763\n",
      "161 0.1154949963092804\n",
      "162 0.11501535773277283\n",
      "163 0.11454533785581589\n",
      "164 0.1141066923737526\n",
      "165 0.11367277801036835\n",
      "166 0.11321770399808884\n",
      "167 0.11277279257774353\n",
      "168 0.11234800517559052\n",
      "169 0.1119304969906807\n",
      "170 0.11151231825351715\n",
      "171 0.11108367145061493\n",
      "172 0.11066629737615585\n",
      "173 0.11026271432638168\n",
      "174 0.10986761003732681\n",
      "175 0.10947921872138977\n",
      "176 0.10908421874046326\n",
      "177 0.1086931973695755\n",
      "178 0.1083032488822937\n",
      "179 0.1079232394695282\n",
      "180 0.10755084455013275\n",
      "181 0.10718265920877457\n",
      "182 0.10682418197393417\n",
      "183 0.10646148025989532\n",
      "184 0.1061062216758728\n",
      "185 0.10574598610401154\n",
      "186 0.10539693385362625\n",
      "187 0.10504426062107086\n",
      "188 0.10470680147409439\n",
      "189 0.10436930507421494\n",
      "190 0.10405406355857849\n",
      "191 0.10374563932418823\n",
      "192 0.10347983241081238\n",
      "193 0.10325191169977188\n",
      "194 0.10311523824930191\n",
      "195 0.1030707135796547\n",
      "196 0.10303588211536407\n",
      "197 0.10283874720335007\n",
      "198 0.10203865170478821\n",
      "199 0.10092999041080475\n",
      "200 0.10019834339618683\n",
      "201 0.10025299340486526\n",
      "202 0.1006292924284935\n",
      "203 0.10061364620923996\n",
      "204 0.10000801831483841\n",
      "205 0.09922455251216888\n",
      "206 0.09882954508066177\n",
      "207 0.09882121533155441\n",
      "208 0.09877036511898041\n",
      "209 0.0983748510479927\n",
      "210 0.09779368340969086\n",
      "211 0.09738089889287949\n",
      "212 0.09724997729063034\n",
      "213 0.09718672186136246\n",
      "214 0.09693359583616257\n",
      "215 0.09648812562227249\n",
      "216 0.09601752460002899\n",
      "217 0.09570896625518799\n",
      "218 0.09554992616176605\n",
      "219 0.09539543092250824\n",
      "220 0.09515030682086945\n",
      "221 0.09478405117988586\n",
      "222 0.09439647942781448\n",
      "223 0.09406012296676636\n",
      "224 0.0938146784901619\n",
      "225 0.09362798184156418\n",
      "226 0.09342920035123825\n",
      "227 0.09320081025362015\n",
      "228 0.09290485829114914\n",
      "229 0.09258390963077545\n",
      "230 0.09224643558263779\n",
      "231 0.09194176644086838\n",
      "232 0.09166768193244934\n",
      "233 0.09143055230379105\n",
      "234 0.09121381491422653\n",
      "235 0.09099752455949783\n",
      "236 0.09078669548034668\n",
      "237 0.09056518971920013\n",
      "238 0.09036865085363388\n",
      "239 0.0901833325624466\n",
      "240 0.09004760533571243\n",
      "241 0.08994053304195404\n",
      "242 0.08984699845314026\n",
      "243 0.08970468491315842\n",
      "244 0.08936432749032974\n",
      "245 0.08882086724042892\n",
      "246 0.08816869556903839\n",
      "247 0.0876915380358696\n",
      "248 0.08757265657186508\n",
      "249 0.08771666884422302\n",
      "250 0.08788105100393295\n",
      "251 0.08788038045167923\n",
      "252 0.08759691566228867\n",
      "253 0.08706368505954742\n",
      "254 0.08646363019943237\n",
      "255 0.0860542356967926\n",
      "256 0.0859169289469719\n",
      "257 0.08595795184373856\n",
      "258 0.08601637929677963\n",
      "259 0.08592573553323746\n",
      "260 0.08566597104072571\n",
      "261 0.08526203781366348\n",
      "262 0.08485262840986252\n",
      "263 0.08452677726745605\n",
      "264 0.08434978872537613\n",
      "265 0.08428152650594711\n",
      "266 0.08423209935426712\n",
      "267 0.08415697515010834\n",
      "268 0.08398924767971039\n",
      "269 0.08376031368970871\n",
      "270 0.0834619551897049\n",
      "271 0.08316557109355927\n",
      "272 0.0828818827867508\n",
      "273 0.08266333490610123\n",
      "274 0.08248989284038544\n",
      "275 0.08235568553209305\n",
      "276 0.0822305977344513\n",
      "277 0.08209104090929031\n",
      "278 0.08195454627275467\n",
      "279 0.08180587738752365\n",
      "280 0.08168802410364151\n",
      "281 0.08157438039779663\n",
      "282 0.08149947971105576\n",
      "283 0.08142135292291641\n",
      "284 0.08132462948560715\n",
      "285 0.08115781098604202\n",
      "286 0.080860935151577\n",
      "287 0.08044182509183884\n",
      "288 0.0800023078918457\n",
      "289 0.07967785000801086\n",
      "290 0.07957777380943298\n",
      "291 0.07964196801185608\n",
      "292 0.07974453270435333\n",
      "293 0.07981400191783905\n",
      "294 0.07975088804960251\n",
      "295 0.07954275608062744\n",
      "296 0.07918069511651993\n",
      "297 0.07874070107936859\n",
      "298 0.07833217829465866\n",
      "299 0.07811097055673599\n",
      "300 0.0780763328075409\n",
      "301 0.07815095782279968\n",
      "302 0.07823927700519562\n",
      "303 0.07822386175394058\n",
      "304 0.07809873670339584\n",
      "305 0.07783689349889755\n",
      "306 0.07750559598207474\n",
      "307 0.07714775204658508\n",
      "308 0.07687967270612717\n",
      "309 0.07671836018562317\n",
      "310 0.0766734778881073\n",
      "311 0.07668223232030869\n",
      "312 0.07667183130979538\n",
      "313 0.07663453370332718\n",
      "314 0.07652246952056885\n",
      "315 0.0763753354549408\n",
      "316 0.07616669684648514\n",
      "317 0.07593841850757599\n",
      "318 0.07568080723285675\n",
      "319 0.07545892894268036\n",
      "320 0.07526780664920807\n",
      "321 0.07514853030443192\n",
      "322 0.07506094872951508\n",
      "323 0.07499081641435623\n",
      "324 0.0749165341258049\n",
      "325 0.0748184323310852\n",
      "326 0.0747271254658699\n",
      "327 0.0746246874332428\n",
      "328 0.07456077635288239\n",
      "329 0.07450266927480698\n",
      "330 0.07447243481874466\n",
      "331 0.0744158998131752\n",
      "332 0.07430092990398407\n",
      "333 0.07408146560192108\n",
      "334 0.07374649494886398\n",
      "335 0.073361337184906\n",
      "336 0.07306785881519318\n",
      "337 0.07293079048395157\n",
      "338 0.0729622095823288\n",
      "339 0.0730755478143692\n",
      "340 0.07316164672374725\n",
      "341 0.07319926470518112\n",
      "342 0.07312541455030441\n",
      "343 0.07295005768537521\n",
      "344 0.0726434662938118\n",
      "345 0.07226373255252838\n",
      "346 0.07189026474952698\n",
      "347 0.07167553156614304\n",
      "348 0.07164451479911804\n",
      "349 0.07174590229988098\n",
      "350 0.0718826949596405\n",
      "351 0.07193711400032043\n",
      "352 0.07190056890249252\n",
      "353 0.07172495871782303\n",
      "354 0.07144106179475784\n",
      "355 0.07107224315404892\n",
      "356 0.07074235379695892\n",
      "357 0.07052119821310043\n",
      "358 0.07047567516565323\n",
      "359 0.07054020464420319\n",
      "360 0.07061989605426788\n",
      "361 0.07067051529884338\n",
      "362 0.07062171399593353\n",
      "363 0.07050790637731552\n",
      "364 0.07029646635055542\n",
      "365 0.07004395872354507\n",
      "366 0.06975089013576508\n",
      "367 0.06951411813497543\n",
      "368 0.06934663653373718\n",
      "369 0.06928876042366028\n",
      "370 0.06928595155477524\n",
      "371 0.06928946822881699\n",
      "372 0.0692806988954544\n",
      "373 0.06922499090433121\n",
      "374 0.0691676139831543\n",
      "375 0.06907093524932861\n",
      "376 0.06897794455289841\n",
      "377 0.06883563101291656\n",
      "378 0.06866147369146347\n",
      "379 0.06842641532421112\n",
      "380 0.0681932121515274\n",
      "381 0.06797721982002258\n",
      "382 0.0678504928946495\n",
      "383 0.06778758764266968\n",
      "384 0.06777254492044449\n",
      "385 0.06776866316795349\n",
      "386 0.06773646175861359\n",
      "387 0.06771358847618103\n",
      "388 0.06766465306282043\n",
      "389 0.06763920933008194\n",
      "390 0.06757878512144089\n",
      "391 0.06748374551534653\n",
      "392 0.06729306280612946\n",
      "393 0.06701420247554779\n",
      "394 0.0666821151971817\n",
      "395 0.06641881912946701\n",
      "396 0.06627774983644485\n",
      "397 0.06629003584384918\n",
      "398 0.0663803368806839\n",
      "399 0.06646198034286499\n",
      "400 0.06652697920799255\n",
      "401 0.06651237607002258\n",
      "402 0.06645271927118301\n",
      "403 0.06629200279712677\n",
      "404 0.06603258103132248\n",
      "405 0.06567306071519852\n",
      "406 0.06533385813236237\n",
      "407 0.06510797888040543\n",
      "408 0.06509179621934891\n",
      "409 0.06521440297365189\n",
      "410 0.06536204367876053\n",
      "411 0.06548584252595901\n",
      "412 0.0654953271150589\n",
      "413 0.065411776304245\n",
      "414 0.06518707424402237\n",
      "415 0.06485071778297424\n",
      "416 0.06445356458425522\n",
      "417 0.06415584683418274\n",
      "418 0.0640370324254036\n",
      "419 0.06412307918071747\n",
      "420 0.0643097534775734\n",
      "421 0.06445883214473724\n",
      "422 0.06453696638345718\n",
      "423 0.06447094678878784\n",
      "424 0.06427913159132004\n",
      "425 0.06394635885953903\n",
      "426 0.06356797367334366\n",
      "427 0.06323429197072983\n",
      "428 0.06309816986322403\n",
      "429 0.06315243989229202\n",
      "430 0.06331510841846466\n",
      "431 0.0634889006614685\n",
      "432 0.06355857104063034\n",
      "433 0.06353459507226944\n",
      "434 0.06336599588394165\n",
      "435 0.06310255080461502\n",
      "436 0.06274685263633728\n",
      "437 0.062426209449768066\n",
      "438 0.06221795082092285\n",
      "439 0.06220425292849541\n",
      "440 0.06231965497136116\n",
      "441 0.06245947629213333\n",
      "442 0.06257935613393784\n",
      "443 0.06259103119373322\n",
      "444 0.06252790242433548\n",
      "445 0.062340572476387024\n",
      "446 0.06207168102264404\n",
      "447 0.06173107400536537\n",
      "448 0.06144644320011139\n",
      "449 0.06128087267279625\n",
      "450 0.06129384785890579\n",
      "451 0.06141238287091255\n",
      "452 0.0615403987467289\n",
      "453 0.06164702773094177\n",
      "454 0.06165338680148125\n",
      "455 0.061593879014253616\n",
      "456 0.06141871586441994\n",
      "457 0.06116757541894913\n",
      "458 0.060840822756290436\n",
      "459 0.06055550277233124\n",
      "460 0.06037559732794762\n",
      "461 0.060375526547431946\n",
      "462 0.0604885071516037\n",
      "463 0.06062433496117592\n",
      "464 0.060742124915122986\n",
      "465 0.06076371297240257\n",
      "466 0.060730528086423874\n",
      "467 0.060582514852285385\n",
      "468 0.06034548208117485\n",
      "469 0.060007959604263306\n",
      "470 0.0596860907971859\n",
      "471 0.05947284772992134\n",
      "472 0.05946808308362961\n",
      "473 0.05961248651146889\n",
      "474 0.059790946543216705\n",
      "475 0.05994958057999611\n",
      "476 0.05999264121055603\n",
      "477 0.05994384363293648\n",
      "478 0.05974425747990608\n",
      "479 0.05941793695092201\n",
      "480 0.059015724807977676\n",
      "481 0.05871434509754181\n",
      "482 0.05860646069049835\n",
      "483 0.05873115733265877\n",
      "484 0.05896301567554474\n",
      "485 0.05915702506899834\n",
      "486 0.05927293002605438\n",
      "487 0.059230536222457886\n",
      "488 0.05906497687101364\n",
      "489 0.058741435408592224\n",
      "490 0.05834631249308586\n",
      "491 0.05799270421266556\n",
      "492 0.057867661118507385\n",
      "493 0.0579754002392292\n",
      "494 0.05821239948272705\n",
      "495 0.05848326161503792\n",
      "496 0.05862061679363251\n",
      "497 0.05861432105302811\n",
      "498 0.058400243520736694\n",
      "499 0.058013662695884705\n",
      "500 0.05754486843943596\n",
      "501 0.05722322687506676\n",
      "502 0.057160910218954086\n",
      "503 0.05736339092254639\n",
      "504 0.05768634378910065\n",
      "505 0.057927194982767105\n",
      "506 0.0580279603600502\n",
      "507 0.05790078639984131\n",
      "508 0.05758240073919296\n",
      "509 0.057118549942970276\n",
      "510 0.056718021631240845\n",
      "511 0.05653033033013344\n",
      "512 0.05664270743727684\n",
      "513 0.05693213641643524\n",
      "514 0.05719612538814545\n",
      "515 0.05737227946519852\n",
      "516 0.057325564324855804\n",
      "517 0.057074397802352905\n",
      "518 0.05665082111954689\n",
      "519 0.056230805814266205\n",
      "520 0.055984143167734146\n",
      "521 0.05603314936161041\n",
      "522 0.056270550936460495\n",
      "523 0.056520260870456696\n",
      "524 0.05670543760061264\n",
      "525 0.05669083818793297\n",
      "526 0.05650007352232933\n",
      "527 0.056151729077100754\n",
      "528 0.055794503539800644\n",
      "529 0.05553482472896576\n",
      "530 0.055504269897937775\n",
      "531 0.05563586577773094\n",
      "532 0.055818770080804825\n",
      "533 0.05599090829491615\n",
      "534 0.05603255704045296\n",
      "535 0.05598943307995796\n",
      "536 0.05578682944178581\n",
      "537 0.055513206869363785\n",
      "538 0.0552082397043705\n",
      "539 0.05502058193087578\n",
      "540 0.05497242510318756\n",
      "541 0.05507119372487068\n",
      "542 0.05522225797176361\n",
      "543 0.05532711371779442\n",
      "544 0.05539571866393089\n",
      "545 0.055349964648485184\n",
      "546 0.05525590479373932\n",
      "547 0.05505619943141937\n",
      "548 0.054832763969898224\n",
      "549 0.054592423141002655\n",
      "550 0.05445202812552452\n",
      "551 0.054421957582235336\n",
      "552 0.054504960775375366\n",
      "553 0.054621368646621704\n",
      "554 0.05469425022602081\n",
      "555 0.05475325137376785\n",
      "556 0.054731711745262146\n",
      "557 0.05468674749135971\n",
      "558 0.05455092340707779\n",
      "559 0.05437638983130455\n",
      "560 0.05414091423153877\n",
      "561 0.053960394114255905\n",
      "562 0.053848955780267715\n",
      "563 0.05385734885931015\n",
      "564 0.053924307227134705\n",
      "565 0.05400349944829941\n",
      "566 0.05408725142478943\n",
      "567 0.05410775914788246\n",
      "568 0.054140396416187286\n",
      "569 0.054093003273010254\n",
      "570 0.05399644374847412\n",
      "571 0.05380032956600189\n",
      "572 0.053582511842250824\n",
      "573 0.053362954407930374\n",
      "574 0.053264591842889786\n",
      "575 0.05325673148036003\n",
      "576 0.053335268050432205\n",
      "577 0.05342377722263336\n",
      "578 0.053471777588129044\n",
      "579 0.05352798476815224\n",
      "580 0.053536638617515564\n",
      "581 0.053563378751277924\n",
      "582 0.053503748029470444\n",
      "583 0.053373612463474274\n",
      "584 0.05312717333436012\n",
      "585 0.05285452678799629\n",
      "586 0.05264277383685112\n",
      "587 0.05261942744255066\n",
      "588 0.05272272229194641\n",
      "589 0.05288068950176239\n",
      "590 0.053050994873046875\n",
      "591 0.05313689634203911\n",
      "592 0.05319305881857872\n",
      "593 0.05312769487500191\n",
      "594 0.05294989421963692\n",
      "595 0.05264189466834068\n",
      "596 0.05231160297989845\n",
      "597 0.05208378657698631\n",
      "598 0.05209361016750336\n",
      "599 0.05227407440543175\n",
      "600 0.05250532552599907\n",
      "601 0.05273190885782242\n",
      "602 0.05283236876130104\n",
      "603 0.05283338576555252\n",
      "604 0.05266033858060837\n",
      "605 0.05233728140592575\n",
      "606 0.0519227609038353\n",
      "607 0.05163341388106346\n",
      "608 0.05159865319728851\n",
      "609 0.05182711035013199\n",
      "610 0.052182458341121674\n",
      "611 0.052460890263319016\n",
      "612 0.0526297353208065\n",
      "613 0.05256381258368492\n",
      "614 0.05225091427564621\n",
      "615 0.05174502730369568\n",
      "616 0.05126044526696205\n",
      "617 0.05108422040939331\n",
      "618 0.0513252317905426\n",
      "619 0.05180225148797035\n",
      "620 0.052204590290784836\n",
      "621 0.05241302400827408\n",
      "622 0.05227552726864815\n",
      "623 0.05180215835571289\n",
      "624 0.05118255689740181\n",
      "625 0.050789542496204376\n",
      "626 0.05082627013325691\n",
      "627 0.05121181905269623\n",
      "628 0.05169505998492241\n",
      "629 0.051956161856651306\n",
      "630 0.05192392319440842\n",
      "631 0.051560744643211365\n",
      "632 0.051042716950178146\n",
      "633 0.05063918977975845\n",
      "634 0.05059482902288437\n",
      "635 0.050866540521383286\n",
      "636 0.05121501907706261\n",
      "637 0.051483068615198135\n",
      "638 0.05147198215126991\n",
      "639 0.051210980862379074\n",
      "640 0.05079655721783638\n",
      "641 0.05048380792140961\n",
      "642 0.05040571838617325\n",
      "643 0.05056995153427124\n",
      "644 0.05086706578731537\n",
      "645 0.05106118321418762\n",
      "646 0.05110412463545799\n",
      "647 0.05091087147593498\n",
      "648 0.05061497911810875\n",
      "649 0.05030910298228264\n",
      "650 0.05018295347690582\n",
      "651 0.05025177821516991\n",
      "652 0.050432536751031876\n",
      "653 0.05064374580979347\n",
      "654 0.05071130767464638\n",
      "655 0.05066363513469696\n",
      "656 0.050451938062906265\n",
      "657 0.05020664259791374\n",
      "658 0.049997273832559586\n",
      "659 0.04993727430701256\n",
      "660 0.050013985484838486\n",
      "661 0.05015386641025543\n",
      "662 0.05032607913017273\n",
      "663 0.05038326233625412\n",
      "664 0.0503372959792614\n",
      "665 0.05015559121966362\n",
      "666 0.04995222017168999\n",
      "667 0.04975637421011925\n",
      "668 0.049691542983055115\n",
      "669 0.049715980887413025\n",
      "670 0.04980006068944931\n",
      "671 0.04990315064787865\n",
      "672 0.04995488375425339\n",
      "673 0.049997176975011826\n",
      "674 0.04995424300432205\n",
      "675 0.04988709092140198\n",
      "676 0.04973645880818367\n",
      "677 0.04958295449614525\n",
      "678 0.049438513815402985\n",
      "679 0.04939616471529007\n",
      "680 0.049419451504945755\n",
      "681 0.04949234053492546\n",
      "682 0.049577727913856506\n",
      "683 0.049609918147325516\n",
      "684 0.049621667712926865\n",
      "685 0.04956944286823273\n",
      "686 0.04953585937619209\n",
      "687 0.04944144934415817\n",
      "688 0.04935426637530327\n",
      "689 0.04924166202545166\n",
      "690 0.04917072877287865\n",
      "691 0.0491178072988987\n",
      "692 0.049126651138067245\n",
      "693 0.04913832247257233\n",
      "694 0.0491512231528759\n",
      "695 0.049151286482810974\n",
      "696 0.04912157729268074\n",
      "697 0.0491098128259182\n",
      "698 0.0490836463868618\n",
      "699 0.049097657203674316\n",
      "700 0.04908551648259163\n",
      "701 0.04911107197403908\n",
      "702 0.04908507317304611\n",
      "703 0.04906470328569412\n",
      "704 0.04898547753691673\n",
      "705 0.04890908673405647\n",
      "706 0.04880957677960396\n",
      "707 0.04876036196947098\n",
      "708 0.0487137995660305\n",
      "709 0.048715926706790924\n",
      "710 0.048699088394641876\n",
      "711 0.04868578165769577\n",
      "712 0.04865248501300812\n",
      "713 0.04862875118851662\n",
      "714 0.04859613999724388\n",
      "715 0.04857165366411209\n",
      "716 0.04853975772857666\n",
      "717 0.0485091432929039\n",
      "718 0.048474427312612534\n",
      "719 0.04845556989312172\n",
      "720 0.048433996737003326\n",
      "721 0.04844295606017113\n",
      "722 0.048444073647260666\n",
      "723 0.048479653894901276\n",
      "724 0.048505958169698715\n",
      "725 0.04859629273414612\n",
      "726 0.04869065061211586\n",
      "727 0.04886434227228165\n",
      "728 0.04901101067662239\n",
      "729 0.04911810904741287\n",
      "730 0.049060944467782974\n",
      "731 0.04873567447066307\n",
      "732 0.04820534959435463\n",
      "733 0.047726113349199295\n",
      "734 0.047603361308574677\n",
      "735 0.04793671518564224\n",
      "736 0.0485307052731514\n",
      "737 0.0490887351334095\n",
      "738 0.049516867846250534\n",
      "739 0.04965300112962723\n",
      "740 0.04920407012104988\n",
      "741 0.04820111766457558\n",
      "742 0.04705825075507164\n",
      "743 0.046893272548913956\n",
      "744 0.04786445572972298\n",
      "745 0.0491371676325798\n",
      "746 0.049897950142621994\n",
      "747 0.04965933784842491\n",
      "748 0.04857263341546059\n",
      "749 0.04717634990811348\n",
      "750 0.046803925186395645\n",
      "751 0.0476466603577137\n",
      "752 0.04870397970080376\n",
      "753 0.049033112823963165\n",
      "754 0.04850108548998833\n",
      "755 0.04765209183096886\n",
      "756 0.04727886617183685\n",
      "757 0.047611963003873825\n",
      "758 0.04810444265604019\n",
      "759 0.04822344332933426\n",
      "760 0.04787673428654671\n",
      "761 0.0474848710000515\n",
      "762 0.04736124351620674\n",
      "763 0.047544192522764206\n",
      "764 0.04776383936405182\n",
      "765 0.04775509983301163\n",
      "766 0.04760180041193962\n",
      "767 0.0473998486995697\n",
      "768 0.04735540598630905\n",
      "769 0.047438908368349075\n",
      "770 0.04752400144934654\n",
      "771 0.047536130994558334\n",
      "772 0.04742947593331337\n",
      "773 0.0473252609372139\n",
      "774 0.047256313264369965\n",
      "775 0.04725952818989754\n",
      "776 0.047314610332250595\n",
      "777 0.04733467102050781\n",
      "778 0.047326549887657166\n",
      "779 0.04724816232919693\n",
      "780 0.04718347638845444\n",
      "781 0.04713722690939903\n",
      "782 0.04713016748428345\n",
      "783 0.047149334102869034\n",
      "784 0.0471482090651989\n",
      "785 0.04715082421898842\n",
      "786 0.04710507392883301\n",
      "787 0.04706590250134468\n",
      "788 0.04701872915029526\n",
      "789 0.046997588127851486\n",
      "790 0.04698721319437027\n",
      "791 0.046981554478406906\n",
      "792 0.04699346795678139\n",
      "793 0.04697684571146965\n",
      "794 0.04695383459329605\n",
      "795 0.04690218344330788\n",
      "796 0.04686190187931061\n",
      "797 0.04682808369398117\n",
      "798 0.046818941831588745\n",
      "799 0.04681897908449173\n",
      "800 0.04682065173983574\n",
      "801 0.0468212254345417\n",
      "802 0.04679364711046219\n",
      "803 0.046765778213739395\n",
      "804 0.04672769457101822\n",
      "805 0.04671010747551918\n",
      "806 0.046688713133335114\n",
      "807 0.04667753726243973\n",
      "808 0.04665597900748253\n",
      "809 0.0466381311416626\n",
      "810 0.046620339155197144\n",
      "811 0.046611808240413666\n",
      "812 0.04660086706280708\n",
      "813 0.04658156633377075\n",
      "814 0.04655668884515762\n",
      "815 0.04652762785553932\n",
      "816 0.04651724547147751\n",
      "817 0.04650832340121269\n",
      "818 0.04651426151394844\n",
      "819 0.04649927467107773\n",
      "820 0.04648617282509804\n",
      "821 0.04645618051290512\n",
      "822 0.04644255340099335\n",
      "823 0.04641849547624588\n",
      "824 0.046422604471445084\n",
      "825 0.0464094877243042\n",
      "826 0.046408478170633316\n",
      "827 0.04637843742966652\n",
      "828 0.04635755717754364\n",
      "829 0.04631783440709114\n",
      "830 0.04631209373474121\n",
      "831 0.046294063329696655\n",
      "832 0.046296991407871246\n",
      "833 0.0462796688079834\n",
      "834 0.046285372227430344\n",
      "835 0.04626643657684326\n",
      "836 0.04626160115003586\n",
      "837 0.0462309867143631\n",
      "838 0.046232253313064575\n",
      "839 0.0462137833237648\n",
      "840 0.0462053120136261\n",
      "841 0.04617547243833542\n",
      "842 0.04618300497531891\n",
      "843 0.04616629332304001\n",
      "844 0.04615980386734009\n",
      "845 0.046127799898386\n",
      "846 0.04611670598387718\n",
      "847 0.046085864305496216\n",
      "848 0.04608554020524025\n",
      "849 0.04606691375374794\n",
      "850 0.046072158962488174\n",
      "851 0.04605526104569435\n",
      "852 0.04604702815413475\n",
      "853 0.046020738780498505\n",
      "854 0.046046286821365356\n",
      "855 0.04604826495051384\n",
      "856 0.046070754528045654\n",
      "857 0.04604648798704147\n",
      "858 0.04604029282927513\n",
      "859 0.04600347951054573\n",
      "860 0.04601415619254112\n",
      "861 0.045990731567144394\n",
      "862 0.045984067022800446\n",
      "863 0.045938827097415924\n",
      "864 0.04591325670480728\n",
      "865 0.04586745798587799\n",
      "866 0.045852866023778915\n",
      "867 0.04583028331398964\n",
      "868 0.04585041478276253\n",
      "869 0.04584475979208946\n",
      "870 0.0458524152636528\n",
      "871 0.04582547768950462\n",
      "872 0.04582119733095169\n",
      "873 0.04579424858093262\n",
      "874 0.04581509530544281\n",
      "875 0.04581322520971298\n",
      "876 0.04583718255162239\n",
      "877 0.04583250358700752\n",
      "878 0.045847006142139435\n",
      "879 0.045821696519851685\n",
      "880 0.045802824199199677\n",
      "881 0.045751381665468216\n",
      "882 0.04572291299700737\n",
      "883 0.04567626118659973\n",
      "884 0.045652180910110474\n",
      "885 0.04561680555343628\n",
      "886 0.045611921697854996\n",
      "887 0.04558936879038811\n",
      "888 0.0455896370112896\n",
      "889 0.04556717351078987\n",
      "890 0.04556889459490776\n",
      "891 0.045555729418992996\n",
      "892 0.04557131603360176\n",
      "893 0.04556559771299362\n",
      "894 0.04558226093649864\n",
      "895 0.045578502118587494\n",
      "896 0.04560262709856033\n",
      "897 0.045604947954416275\n",
      "898 0.04563331976532936\n",
      "899 0.045631442219018936\n",
      "900 0.04563720151782036\n",
      "901 0.04559924826025963\n",
      "902 0.045548390597105026\n",
      "903 0.045464809983968735\n",
      "904 0.04541662707924843\n",
      "905 0.04536832123994827\n",
      "906 0.04537877067923546\n",
      "907 0.04537695646286011\n",
      "908 0.045387957245111465\n",
      "909 0.0453689806163311\n",
      "910 0.04535188153386116\n",
      "911 0.04531806707382202\n",
      "912 0.04531123861670494\n",
      "913 0.04529635235667229\n",
      "914 0.04531309753656387\n",
      "915 0.04531985893845558\n",
      "916 0.04535074159502983\n",
      "917 0.04537070542573929\n",
      "918 0.0454193651676178\n",
      "919 0.045441534370183945\n",
      "920 0.045480940490961075\n",
      "921 0.04548216611146927\n",
      "922 0.045490264892578125\n",
      "923 0.0454399511218071\n",
      "924 0.04535703361034393\n",
      "925 0.045236196368932724\n",
      "926 0.04513564333319664\n",
      "927 0.04507172852754593\n",
      "928 0.04509495198726654\n",
      "929 0.04513382166624069\n",
      "930 0.04518723487854004\n",
      "931 0.04519324004650116\n",
      "932 0.04516223073005676\n",
      "933 0.04513118788599968\n",
      "934 0.04510334134101868\n",
      "935 0.04512012004852295\n",
      "936 0.04514127969741821\n",
      "937 0.0451904833316803\n",
      "938 0.04521709680557251\n",
      "939 0.04528491944074631\n",
      "940 0.04530859366059303\n",
      "941 0.045318905264139175\n",
      "942 0.045262038707733154\n",
      "943 0.04516856372356415\n",
      "944 0.04503384232521057\n",
      "945 0.044943057000637054\n",
      "946 0.04488924518227577\n",
      "947 0.04491540044546127\n",
      "948 0.04496137797832489\n",
      "949 0.04501296579837799\n",
      "950 0.045032426714897156\n",
      "951 0.04501347988843918\n",
      "952 0.04499998316168785\n",
      "953 0.044985510408878326\n",
      "954 0.04501545429229736\n",
      "955 0.04504356533288956\n",
      "956 0.04510604962706566\n",
      "957 0.045121997594833374\n",
      "958 0.04514021426439285\n",
      "959 0.04508534073829651\n",
      "960 0.04499657452106476\n",
      "961 0.044874176383018494\n",
      "962 0.04480193927884102\n",
      "963 0.044766366481781006\n",
      "964 0.044792141765356064\n",
      "965 0.04482245445251465\n",
      "966 0.04485858604311943\n",
      "967 0.04485858976840973\n",
      "968 0.044833552092313766\n",
      "969 0.04482613503932953\n",
      "970 0.04482186958193779\n",
      "971 0.044852364808321\n",
      "972 0.044872745871543884\n",
      "973 0.044916506856679916\n",
      "974 0.0449233204126358\n",
      "975 0.04495023936033249\n",
      "976 0.04493210092186928\n",
      "977 0.04490436613559723\n",
      "978 0.044824931770563126\n",
      "979 0.04476577788591385\n",
      "980 0.04469826817512512\n",
      "981 0.044680919498205185\n",
      "982 0.04466932639479637\n",
      "983 0.044693391770124435\n",
      "984 0.044700779020786285\n",
      "985 0.044710494577884674\n",
      "986 0.04469286650419235\n",
      "987 0.04466661065816879\n",
      "988 0.04463239014148712\n",
      "989 0.04461484029889107\n",
      "990 0.044602490961551666\n",
      "991 0.04461086541414261\n",
      "992 0.044615332037210464\n",
      "993 0.044634394347667694\n",
      "994 0.04464185982942581\n",
      "995 0.04468026012182236\n",
      "996 0.044709958136081696\n",
      "997 0.04477588087320328\n",
      "998 0.04482286795973778\n",
      "999 0.04487786814570427\n"
     ]
    }
   ],
   "source": [
    "#%%time\n",
    "for t in range(1000):\n",
    "    #print 'hey'\n",
    "    y_pred = net(x_data)\n",
    "    #print y_pred\n",
    "    loss = loss_fn(y_pred, y_classes)\n",
    "    \n",
    "    optimizer.zero_grad() #model.zero_grad()  # Zero out the previous gradient computation\n",
    "    loss.backward()    # Compute the gradient\n",
    "    optimizer.step()   # Use the gradient information to \n",
    "                   # make a step\n",
    "    print(t, loss.data[0])\n",
    "    #if t %100 ==99:\n",
    "    #    print(t)\n",
    "\n",
    "#print \"hel"
   ]
  },
  {
   "cell_type": "code",
   "execution_count": 29,
   "metadata": {
    "collapsed": true
   },
   "outputs": [],
   "source": [
    "net.eval()\n",
    "y_pred = net(x_valid_data)\n",
    "preds = torch.max(y_pred, 1)\n",
    "#print(preds[1].data)\n",
    "from sklearn import metrics\n",
    "#print(x_data.shape, x_valid_data.shape)\n",
    "#print(preds)\n",
    "y_train_pred = net(x_data)\n",
    "train_preds = torch.max(y_train_pred, 1)"
   ]
  },
  {
   "cell_type": "code",
   "execution_count": 30,
   "metadata": {
    "collapsed": false
   },
   "outputs": [
    {
     "name": "stdout",
     "output_type": "stream",
     "text": [
      "0.9991254919108001\n",
      "0.9985507246376811\n",
      "0.8795918367346939\n",
      "0.8753036242745685\n"
     ]
    }
   ],
   "source": [
    "print(metrics.accuracy_score(Y, train_preds[1].data))\n",
    "print(metrics.average_precision_score(Y, train_preds[1].data))\n",
    "\n",
    "print(metrics.accuracy_score(validY, preds[1].data))\n",
    "a_score = (metrics.accuracy_score(validY, preds[1].data))\n",
    "print(metrics.average_precision_score(validY, preds[1].data))\n",
    "score =metrics.average_precision_score(validY, preds[1].data) \n"
   ]
  },
  {
   "cell_type": "code",
   "execution_count": 31,
   "metadata": {
    "collapsed": true
   },
   "outputs": [],
   "source": [
    "#save model_weights to be used in the bonus\n",
    "torch.save(net.state_dict(), \"bonus_model_weights.pkl\")"
   ]
  },
  {
   "cell_type": "code",
   "execution_count": 74,
   "metadata": {
    "collapsed": false
   },
   "outputs": [
    {
     "data": {
      "text/plain": [
       "<matplotlib.figure.Figure at 0x7fa2f40fd240>"
      ]
     },
     "metadata": {},
     "output_type": "display_data"
    },
    {
     "name": "stderr",
     "output_type": "stream",
     "text": [
      "/home/naireen/anaconda2/envs/CSC401/lib/python3.6/site-packages/matplotlib/font_manager.py:1316: UserWarning: findfont: Font family ['normal'] not found. Falling back to DejaVu Sans\n",
      "  (prop.get_family(), self.defaultFamily[fontext]))\n"
     ]
    },
    {
     "data": {
      "image/png": "[encoded data removed]",
      "text/plain": [
       "<matplotlib.figure.Figure at 0x7fa2f40fdfd0>"
      ]
     },
     "metadata": {},
     "output_type": "display_data"
    }
   ],
   "source": [
    "#plot graphs\n",
    "# plot graph\n",
    "plt.figure(figsize=(10,8))\n",
    "precision, recall, thresh = metrics.precision_recall_curve(validY, preds[1].data)\n",
    "plt.plot(precision, recall)\n",
    "plt.title(\"AUPRC: {0:.04}, Accuracy: {1:.04}\".format(score, a_score))\n",
    "plt.xlabel(\"Precision\")\n",
    "plt.ylabel(\"Recall\")\n",
    "plt.ylim([0,1.01])\n",
    "plt.show()"
   ]
  },
  {
   "cell_type": "code",
   "execution_count": 77,
   "metadata": {
    "collapsed": false
   },
   "outputs": [
    {
     "name": "stdout",
     "output_type": "stream",
     "text": [
      "[[169  26]\n",
      " [ 33 262]]\n"
     ]
    }
   ],
   "source": [
    "# confusion matrix\n",
    "cm = metrics.confusion_matrix(validY, preds[1].data)\n",
    "print(cm)"
   ]
  },
  {
   "cell_type": "code",
   "execution_count": 84,
   "metadata": {
    "collapsed": true
   },
   "outputs": [],
   "source": [
    "def plot_confusion_matrix(cm, classes,\n",
    "                          normalize=False,\n",
    "                          title='Confusion matrix',\n",
    "                          cmap=plt.cm.Blues):\n",
    "    \"\"\"\n",
    "    This function prints and plots the confusion matrix.\n",
    "    Normalization can be applied by setting `normalize=True`.\n",
    "    \"\"\"\n",
    "    if normalize:\n",
    "        cm = cm.astype('float') / cm.sum(axis=1)[:, np.newaxis]\n",
    "        print(\"Normalized confusion matrix\")\n",
    "    else:\n",
    "        print('Confusion matrix, without normalization')\n",
    "\n",
    "    print(cm)\n",
    "\n",
    "    plt.imshow(cm, interpolation='nearest', cmap=cmap)\n",
    "    plt.title(title)\n",
    "    plt.colorbar()\n",
    "    tick_marks = np.arange(len(classes))\n",
    "    plt.xticks(tick_marks, classes, rotation=25)\n",
    "    plt.yticks(tick_marks, classes)\n",
    "\n",
    "    fmt = '.2f' if normalize else 'd'\n",
    "    thresh = cm.max() / 2.\n",
    "    for i, j in itertools.product(range(cm.shape[0]), range(cm.shape[1])):\n",
    "        plt.text(j, i, format(cm[i, j], fmt),\n",
    "                 horizontalalignment=\"center\",\n",
    "                 color=\"white\" if cm[i, j] > thresh else \"black\")\n",
    "\n",
    "    plt.tight_layout()\n",
    "    plt.ylabel('True label')\n",
    "    plt.xlabel('Predicted label')\n"
   ]
  },
  {
   "cell_type": "code",
   "execution_count": 28,
   "metadata": {
    "collapsed": true
   },
   "outputs": [],
   "source": [
    "import itertools"
   ]
  },
  {
   "cell_type": "code",
   "execution_count": 86,
   "metadata": {
    "collapsed": false
   },
   "outputs": [
    {
     "name": "stdout",
     "output_type": "stream",
     "text": [
      "Confusion matrix, without normalization\n",
      "[[169  26]\n",
      " [ 33 262]]\n"
     ]
    },
    {
     "name": "stderr",
     "output_type": "stream",
     "text": [
      "/home/naireen/anaconda2/envs/CSC401/lib/python3.6/site-packages/matplotlib/font_manager.py:1316: UserWarning: findfont: Font family ['normal'] not found. Falling back to DejaVu Sans\n",
      "  (prop.get_family(), self.defaultFamily[fontext]))\n"
     ]
    },
    {
     "data": {
      "image/png": "[encoded data removed]",
      "text/plain": [
       "<matplotlib.figure.Figure at 0x7fa2d1199208>"
      ]
     },
     "metadata": {},
     "output_type": "display_data"
    }
   ],
   "source": [
    "plot_confusion_matrix(cm, [\"Fake Headlines\", \"Real Headlines\"])\n",
    "plt.show()"
   ]
  },
  {
   "cell_type": "code",
   "execution_count": null,
   "metadata": {
    "collapsed": true
   },
   "outputs": [],
   "source": []
  }
 ],
 "metadata": {
  "anaconda-cloud": {},
  "kernelspec": {
   "display_name": "Python [conda env:CSC401]",
   "language": "python",
   "name": "conda-env-CSC401-py"
  },
  "language_info": {
   "codemirror_mode": {
    "name": "ipython",
    "version": 3
   },
   "file_extension": ".py",
   "mimetype": "text/x-python",
   "name": "python",
   "nbconvert_exporter": "python",
   "pygments_lexer": "ipython3",
   "version": "3.6.3"
  }
 },
 "nbformat": 4,
 "nbformat_minor": 1
}
