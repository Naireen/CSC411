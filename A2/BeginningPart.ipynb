{
 "cells": [
  {
   "cell_type": "code",
   "execution_count": 113,
   "metadata": {
    "collapsed": true
   },
   "outputs": [],
   "source": [
    "from pylab import *\n",
    "import numpy as np\n",
    "import matplotlib.pyplot as plt\n",
    "import matplotlib.cbook as cbook\n",
    "import time\n",
    "from scipy.misc import imread\n",
    "from scipy.misc import imresize\n",
    "import matplotlib.image as mpimg\n",
    "from scipy.ndimage import filters\n",
    "import urllib\n",
    "from numpy import random\n",
    "import sys\n",
    "import pickle\n",
    "import os\n",
    "from sklearn.model_selection import train_test_split\n",
    "from scipy.io import loadmat\n",
    "# Load the MNIST digit data\n",
    "M = loadmat(\"mnist_all.mat\")"
   ]
  },
  {
   "cell_type": "code",
   "execution_count": 114,
   "metadata": {
    "collapsed": true
   },
   "outputs": [],
   "source": [
    "def softmax(y):\n",
    "    return exp(y) / tile(sum(exp(y), 0), (len(y), 1))"
   ]
  },
  {
   "cell_type": "code",
   "execution_count": 115,
   "metadata": {
    "collapsed": true
   },
   "outputs": [],
   "source": [
    "def cost_function(y, p):\n",
    "    return -np.sum(y * np.log(p))"
   ]
  },
  {
   "cell_type": "code",
   "execution_count": 116,
   "metadata": {
    "collapsed": true
   },
   "outputs": [],
   "source": [
    "def part2(x, W0, b0):\n",
    "    #this implementations concatenates the bias vector and the weights , and then outputs the result of dimension (10, 1)\n",
    "    total_W0 = np.concatenate((b0, W0))\n",
    "    added_ones = np.ones(x.shape[1]).reshape(x.shape[1], 1)\n",
    "    total_x = np.concatenate((added_ones.T, x))\n",
    "    vals = softmax(np.dot(total_W0.T, total_x))\n",
    "    return vals\n",
    "\n",
    "def part3(x, y1, p):\n",
    "    #print(\"P3\", x.shape, y1.shape, p.shape)\n",
    "    deriv = np.subtract(p, y1)\n",
    "    added_ones = np.ones(x.shape[1]).reshape(x.shape[1], 1)\n",
    "    total_x = np.concatenate((added_ones.T, x))\n",
    "    #print(deriv.shape, total_x.T.shape)\n",
    "    deriv = np.matmul(deriv, total_x.T).T\n",
    "    return deriv  # shape 784, 10"
   ]
  },
  {
   "cell_type": "code",
   "execution_count": 117,
   "metadata": {
    "collapsed": true
   },
   "outputs": [],
   "source": [
    "def get_data(M):\n",
    "    train_keys = [key for key in M.keys() if \"train\" in key]\n",
    "    data_length = 0\n",
    "    for train_k in train_keys:\n",
    "        data_length += M[train_k].shape[0]\n",
    "\n",
    "    # concatenate all the data\n",
    "    train_data = np.zeros((data_length, 784))\n",
    "    data_counter = 0\n",
    "    data_size = 0\n",
    "\n",
    "    train_y = np.zeros((data_length, 10))\n",
    "    for i, train_k in enumerate(train_keys):\n",
    "        data_size = M[train_k].shape[0]\n",
    "        #print(i, data_size)\n",
    "        train_data[data_counter: data_counter + data_size, :] = M[train_k]\n",
    "        train_y[data_counter: data_counter + data_size, i] = 1\n",
    "        data_counter += data_size\n",
    "    return train_data, train_y\n",
    "\n",
    "\n",
    "def df(x, W0, y):\n",
    "    # this W0 is assumed to have the bias incorperated into it\n",
    "    W1, b0 = W0[:-1, :].reshape(784, W0.shape[1]), W0[-1, :].reshape(1, 10)\n",
    "    #W1, b0 = W0[1:, :].reshape(784, W0.shape[1]), W0[0, :].reshape(1, 10)\n",
    "\n",
    "    vals = part2(x, W1, b0)\n",
    "    #print(vals.shape, \"df\")\n",
    "    return part3(x, y, vals)"
   ]
  },
  {
   "cell_type": "code",
   "execution_count": 118,
   "metadata": {
    "collapsed": false
   },
   "outputs": [
    {
     "name": "stdout",
     "output_type": "stream",
     "text": [
      "(10, 1)\n",
      "(784, 1)\n",
      "Finite Diff -0.000844740868367\n",
      "Real Diff -0.000844740871903\n",
      "Finite Diff -0.00109400866588\n",
      "Real Diff -0.00109400867017\n",
      "Finite Diff -0.00109400866588\n",
      "Real Diff -0.00109400867017\n",
      "Finite Diff -0.00202183878528\n",
      "Real Diff -0.00202183880816\n",
      "Finite Diff -0.0024234368956\n",
      "Real Diff -0.00242343692759\n"
     ]
    }
   ],
   "source": [
    "# PART ONE DATA SNIPPIT\n",
    "# Load sample weights for the multilayer neural network\n",
    "snapshot = pickle.load(open(\"snapshot50.pkl\", \"rb\"), encoding=\"latin-1\")\n",
    "W0 = snapshot[\"W0\"]  # data\n",
    "b0 = snapshot[\"b0\"].reshape((300, 1))  # bias?\n",
    "W1 = snapshot[\"W1\"]  # should be likelihoods?\n",
    "b1 = snapshot[\"b1\"].reshape((10, 1))  # classes?\n",
    "#print(W0.shape)\n",
    "\n",
    "np.random.seed(0)\n",
    "weights = np.random.random(size=784*10).reshape((784, 10))\n",
    "weights_bias = np.zeros(10).reshape(1, 10)\n",
    "#np.random.random(size=10).reshape((1, 10))\n",
    "\n",
    "# PART TWO - SINGLE LAYER NN\n",
    "x = M[\"train5\"][148:149].T\n",
    "x = x / 255.\n",
    "output = part2(x, weights, weights_bias)\n",
    "# print(output)\n",
    "\n",
    "# PART TWO - SINGLE LAYER NN\n",
    "x = M[\"train5\"][148:149].T / 255./ 255.\n",
    "output = part2(x, weights, weights_bias)\n",
    "output = output.reshape(10,1)\n",
    "print(output.shape)\n",
    "#print(output)\n",
    "y = np.zeros((10, 1))\n",
    "y[5, 0] = 1.\n",
    "print(x.shape)\n",
    "\n",
    "# PART THREE _ FINITE DIFFS\n",
    "cost = cost_function(y, output)\n",
    "\n",
    "h = 0.0001\n",
    "#'''\n",
    "for i in range(5):\n",
    "    place = 215 + i\n",
    "    weights2 = weights.copy()\n",
    "    weights2[place, 5] += h\n",
    "    output2 = part2(x, weights2, weights_bias)\n",
    "    #print(output2)\n",
    "    output2 = output2.reshape(10,1)\n",
    "    cost2 = cost_function(y, output2)\n",
    "    #print(cost, cost2)\n",
    "    print(\"Finite Diff\", (cost2 - cost) / h)\n",
    "    real_diff = part3(x, y, output)\n",
    "    print(\"Real Diff\", real_diff[place+1, 5])\n",
    "    #'''\n",
    "    #break"
   ]
  },
  {
   "cell_type": "code",
   "execution_count": 119,
   "metadata": {
    "collapsed": true
   },
   "outputs": [],
   "source": [
    "def grad_descent(df, x, y, W0, b0, alpha, EPS=1e-7, max_iter = 1000):\n",
    "    # EPS = 1e-5   #EPS = 10**(-5)\n",
    "    start = time.time()\n",
    "    total_W0 = np.concatenate((b0, W0))\n",
    "    prev_totalW0 = total_W0 - 10 * EPS\n",
    "    W1 = total_W0.copy()\n",
    "    # inital weights, pass in both bias and weights together for now\n",
    "    #max_iter = 1000\n",
    "    iter = 0\n",
    "    while norm(W1 - prev_totalW0) > EPS and iter < max_iter:\n",
    "        prev_totalW0 = W1.copy()\n",
    "        W1 -= alpha * df(x, W1, y)\n",
    "        if iter % 100 == 0:\n",
    "            print(\"Iter\", iter)\n",
    "            # print \"x = (%.3f, %.3f, %.3f), f(x) = %.3f\" % (t[0], t[1], t[2], f(x, y, t))\n",
    "            # print \"Gradient: \", df(x, y, t), \"\\n\"\n",
    "             # EPS = 1e-5   #EPS = 10**(-5)\n",
    "            '''\n",
    "            added_ones = np.ones((x.shape[1], 1))\n",
    "            print(added_ones.shape, x.shape)\n",
    "            #print(testX.shape, added_ones.T.shape)\n",
    "            #totaltestX = np.vstack((testX, ))\n",
    "            totaltestX = np.concatenate((x,added_ones.T), axis=0)\n",
    "            print(totaltestX.shape)\n",
    "            #print (final_weights.shape, totaltestX.shape)\n",
    "            preds = np.matmul(totaltestX.T, W1)\n",
    "\n",
    "            preds_max =  preds.max(axis = 1)\n",
    "            final_preds = np.isin(preds, preds_max).astype(int)\n",
    "            #how many of the hot keys match for validation\n",
    "            print(y.T.shape, final_preds.shape)\n",
    "            print(len(np.where((y.T == final_preds).all(axis =1)==True)[0]))\n",
    "            '''\n",
    "        iter += 1\n",
    "    print(\"Iter\", iter)\n",
    "    end = time.time()\n",
    "    print(\"Time taken:\", (end - start))\n",
    "    return W1\n",
    "\n",
    "\n",
    "def part4(data, W0, b0, y, alpha=0.01, max_iter = 1000):\n",
    "    np.random.seed(0)\n",
    "    #alpha = 0.01\n",
    "    final_weights = grad_descent(df, data, y, W0, b0, alpha, 1e-4, max_iter)\n",
    "    return final_weights"
   ]
  },
  {
   "cell_type": "code",
   "execution_count": 120,
   "metadata": {
    "collapsed": false,
    "scrolled": true
   },
   "outputs": [
    {
     "name": "stdout",
     "output_type": "stream",
     "text": [
      "(array([], dtype=int64), array([], dtype=int64))\n",
      "(784, 60000) (60000, 10)\n",
      "(784, 6000) (6000, 10)\n",
      "TrainX (784, 60000)\n",
      "Iter 0\n",
      "Iter 100\n",
      "Time taken: 5.135609149932861\n"
     ]
    }
   ],
   "source": [
    "##PART FOUR##\n",
    "trainX, trainY = get_data(M)\n",
    "print(np.where(trainX==np.nan))\n",
    "trainX = trainX.T/255. /255.\n",
    "\n",
    "print(trainX.shape, trainY.shape)\n",
    "#use a subset to get faster results\n",
    "trainX = trainX.T\n",
    "trainX_small, trainX_large, trainY_small, trainY_large = train_test_split(trainX, trainY,\n",
    "                                                  random_state = 0, stratify = trainY, test_size = 0.9)\n",
    "trainX_small = trainX_small.T\n",
    "print(trainX_small.shape, trainY_small.shape)\n",
    "trainX = trainX.T\n",
    "print(\"TrainX\", trainX.shape)\n",
    "np.random.seed(0)\n",
    "weights = np.random.random(size=784*10).reshape((784, 10))\n",
    "weights = np.ones_like(weights)\n",
    "weights_bias = np.zeros(10).reshape(1, 10)\n",
    "\n",
    "final_weights = part4(trainX_small, weights, weights_bias, trainY_small.T, alpha=1.5, max_iter=100)\n",
    "#grad_descent(df, trainX, trainY, weights, weights_bias, 0.01)\n"
   ]
  },
  {
   "cell_type": "code",
   "execution_count": 121,
   "metadata": {
    "collapsed": false
   },
   "outputs": [
    {
     "name": "stdout",
     "output_type": "stream",
     "text": [
      "(785, 10)\n"
     ]
    },
    {
     "data": {
      "image/png": "[encoded data removed]",
      "text/plain": [
       "<matplotlib.figure.Figure at 0x7f8b144a7898>"
      ]
     },
     "metadata": {},
     "output_type": "display_data"
    }
   ],
   "source": [
    "print(final_weights.shape)\n",
    "#discard the last element, as that is the bias term\n",
    "fig , ax= plt.subplots(5, 2, figsize=(8,15))\n",
    "for i in range(10):\n",
    "    #print(i//5, i%5)\n",
    "    ax[i%5, i//5].imshow(final_weights[1:, i].reshape(28, 28))\n",
    "    ax[i%5, i//5].set_title(\"Digit: {0}\".format(i))\n",
    "    # .title(\"Number {0}\".format(i))\n",
    "    #print(final_weights[100:110, i])\n",
    "#plt.colorbar()\n",
    "plt.show()\n",
    "\n",
    "#rint(final_weights[:-1, 7])\n",
    "#plt.imshow(final_weights[:-1, 7].reshape(28, 28))\n",
    "#plt.show()"
   ]
  },
  {
   "cell_type": "code",
   "execution_count": 122,
   "metadata": {
    "collapsed": false
   },
   "outputs": [
    {
     "name": "stdout",
     "output_type": "stream",
     "text": [
      "10000\n",
      "0 980\n",
      "1 1135\n",
      "2 1032\n",
      "3 1010\n",
      "4 982\n",
      "5 892\n",
      "6 958\n",
      "7 1028\n",
      "8 974\n",
      "9 1009\n"
     ]
    }
   ],
   "source": [
    "#plot learning curves\n",
    "#collect testing data\n",
    "def get_test_data(M):\n",
    "    train_keys = [key for key in M.keys() if \"test\" in key]\n",
    "    data_length = 0\n",
    "    for train_k in train_keys:\n",
    "        data_length += M[train_k].shape[0]\n",
    "\n",
    "    # concatenate all the data\n",
    "    train_data = np.zeros((data_length, 784))\n",
    "    print(data_length)\n",
    "    data_counter = 0\n",
    "    data_size = 0\n",
    "\n",
    "    train_y = np.zeros((data_length, 10))\n",
    "    for i, train_k in enumerate(train_keys):\n",
    "        data_size = M[train_k].shape[0]\n",
    "        print(i, data_size)\n",
    "        train_data[data_counter: data_counter + data_size, :] = M[train_k]\n",
    "        train_y[data_counter: data_counter + data_size, i] = 1\n",
    "        data_counter += data_size\n",
    "    return train_data, train_y\n",
    "\n",
    "testX, testY = get_test_data(M)\n",
    "testX = testX/255./255."
   ]
  },
  {
   "cell_type": "code",
   "execution_count": 123,
   "metadata": {
    "collapsed": false
   },
   "outputs": [
    {
     "name": "stdout",
     "output_type": "stream",
     "text": [
      "(10000, 10) (10000, 10)\n",
      "8573\n"
     ]
    }
   ],
   "source": [
    "added_ones = np.ones((testX.shape[0], 1))\n",
    "#print(testX.shape, added_ones.T.shape)\n",
    "#totaltestX = np.vstack((testX, ))\n",
    "totaltestX = np.concatenate((testX,added_ones), axis=1)\n",
    "#print(totaltestX.shape)\n",
    "#print (final_weights.shape, totaltestX.shape)\n",
    "preds = np.matmul(totaltestX, final_weights)\n",
    "\n",
    "preds_max =  preds.max(axis = 1)\n",
    "final_preds = np.isin(preds, preds_max).astype(int)\n",
    "#how many of the hot keys match for validation\n",
    "print(testY.shape, final_preds.shape)\n",
    "print(len(np.where((testY == final_preds).all(axis =1)==True)[0]))"
   ]
  },
  {
   "cell_type": "markdown",
   "metadata": {
    "collapsed": true
   },
   "source": [
    "Plot the learning curves with these set of parameters every 400 iterations, see how the performance changes"
   ]
  },
  {
   "cell_type": "code",
   "execution_count": 138,
   "metadata": {
    "collapsed": true
   },
   "outputs": [],
   "source": [
    "def grad_descent_learn(df, x, y, W0, b0, testX, testY, alpha, EPS=1e-7, max_iter = 1000):\n",
    "    # EPS = 1e-5   #EPS = 10**(-5)\n",
    "    start = time.time()\n",
    "    total_W0 = np.concatenate((b0, W0))\n",
    "    prev_totalW0 = total_W0 - 10 * EPS\n",
    "    W1 = total_W0.copy()\n",
    "    # inital weights, pass in both bias and weights together for now\n",
    "    #max_iter = 1000\n",
    "    iter = 0\n",
    "    while norm(W1 - prev_totalW0) > EPS and iter < max_iter:\n",
    "        prev_totalW0 = W1.copy()\n",
    "        W1 -= alpha * df(x, W1, y)\n",
    "        if iter % 100 == 0:\n",
    "            print(\"Iter\", iter)\n",
    "            added_ones = np.ones((x.shape[1], 1))\n",
    "            totaltestX = np.concatenate((x,added_ones.T), axis=0)\n",
    "            preds = np.matmul(totaltestX.T, W1)\n",
    "\n",
    "            preds_max =  preds.max(axis = 1)\n",
    "            final_preds = np.isin(preds, preds_max).astype(int)\n",
    "            print(len(np.where((y.T == final_preds).all(axis =1)==True)[0]))\n",
    "            \n",
    "            added_ones = np.ones((testX.shape[1], 1))\n",
    "            totaltestX = np.concatenate((testX,added_ones.T), axis=0)\n",
    "            preds = np.matmul(totaltestX.T, W1)\n",
    "\n",
    "            preds_max =  preds.max(axis = 1)\n",
    "            final_preds = np.isin(preds, preds_max).astype(int)\n",
    "            print(len(np.where((testY == final_preds).all(axis =1)==True)[0]))\n",
    "            \n",
    "        \n",
    "        iter += 1\n",
    "    print(\"Iter\", iter)\n",
    "    end = time.time()\n",
    "    print(\"Time taken:\", (end - start))\n",
    "    return W1\n",
    "\n",
    "\n",
    "def part4b(data, W0, b0, y, testX, testY ,  alpha=0.01, max_iter = 1000):\n",
    "    np.random.seed(0)\n",
    "    #alpha = 0.01\n",
    "    final_weights = grad_descent_learn(df, data, y, W0, b0, testX, testY, alpha, 1e-4, max_iter)\n",
    "    return final_weights"
   ]
  },
  {
   "cell_type": "code",
   "execution_count": 139,
   "metadata": {
    "collapsed": false
   },
   "outputs": [
    {
     "name": "stdout",
     "output_type": "stream",
     "text": [
      "(784, 6000) (10000, 784)\n",
      "Iter 0\n",
      "3680\n",
      "6120\n",
      "Iter 100\n",
      "5024\n",
      "8412\n",
      "Iter 200\n",
      "5163\n",
      "8671\n",
      "Iter 300\n",
      "5241\n",
      "8762\n",
      "Iter 400\n",
      "5288\n",
      "8801\n",
      "Iter 500\n",
      "Time taken: 26.39473056793213\n"
     ]
    },
    {
     "ename": "ValueError",
     "evalue": "too many values to unpack (expected 3)",
     "output_type": "error",
     "traceback": [
      "\u001b[0;31m---------------------------------------------------------------------------\u001b[0m",
      "\u001b[0;31mValueError\u001b[0m                                Traceback (most recent call last)",
      "\u001b[0;32m<ipython-input-139-eb61fdb8f1bf>\u001b[0m in \u001b[0;36m<module>\u001b[0;34m()\u001b[0m\n\u001b[1;32m      4\u001b[0m \u001b[0;31m#final_weights = part4(trainX_small, weights, weights_bias, trainY_small.T, alpha=1.5, max_iter=100)\u001b[0m\u001b[0;34m\u001b[0m\u001b[0;34m\u001b[0m\u001b[0m\n\u001b[1;32m      5\u001b[0m \u001b[0mprint\u001b[0m\u001b[0;34m(\u001b[0m\u001b[0mtrainX_small\u001b[0m\u001b[0;34m.\u001b[0m\u001b[0mshape\u001b[0m\u001b[0;34m,\u001b[0m \u001b[0mtestX\u001b[0m\u001b[0;34m.\u001b[0m\u001b[0mshape\u001b[0m\u001b[0;34m)\u001b[0m\u001b[0;34m\u001b[0m\u001b[0m\n\u001b[0;32m----> 6\u001b[0;31m \u001b[0mfinal_weights2\u001b[0m\u001b[0;34m,\u001b[0m \u001b[0mperformance_train\u001b[0m\u001b[0;34m,\u001b[0m \u001b[0mperformance_test\u001b[0m \u001b[0;34m=\u001b[0m \u001b[0mpart4b\u001b[0m\u001b[0;34m(\u001b[0m\u001b[0mtrainX_small\u001b[0m\u001b[0;34m,\u001b[0m \u001b[0mweights\u001b[0m\u001b[0;34m,\u001b[0m \u001b[0mweights_bias\u001b[0m\u001b[0;34m,\u001b[0m \u001b[0mtrainY_small\u001b[0m\u001b[0;34m.\u001b[0m\u001b[0mT\u001b[0m\u001b[0;34m,\u001b[0m \u001b[0mtestX\u001b[0m\u001b[0;34m.\u001b[0m\u001b[0mT\u001b[0m\u001b[0;34m,\u001b[0m \u001b[0mtestY\u001b[0m\u001b[0;34m,\u001b[0m \u001b[0malpha\u001b[0m \u001b[0;34m=\u001b[0m \u001b[0;36m1.0\u001b[0m\u001b[0;34m,\u001b[0m \u001b[0mmax_iter\u001b[0m\u001b[0;34m=\u001b[0m\u001b[0;36m500\u001b[0m\u001b[0;34m)\u001b[0m\u001b[0;34m\u001b[0m\u001b[0m\n\u001b[0m",
      "\u001b[0;31mValueError\u001b[0m: too many values to unpack (expected 3)"
     ]
    }
   ],
   "source": [
    "weights = np.random.random(size=784*10).reshape((784, 10))\n",
    "weights = np.ones_like(weights)\n",
    "weights_bias = np.zeros(10).reshape(1, 10)\n",
    "#final_weights = part4(trainX_small, weights, weights_bias, trainY_small.T, alpha=1.5, max_iter=100)\n",
    "print(trainX_small.shape, testX.shape)\n",
    "final_weights2, performance_train, performance_test = part4b(trainX_small, weights, weights_bias, trainY_small.T, testX.T, testY, alpha = 1.0, max_iter=500)"
   ]
  },
  {
   "cell_type": "code",
   "execution_count": 16,
   "metadata": {
    "collapsed": false
   },
   "outputs": [
    {
     "ename": "ValueError",
     "evalue": "x and y must have same first dimension, but have shapes (65,) and (4,)",
     "output_type": "error",
     "traceback": [
      "\u001b[0;31m---------------------------------------------------------------------------\u001b[0m",
      "\u001b[0;31mValueError\u001b[0m                                Traceback (most recent call last)",
      "\u001b[0;32m<ipython-input-16-7222fb9553c1>\u001b[0m in \u001b[0;36m<module>\u001b[0;34m()\u001b[0m\n\u001b[0;32m----> 1\u001b[0;31m \u001b[0mplt\u001b[0m\u001b[0;34m.\u001b[0m\u001b[0mplot\u001b[0m\u001b[0;34m(\u001b[0m\u001b[0miterations\u001b[0m\u001b[0;34m,\u001b[0m \u001b[0mperformance_train\u001b[0m\u001b[0;34m[\u001b[0m\u001b[0;34m:\u001b[0m\u001b[0;34m-\u001b[0m\u001b[0;36m1\u001b[0m\u001b[0;34m]\u001b[0m\u001b[0;34m,\u001b[0m \u001b[0mlabel\u001b[0m \u001b[0;34m=\u001b[0m \u001b[0;34m\"training_scores\"\u001b[0m\u001b[0;34m)\u001b[0m\u001b[0;34m\u001b[0m\u001b[0m\n\u001b[0m\u001b[1;32m      2\u001b[0m \u001b[0mplt\u001b[0m\u001b[0;34m.\u001b[0m\u001b[0mplot\u001b[0m\u001b[0;34m(\u001b[0m\u001b[0miterations\u001b[0m\u001b[0;34m,\u001b[0m \u001b[0mperformance_test\u001b[0m\u001b[0;34m[\u001b[0m\u001b[0;34m:\u001b[0m\u001b[0;34m-\u001b[0m\u001b[0;36m1\u001b[0m\u001b[0;34m]\u001b[0m\u001b[0;34m,\u001b[0m \u001b[0mlabel\u001b[0m \u001b[0;34m=\u001b[0m \u001b[0;34m\"testing_scores\"\u001b[0m\u001b[0;34m)\u001b[0m\u001b[0;34m\u001b[0m\u001b[0m\n\u001b[1;32m      3\u001b[0m \u001b[0mplt\u001b[0m\u001b[0;34m.\u001b[0m\u001b[0mxlabel\u001b[0m\u001b[0;34m(\u001b[0m\u001b[0;34m\"Iterations of Gradient Descent\"\u001b[0m\u001b[0;34m)\u001b[0m\u001b[0;34m\u001b[0m\u001b[0m\n\u001b[1;32m      4\u001b[0m \u001b[0mplt\u001b[0m\u001b[0;34m.\u001b[0m\u001b[0mlegend\u001b[0m\u001b[0;34m(\u001b[0m\u001b[0;34m)\u001b[0m\u001b[0;34m\u001b[0m\u001b[0m\n\u001b[1;32m      5\u001b[0m \u001b[0mplt\u001b[0m\u001b[0;34m.\u001b[0m\u001b[0mshow\u001b[0m\u001b[0;34m(\u001b[0m\u001b[0;34m)\u001b[0m\u001b[0;34m\u001b[0m\u001b[0m\n",
      "\u001b[0;32m~/anaconda2/envs/CSC401/lib/python3.6/site-packages/matplotlib/pyplot.py\u001b[0m in \u001b[0;36mplot\u001b[0;34m(*args, **kwargs)\u001b[0m\n\u001b[1;32m   3238\u001b[0m                       mplDeprecation)\n\u001b[1;32m   3239\u001b[0m     \u001b[0;32mtry\u001b[0m\u001b[0;34m:\u001b[0m\u001b[0;34m\u001b[0m\u001b[0m\n\u001b[0;32m-> 3240\u001b[0;31m         \u001b[0mret\u001b[0m \u001b[0;34m=\u001b[0m \u001b[0max\u001b[0m\u001b[0;34m.\u001b[0m\u001b[0mplot\u001b[0m\u001b[0;34m(\u001b[0m\u001b[0;34m*\u001b[0m\u001b[0margs\u001b[0m\u001b[0;34m,\u001b[0m \u001b[0;34m**\u001b[0m\u001b[0mkwargs\u001b[0m\u001b[0;34m)\u001b[0m\u001b[0;34m\u001b[0m\u001b[0m\n\u001b[0m\u001b[1;32m   3241\u001b[0m     \u001b[0;32mfinally\u001b[0m\u001b[0;34m:\u001b[0m\u001b[0;34m\u001b[0m\u001b[0m\n\u001b[1;32m   3242\u001b[0m         \u001b[0max\u001b[0m\u001b[0;34m.\u001b[0m\u001b[0m_hold\u001b[0m \u001b[0;34m=\u001b[0m \u001b[0mwashold\u001b[0m\u001b[0;34m\u001b[0m\u001b[0m\n",
      "\u001b[0;32m~/anaconda2/envs/CSC401/lib/python3.6/site-packages/matplotlib/__init__.py\u001b[0m in \u001b[0;36minner\u001b[0;34m(ax, *args, **kwargs)\u001b[0m\n\u001b[1;32m   1708\u001b[0m                     warnings.warn(msg % (label_namer, func.__name__),\n\u001b[1;32m   1709\u001b[0m                                   RuntimeWarning, stacklevel=2)\n\u001b[0;32m-> 1710\u001b[0;31m             \u001b[0;32mreturn\u001b[0m \u001b[0mfunc\u001b[0m\u001b[0;34m(\u001b[0m\u001b[0max\u001b[0m\u001b[0;34m,\u001b[0m \u001b[0;34m*\u001b[0m\u001b[0margs\u001b[0m\u001b[0;34m,\u001b[0m \u001b[0;34m**\u001b[0m\u001b[0mkwargs\u001b[0m\u001b[0;34m)\u001b[0m\u001b[0;34m\u001b[0m\u001b[0m\n\u001b[0m\u001b[1;32m   1711\u001b[0m         \u001b[0mpre_doc\u001b[0m \u001b[0;34m=\u001b[0m \u001b[0minner\u001b[0m\u001b[0;34m.\u001b[0m\u001b[0m__doc__\u001b[0m\u001b[0;34m\u001b[0m\u001b[0m\n\u001b[1;32m   1712\u001b[0m         \u001b[0;32mif\u001b[0m \u001b[0mpre_doc\u001b[0m \u001b[0;32mis\u001b[0m \u001b[0;32mNone\u001b[0m\u001b[0;34m:\u001b[0m\u001b[0;34m\u001b[0m\u001b[0m\n",
      "\u001b[0;32m~/anaconda2/envs/CSC401/lib/python3.6/site-packages/matplotlib/axes/_axes.py\u001b[0m in \u001b[0;36mplot\u001b[0;34m(self, *args, **kwargs)\u001b[0m\n\u001b[1;32m   1435\u001b[0m         \u001b[0mkwargs\u001b[0m \u001b[0;34m=\u001b[0m \u001b[0mcbook\u001b[0m\u001b[0;34m.\u001b[0m\u001b[0mnormalize_kwargs\u001b[0m\u001b[0;34m(\u001b[0m\u001b[0mkwargs\u001b[0m\u001b[0;34m,\u001b[0m \u001b[0m_alias_map\u001b[0m\u001b[0;34m)\u001b[0m\u001b[0;34m\u001b[0m\u001b[0m\n\u001b[1;32m   1436\u001b[0m \u001b[0;34m\u001b[0m\u001b[0m\n\u001b[0;32m-> 1437\u001b[0;31m         \u001b[0;32mfor\u001b[0m \u001b[0mline\u001b[0m \u001b[0;32min\u001b[0m \u001b[0mself\u001b[0m\u001b[0;34m.\u001b[0m\u001b[0m_get_lines\u001b[0m\u001b[0;34m(\u001b[0m\u001b[0;34m*\u001b[0m\u001b[0margs\u001b[0m\u001b[0;34m,\u001b[0m \u001b[0;34m**\u001b[0m\u001b[0mkwargs\u001b[0m\u001b[0;34m)\u001b[0m\u001b[0;34m:\u001b[0m\u001b[0;34m\u001b[0m\u001b[0m\n\u001b[0m\u001b[1;32m   1438\u001b[0m             \u001b[0mself\u001b[0m\u001b[0;34m.\u001b[0m\u001b[0madd_line\u001b[0m\u001b[0;34m(\u001b[0m\u001b[0mline\u001b[0m\u001b[0;34m)\u001b[0m\u001b[0;34m\u001b[0m\u001b[0m\n\u001b[1;32m   1439\u001b[0m             \u001b[0mlines\u001b[0m\u001b[0;34m.\u001b[0m\u001b[0mappend\u001b[0m\u001b[0;34m(\u001b[0m\u001b[0mline\u001b[0m\u001b[0;34m)\u001b[0m\u001b[0;34m\u001b[0m\u001b[0m\n",
      "\u001b[0;32m~/anaconda2/envs/CSC401/lib/python3.6/site-packages/matplotlib/axes/_base.py\u001b[0m in \u001b[0;36m_grab_next_args\u001b[0;34m(self, *args, **kwargs)\u001b[0m\n\u001b[1;32m    402\u001b[0m                 \u001b[0mthis\u001b[0m \u001b[0;34m+=\u001b[0m \u001b[0margs\u001b[0m\u001b[0;34m[\u001b[0m\u001b[0;36m0\u001b[0m\u001b[0;34m]\u001b[0m\u001b[0;34m,\u001b[0m\u001b[0;34m\u001b[0m\u001b[0m\n\u001b[1;32m    403\u001b[0m                 \u001b[0margs\u001b[0m \u001b[0;34m=\u001b[0m \u001b[0margs\u001b[0m\u001b[0;34m[\u001b[0m\u001b[0;36m1\u001b[0m\u001b[0;34m:\u001b[0m\u001b[0;34m]\u001b[0m\u001b[0;34m\u001b[0m\u001b[0m\n\u001b[0;32m--> 404\u001b[0;31m             \u001b[0;32mfor\u001b[0m \u001b[0mseg\u001b[0m \u001b[0;32min\u001b[0m \u001b[0mself\u001b[0m\u001b[0;34m.\u001b[0m\u001b[0m_plot_args\u001b[0m\u001b[0;34m(\u001b[0m\u001b[0mthis\u001b[0m\u001b[0;34m,\u001b[0m \u001b[0mkwargs\u001b[0m\u001b[0;34m)\u001b[0m\u001b[0;34m:\u001b[0m\u001b[0;34m\u001b[0m\u001b[0m\n\u001b[0m\u001b[1;32m    405\u001b[0m                 \u001b[0;32myield\u001b[0m \u001b[0mseg\u001b[0m\u001b[0;34m\u001b[0m\u001b[0m\n\u001b[1;32m    406\u001b[0m \u001b[0;34m\u001b[0m\u001b[0m\n",
      "\u001b[0;32m~/anaconda2/envs/CSC401/lib/python3.6/site-packages/matplotlib/axes/_base.py\u001b[0m in \u001b[0;36m_plot_args\u001b[0;34m(self, tup, kwargs)\u001b[0m\n\u001b[1;32m    382\u001b[0m             \u001b[0mx\u001b[0m\u001b[0;34m,\u001b[0m \u001b[0my\u001b[0m \u001b[0;34m=\u001b[0m \u001b[0mindex_of\u001b[0m\u001b[0;34m(\u001b[0m\u001b[0mtup\u001b[0m\u001b[0;34m[\u001b[0m\u001b[0;34m-\u001b[0m\u001b[0;36m1\u001b[0m\u001b[0;34m]\u001b[0m\u001b[0;34m)\u001b[0m\u001b[0;34m\u001b[0m\u001b[0m\n\u001b[1;32m    383\u001b[0m \u001b[0;34m\u001b[0m\u001b[0m\n\u001b[0;32m--> 384\u001b[0;31m         \u001b[0mx\u001b[0m\u001b[0;34m,\u001b[0m \u001b[0my\u001b[0m \u001b[0;34m=\u001b[0m \u001b[0mself\u001b[0m\u001b[0;34m.\u001b[0m\u001b[0m_xy_from_xy\u001b[0m\u001b[0;34m(\u001b[0m\u001b[0mx\u001b[0m\u001b[0;34m,\u001b[0m \u001b[0my\u001b[0m\u001b[0;34m)\u001b[0m\u001b[0;34m\u001b[0m\u001b[0m\n\u001b[0m\u001b[1;32m    385\u001b[0m \u001b[0;34m\u001b[0m\u001b[0m\n\u001b[1;32m    386\u001b[0m         \u001b[0;32mif\u001b[0m \u001b[0mself\u001b[0m\u001b[0;34m.\u001b[0m\u001b[0mcommand\u001b[0m \u001b[0;34m==\u001b[0m \u001b[0;34m'plot'\u001b[0m\u001b[0;34m:\u001b[0m\u001b[0;34m\u001b[0m\u001b[0m\n",
      "\u001b[0;32m~/anaconda2/envs/CSC401/lib/python3.6/site-packages/matplotlib/axes/_base.py\u001b[0m in \u001b[0;36m_xy_from_xy\u001b[0;34m(self, x, y)\u001b[0m\n\u001b[1;32m    241\u001b[0m         \u001b[0;32mif\u001b[0m \u001b[0mx\u001b[0m\u001b[0;34m.\u001b[0m\u001b[0mshape\u001b[0m\u001b[0;34m[\u001b[0m\u001b[0;36m0\u001b[0m\u001b[0;34m]\u001b[0m \u001b[0;34m!=\u001b[0m \u001b[0my\u001b[0m\u001b[0;34m.\u001b[0m\u001b[0mshape\u001b[0m\u001b[0;34m[\u001b[0m\u001b[0;36m0\u001b[0m\u001b[0;34m]\u001b[0m\u001b[0;34m:\u001b[0m\u001b[0;34m\u001b[0m\u001b[0m\n\u001b[1;32m    242\u001b[0m             raise ValueError(\"x and y must have same first dimension, but \"\n\u001b[0;32m--> 243\u001b[0;31m                              \"have shapes {} and {}\".format(x.shape, y.shape))\n\u001b[0m\u001b[1;32m    244\u001b[0m         \u001b[0;32mif\u001b[0m \u001b[0mx\u001b[0m\u001b[0;34m.\u001b[0m\u001b[0mndim\u001b[0m \u001b[0;34m>\u001b[0m \u001b[0;36m2\u001b[0m \u001b[0;32mor\u001b[0m \u001b[0my\u001b[0m\u001b[0;34m.\u001b[0m\u001b[0mndim\u001b[0m \u001b[0;34m>\u001b[0m \u001b[0;36m2\u001b[0m\u001b[0;34m:\u001b[0m\u001b[0;34m\u001b[0m\u001b[0m\n\u001b[1;32m    245\u001b[0m             raise ValueError(\"x and y can be no greater than 2-D, but have \"\n",
      "\u001b[0;31mValueError\u001b[0m: x and y must have same first dimension, but have shapes (65,) and (4,)"
     ]
    }
   ],
   "source": [
    "plt.plot(iterations, performance_train[:-1], label = \"training_scores\")\n",
    "plt.plot(iterations, performance_test[:-1], label = \"testing_scores\")\n",
    "plt.xlabel(\"Iterations of Gradient Descent\")\n",
    "plt.legend()\n",
    "plt.show()"
   ]
  },
  {
   "cell_type": "code",
   "execution_count": null,
   "metadata": {
    "collapsed": false
   },
   "outputs": [],
   "source": [
    "#performance_train, performance_test"
   ]
  },
  {
   "cell_type": "code",
   "execution_count": null,
   "metadata": {
    "collapsed": true
   },
   "outputs": [],
   "source": [
    "#part 5, gradient descent with momentum"
   ]
  }
 ],
 "metadata": {
  "anaconda-cloud": {},
  "kernelspec": {
   "display_name": "Python [conda env:CSC401]",
   "language": "python",
   "name": "conda-env-CSC401-py"
  },
  "language_info": {
   "codemirror_mode": {
    "name": "ipython",
    "version": 3
   },
   "file_extension": ".py",
   "mimetype": "text/x-python",
   "name": "python",
   "nbconvert_exporter": "python",
   "pygments_lexer": "ipython3",
   "version": "3.6.3"
  }
 },
 "nbformat": 4,
 "nbformat_minor": 1
}
