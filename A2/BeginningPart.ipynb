{
 "cells": [
  {
   "cell_type": "code",
   "execution_count": 1,
   "metadata": {
    "collapsed": true
   },
   "outputs": [],
   "source": [
    "from pylab import *\n",
    "import numpy as np\n",
    "import matplotlib.pyplot as plt\n",
    "import matplotlib.cbook as cbook\n",
    "import time\n",
    "from scipy.misc import imread\n",
    "from scipy.misc import imresize\n",
    "import matplotlib.image as mpimg\n",
    "from scipy.ndimage import filters\n",
    "import urllib\n",
    "from numpy import random\n",
    "import sys\n",
    "import pickle\n",
    "import os\n",
    "from scipy.io import loadmat\n",
    "# Load the MNIST digit data\n",
    "M = loadmat(\"mnist_all.mat\")"
   ]
  },
  {
   "cell_type": "code",
   "execution_count": 2,
   "metadata": {
    "collapsed": true
   },
   "outputs": [],
   "source": [
    "def softmax(y):\n",
    "    '''Return the output of the softmax function for the matrix of output y. y\n",
    "    is an NxM matrix where N is the number of outputs for a single case, and M\n",
    "    is the number of cases'''\n",
    "    return exp(y) / tile(sum(exp(y), 0), (len(y), 1))"
   ]
  },
  {
   "cell_type": "code",
   "execution_count": 3,
   "metadata": {
    "collapsed": true
   },
   "outputs": [],
   "source": [
    "def tanh_layer(y, W, b):\n",
    "    '''Return the output of a tanh layer for the input matrix y. y\n",
    "    is an NxM matrix where N is the number of inputs for a single case, and M\n",
    "    is the number of cases'''\n",
    "    return tanh(dot(W.T, y) + b)"
   ]
  },
  {
   "cell_type": "code",
   "execution_count": 4,
   "metadata": {
    "collapsed": true
   },
   "outputs": [],
   "source": [
    "def forward(x, W0, b0, W1, b1):\n",
    "    L0 = tanh_layer(x, W0, b0)\n",
    "    L1 = dot(W1.T, L0) + b1\n",
    "    output = softmax(L1)\n",
    "    return L0, L1, output"
   ]
  },
  {
   "cell_type": "code",
   "execution_count": 5,
   "metadata": {
    "collapsed": true
   },
   "outputs": [],
   "source": [
    "def cost_function(y, p):\n",
    "    return -np.sum(y * np.log(p))"
   ]
  },
  {
   "cell_type": "code",
   "execution_count": null,
   "metadata": {
    "collapsed": true
   },
   "outputs": [],
   "source": [
    "def part2(x, W0, b0):\n",
    "    total_W0 = np.concatenate((b0, W0))\n",
    "    added_ones = np.ones(x.shape[1]).reshape(x.shape[1], 1)\n",
    "    total_x = np.concatenate((added_ones.T, x))\n",
    "    vals = softmax(np.dot(total_W0.T, total_x))\n",
    "    return vals.T\n",
    "\n",
    "def part3(x, y1, p):\n",
    "    deriv = np.subtract(p, y1)\n",
    "    added_ones = np.ones(x.shape[1]).reshape(x.shape[1], 1)\n",
    "    total_x = np.concatenate((added_ones.T, x))\n",
    "    deriv = np.matmul(deriv.T, total_x.T).T\n",
    "    return deriv  # shape 10, 785"
   ]
  },
  {
   "cell_type": "code",
   "execution_count": 7,
   "metadata": {
    "collapsed": true
   },
   "outputs": [],
   "source": [
    "def get_data(M):\n",
    "    train_keys = [key for key in M.keys() if \"train\" in key]\n",
    "    data_length = 0\n",
    "    for train_k in train_keys:\n",
    "        data_length += M[train_k].shape[0]\n",
    "\n",
    "    # concatenate all the data\n",
    "    train_data = np.zeros((data_length, 784))\n",
    "    data_counter = 0\n",
    "    data_size = 0\n",
    "\n",
    "    train_y = np.zeros((data_length, 10))\n",
    "    for i, train_k in enumerate(train_keys):\n",
    "        data_size = M[train_k].shape[0]\n",
    "        print(i, data_size)\n",
    "        train_data[data_counter: data_counter + data_size, :] = M[train_k]\n",
    "        train_y[data_counter: data_counter + data_size, i] = 1\n",
    "        data_counter += data_size\n",
    "    return train_data, train_y\n",
    "\n",
    "\n",
    "def df(x, W0, y):\n",
    "    # this W0 is assumed to have the bias incorperated into it\n",
    "    #print(W0.shape, y.shape)\n",
    "    W1, b0 = W0[:-1, :].reshape(784, W0.shape[1]), W0[-1, :].reshape(1, 10)\n",
    "    vals = part2(x, W1, b0)\n",
    "    return part3(x, y, vals)\n",
    "\n",
    "\n",
    "def grad_descent(df, x, y, W0, b0, alpha, EPS=1e-7):\n",
    "    # EPS = 1e-5   #EPS = 10**(-5)\n",
    "    start = time.time()\n",
    "    total_W0 = np.concatenate((b0, W0))\n",
    "    prev_totalW0 = total_W0 - 10 * EPS\n",
    "    W1 = total_W0.copy()\n",
    "    # inital weights, pass in both bias and weights together for now\n",
    "    max_iter = 1000\n",
    "    iter = 0\n",
    "    while norm(W1 - prev_totalW0) > EPS and iter < max_iter:\n",
    "        prev_totalW0 = W1.copy()\n",
    "        W1 -= alpha * df(x, W1, y)\n",
    "        if iter % 100 == 0:\n",
    "            print(\"Iter\", iter)\n",
    "            # print \"x = (%.3f, %.3f, %.3f), f(x) = %.3f\" % (t[0], t[1], t[2], f(x, y, t))\n",
    "            # print \"Gradient: \", df(x, y, t), \"\\n\"\n",
    "        iter += 1\n",
    "    print(\"Iter\", iter)\n",
    "    end = time.time()\n",
    "    print(\"Time taken:\", (end - start))\n",
    "    return W1\n",
    "\n",
    "\n",
    "def part4(data, W0, b0, y):\n",
    "    np.random.seed(0)\n",
    "    alpha = 0.005\n",
    "    final_weights = grad_descent(df, data, y, W0, b0, alpha, 1e-4)\n",
    "    return final_weights\n",
    "\n",
    "\n",
    "def deriv_multilayer(W0, b0, W1, b1, x, L0, L1, y, y_):\n",
    "    '''Incomplete function for computing the gradient of the cross-entropy\n",
    "    cost function w.r.t the parameters of a neural network'''\n",
    "    p_i = part2(W0, b0, weights)  # the probabilities for each data for each class\n",
    "    derivative = -(W1.T - p_i)\n",
    "    d_W = np.matmul(derivative, W0)\n",
    "    dCdL1 = y - y_\n",
    "    dCdW1 = dot(L0, dCdL1.T)"
   ]
  },
  {
   "cell_type": "code",
   "execution_count": 8,
   "metadata": {
    "collapsed": false
   },
   "outputs": [
    {
     "data": {
      "text/plain": [
       "'\\nfor i in range(5):\\n    place = 215 + i\\n    weights2 = weights.copy()\\n    weights2[place, 5] += h\\n    output2 = part2(x, weights2, weights_bias)\\n    cost2 = cost_function(y, output2)\\n    print(\"Finite Diff\", (cost2 - cost) / h)\\n    real_diff = part3(x, y, output)\\n    print(\"Real Diff\", real_diff[place + 1, 5])\\n    # print(real_diff.shape)\\n'"
      ]
     },
     "execution_count": 8,
     "metadata": {},
     "output_type": "execute_result"
    }
   ],
   "source": [
    "# PART ONE DATA SNIPPIT\n",
    "# Load sample weights for the multilayer neural network\n",
    "snapshot = pickle.load(open(\"snapshot50.pkl\", \"rb\"), encoding=\"latin-1\")\n",
    "W0 = snapshot[\"W0\"]  # data\n",
    "b0 = snapshot[\"b0\"].reshape((300, 1))  # bias?\n",
    "W1 = snapshot[\"W1\"]  # should be likelihoods?\n",
    "b1 = snapshot[\"b1\"].reshape((10, 1))  # classes?\n",
    "#print(W0.shape)\n",
    "\n",
    "np.random.seed(0)\n",
    "weights = np.random.random(size=784*10).reshape((784, 10))/10.\n",
    "weights_bias = np.zeros(10).reshape(1, 10)\n",
    "#np.random.random(size=10).reshape((1, 10))\n",
    "\n",
    "# PART TWO - SINGLE LAYER NN\n",
    "x = M[\"train5\"][148:149].T\n",
    "x = x / 255.\n",
    "output = part2(x, weights, weights_bias)\n",
    "# print(output)\n",
    "\n",
    "# PART TWO - SINGLE LAYER NN\n",
    "x = M[\"train5\"][148:149].T / 255./ 255.\n",
    "output = part2(x, weights, weights_bias)\n",
    "y = np.zeros((10, 1))\n",
    "y[5, 0] = 1.\n",
    "\n",
    "# PART THREE _ FINITE DIFFS\n",
    "cost = cost_function(y, output)\n",
    "\n",
    "h = 0.0001\n",
    "'''\n",
    "for i in range(5):\n",
    "    place = 215 + i\n",
    "    weights2 = weights.copy()\n",
    "    weights2[place, 5] += h\n",
    "    output2 = part2(x, weights2, weights_bias)\n",
    "    cost2 = cost_function(y, output2)\n",
    "    print(\"Finite Diff\", (cost2 - cost) / h)\n",
    "    real_diff = part3(x, y, output)\n",
    "    print(\"Real Diff\", real_diff[place + 1, 5])\n",
    "    # print(real_diff.shape)\n",
    "'''"
   ]
  },
  {
   "cell_type": "code",
   "execution_count": 9,
   "metadata": {
    "collapsed": false
   },
   "outputs": [
    {
     "name": "stdout",
     "output_type": "stream",
     "text": [
      "0 5923\n",
      "1 6742\n",
      "2 5958\n",
      "3 6131\n",
      "4 5842\n",
      "5 5421\n",
      "6 5918\n",
      "7 6265\n",
      "8 5851\n",
      "9 5949\n",
      "(array([], dtype=int64), array([], dtype=int64))\n",
      "TrainX (784, 60000)\n",
      "[[ 0.05488135  0.07151894  0.06027634 ...,  0.0891773   0.09636628\n",
      "   0.03834415]\n",
      " [ 0.0791725   0.05288949  0.05680446 ...,  0.08326198  0.07781568\n",
      "   0.08700121]\n",
      " [ 0.09786183  0.07991586  0.04614794 ...,  0.09446689  0.05218483\n",
      "   0.04146619]\n",
      " ..., \n",
      " [ 0.00869201  0.06454565  0.03946523 ...,  0.01750788  0.01853182\n",
      "   0.0598919 ]\n",
      " [ 0.03345442  0.09068548  0.00793563 ...,  0.05302586  0.06983474\n",
      "   0.05457063]\n",
      " [ 0.09224717  0.05516776  0.09196657 ...,  0.03425546  0.0899374\n",
      "   0.01492148]]\n",
      "Iter 0\n",
      "Iter 100\n",
      "Iter 200\n",
      "Iter 300\n",
      "Iter 400\n",
      "Iter 500\n",
      "Iter 600\n",
      "Iter 700\n",
      "Iter 800\n",
      "Iter 900\n",
      "Iter 1000\n",
      "Time taken: 375.97908186912537\n",
      "(array([], dtype=int64), array([], dtype=int64))\n"
     ]
    }
   ],
   "source": [
    "##PART FOUR##\n",
    "trainX, trainY = get_data(M)\n",
    "print(np.where(trainX==np.nan))\n",
    "trainX = trainX.T/255. /255.\n",
    "print(\"TrainX\", trainX.shape)\n",
    "final_weights = part4(trainX, weights, weights_bias, trainY)\n",
    "#grad_descent(df, trainX, trainY, weights, weights_bias, 0.01)\n",
    "# L0, L1, output = forward(x, W0, b0, W1, b1)\n",
    "# get the index at which the output is the largest\n",
    "# y = argmax(output)\n",
    "\n",
    "################################################################################\n",
    "# Code for displaying a feature from the weight matrix mW\n",
    "# fig = figure(1)\n",
    "# ax = fig.gca()\n",
    "# heatmap = ax.imshow(mW[:,50].reshape((28,28)), cmap = cm.coolwarm)\n",
    "# fig.colorbar(heatmap, shrink = 0.5, aspect=5)\n",
    "# show()\n",
    "################################################################################"
   ]
  },
  {
   "cell_type": "code",
   "execution_count": 39,
   "metadata": {
    "collapsed": false
   },
   "outputs": [
    {
     "name": "stdout",
     "output_type": "stream",
     "text": [
      "(785, 10)\n"
     ]
    },
    {
     "data": {
      "image/png": "[encoded data removed]",
      "text/plain": [
       "<matplotlib.figure.Figure at 0x7f6f82dc1ac8>"
      ]
     },
     "metadata": {},
     "output_type": "display_data"
    }
   ],
   "source": [
    "print(final_weights.shape)\n",
    "#discard the last element, as that is the bias term\n",
    "fig , ax= plt.subplots(5, 2, figsize=(8,15))\n",
    "for i in range(10):\n",
    "    #print(i//5, i%5)\n",
    "    ax[i%5, i//5].imshow(final_weights[1:, i].reshape(28, 28))\n",
    "    ax[i%5, i//5].set_title(\"Digit: {0}\".format(i))\n",
    "    # .title(\"Number {0}\".format(i))\n",
    "plt.show()\n",
    "#rint(final_weights[:-1, 7])\n",
    "#plt.imshow(final_weights[:-1, 7].reshape(28, 28))\n",
    "#plt.show()"
   ]
  },
  {
   "cell_type": "code",
   "execution_count": 11,
   "metadata": {
    "collapsed": false
   },
   "outputs": [
    {
     "name": "stdout",
     "output_type": "stream",
     "text": [
      "10000\n",
      "0 980\n",
      "1 1135\n",
      "2 1032\n",
      "3 1010\n",
      "4 982\n",
      "5 892\n",
      "6 958\n",
      "7 1028\n",
      "8 974\n",
      "9 1009\n"
     ]
    }
   ],
   "source": [
    "#plot learning curves\n",
    "#collect testing data\n",
    "def get_test_data(M):\n",
    "    train_keys = [key for key in M.keys() if \"test\" in key]\n",
    "    data_length = 0\n",
    "    for train_k in train_keys:\n",
    "        data_length += M[train_k].shape[0]\n",
    "\n",
    "    # concatenate all the data\n",
    "    train_data = np.zeros((data_length, 784))\n",
    "    print(data_length)\n",
    "    data_counter = 0\n",
    "    data_size = 0\n",
    "\n",
    "    train_y = np.zeros((data_length, 10))\n",
    "    for i, train_k in enumerate(train_keys):\n",
    "        data_size = M[train_k].shape[0]\n",
    "        print(i, data_size)\n",
    "        train_data[data_counter: data_counter + data_size, :] = M[train_k]\n",
    "        train_y[data_counter: data_counter + data_size, i] = 1\n",
    "        data_counter += data_size\n",
    "    return train_data, train_y\n",
    "\n",
    "testX, testY = get_test_data(M)"
   ]
  },
  {
   "cell_type": "code",
   "execution_count": 18,
   "metadata": {
    "collapsed": false
   },
   "outputs": [
    {
     "name": "stdout",
     "output_type": "stream",
     "text": [
      "(10000, 784) (1, 10000)\n",
      "(10000, 785)\n",
      "(785, 10) (10000, 785)\n",
      "8213\n"
     ]
    }
   ],
   "source": [
    "added_ones = np.ones((testX.shape[0], 1))\n",
    "#print(testX.shape, added_ones.T.shape)\n",
    "#totaltestX = np.vstack((testX, ))\n",
    "totaltestX = np.concatenate((testX,added_ones), axis=1)\n",
    "#print(totaltestX.shape)\n",
    "#print (final_weights.shape, totaltestX.shape)\n",
    "preds = np.matmul(totaltestX, final_weights)\n",
    "\n",
    "preds_max =  preds.max(axis = 1)\n",
    "final_preds = np.isin(preds, preds_max).astype(int)\n",
    "#how many of the hot keys match for validation\n",
    "print(len(np.where((testY == final_preds).all(axis =1)==True)[0]))"
   ]
  },
  {
   "cell_type": "markdown",
   "metadata": {
    "collapsed": true
   },
   "source": [
    "Plot the learning curves with these set of parameters every 400 iterations, see how the performance changes"
   ]
  },
  {
   "cell_type": "code",
   "execution_count": 92,
   "metadata": {
    "collapsed": false
   },
   "outputs": [],
   "source": [
    "def grad_descent_learning_curves(df, x, y, W0, b0, alpha, testX, testY, EPS=1e-7):\n",
    "    # EPS = 1e-5   #EPS = 10**(-5)\n",
    "    start = time.time()\n",
    "    total_W0 = np.concatenate((b0, W0))\n",
    "    prev_totalW0 = total_W0 - 10 * EPS\n",
    "    W1 = total_W0.copy()\n",
    "    # inital weights, pass in both bias and weights together for now\n",
    "    max_iter = 6500\n",
    "    iter = 0\n",
    "    performance_test = np.zeros(max_iter//100 +1) #check performance every 100 iterations\n",
    "    performance_train = np.zeros_like(performance_test)\n",
    "\n",
    "    added_ones = np.ones((testX.shape[0], 1))\n",
    "    totaltestX = np.concatenate((testX,added_ones), axis=1)\n",
    "    \n",
    "    added_ones = np.ones((x.shape[1], 1))\n",
    "    totaltrainX = np.concatenate((x.T, added_ones), axis = 1)\n",
    "    \n",
    "    counter = 0\n",
    "    while norm(W1 - prev_totalW0) > EPS and iter < max_iter:\n",
    "        prev_totalW0 = W1.copy()\n",
    "        W1 -= alpha * df(x, W1, y)\n",
    "        if iter % 100 == 99:\n",
    "            print(\"Iter\", iter)\n",
    "            \n",
    "            preds = np.matmul(totaltrainX, W1)\n",
    "            preds_max =  preds.max(axis = 1)\n",
    "            final_preds = np.isin(preds, preds_max).astype(int)\n",
    "            #how many of the hot keys match for validation\n",
    "            performance_train[counter] =  len(np.where((trainY == final_preds).all(axis =1)==True)[0])/60000.\n",
    "            \n",
    "            preds = np.matmul(totaltestX, W1)\n",
    "            preds_max =  preds.max(axis = 1)\n",
    "            final_preds = np.isin(preds, preds_max).astype(int)\n",
    "            #how many of the hot keys match for validation\n",
    "            performance_test[counter] = len(np.where((testY == final_preds).all(axis =1)==True)[0])  /10000.\n",
    "            \n",
    "            #counter +=1\n",
    "            print(performance_train[counter], performance_test[counter])\n",
    "            counter +=1\n",
    "        iter += 1\n",
    "        \n",
    "    print(\"Iter\", iter)\n",
    "    end = time.time()\n",
    "    print(\"Time taken:\", (end - start))\n",
    "    return W1, performance_train, performance_test\n",
    "\n",
    "\n",
    "def part4b(data, W0, b0, y, testX, testY):\n",
    "    np.random.seed(0)\n",
    "    alpha = 0.01\n",
    "    final_weights, performance_train, performance_test = grad_descent_learning_curves(df, data, y, W0, b0, alpha, testX, testY, 1e-4)\n",
    "    return final_weights, performance_train, performance_test\n",
    "\n"
   ]
  },
  {
   "cell_type": "code",
   "execution_count": 93,
   "metadata": {
    "collapsed": false
   },
   "outputs": [
    {
     "name": "stdout",
     "output_type": "stream",
     "text": [
      "Iter 99\n",
      "0.740533333333 0.7402\n",
      "Iter 199\n",
      "0.77355 0.7791\n",
      "Iter 299\n",
      "0.791483333333 0.7968\n",
      "Iter 399\n",
      "0.803916666667 0.8101\n",
      "Iter 499\n",
      "0.813266666667 0.8213\n",
      "Iter 599\n",
      "0.820616666667 0.8286\n",
      "Iter 699\n",
      "0.826783333333 0.8339\n",
      "Iter 799\n",
      "0.83255 0.8398\n",
      "Iter 899\n",
      "0.83705 0.8438\n",
      "Iter 999\n",
      "0.84065 0.8465\n",
      "Iter 1099\n",
      "0.843633333333 0.8506\n",
      "Iter 1199\n",
      "0.846983333333 0.8543\n",
      "Iter 1299\n",
      "0.849466666667 0.857\n",
      "Iter 1399\n",
      "0.8518 0.8589\n",
      "Iter 1499\n",
      "0.854116666667 0.8609\n",
      "Iter 1599\n",
      "0.856116666667 0.8622\n",
      "Iter 1699\n",
      "0.857983333333 0.865\n",
      "Iter 1799\n",
      "0.859966666667 0.8669\n",
      "Iter 1899\n",
      "0.861533333333 0.8679\n",
      "Iter 1999\n",
      "0.86305 0.8699\n",
      "Iter 2099\n",
      "0.86405 0.8706\n",
      "Iter 2199\n",
      "0.86535 0.8712\n",
      "Iter 2299\n",
      "0.86645 0.8729\n",
      "Iter 2399\n",
      "0.86745 0.8738\n",
      "Iter 2499\n",
      "0.868366666667 0.8746\n",
      "Iter 2599\n",
      "0.8692 0.8753\n",
      "Iter 2699\n",
      "0.870033333333 0.8764\n",
      "Iter 2799\n",
      "0.870966666667 0.8771\n",
      "Iter 2899\n",
      "0.871716666667 0.8781\n",
      "Iter 2999\n",
      "0.8725 0.8794\n",
      "Iter 3099\n",
      "0.87335 0.8804\n",
      "Iter 3199\n",
      "0.874233333333 0.8815\n",
      "Iter 3299\n",
      "0.875133333333 0.8821\n",
      "Iter 3399\n",
      "0.875933333333 0.8822\n",
      "Iter 3499\n",
      "0.87665 0.883\n",
      "Iter 3599\n",
      "0.877183333333 0.8835\n",
      "Iter 3699\n",
      "0.877616666667 0.884\n",
      "Iter 3799\n",
      "0.878183333333 0.8846\n",
      "Iter 3899\n",
      "0.87875 0.8849\n",
      "Iter 3999\n",
      "0.879383333333 0.8849\n",
      "Iter 4099\n",
      "0.8799 0.8853\n",
      "Iter 4199\n",
      "0.880766666667 0.8859\n",
      "Iter 4299\n",
      "0.881216666667 0.8864\n",
      "Iter 4399\n",
      "0.881633333333 0.8872\n",
      "Iter 4499\n",
      "0.882133333333 0.8879\n",
      "Iter 4599\n",
      "0.88275 0.8881\n",
      "Iter 4699\n",
      "0.883016666667 0.8888\n",
      "Iter 4799\n",
      "0.883433333333 0.8891\n",
      "Iter 4899\n",
      "0.883766666667 0.89\n",
      "Iter 4999\n",
      "0.884233333333 0.8907\n",
      "Iter 5099\n",
      "0.8846 0.891\n",
      "Iter 5199\n",
      "0.885033333333 0.8911\n",
      "Iter 5299\n",
      "0.88525 0.8913\n",
      "Iter 5399\n",
      "0.885566666667 0.8915\n",
      "Iter 5499\n",
      "0.886 0.8919\n",
      "Iter 5599\n",
      "0.886233333333 0.8923\n",
      "Iter 5699\n",
      "0.886633333333 0.8927\n",
      "Iter 5799\n",
      "0.886933333333 0.893\n",
      "Iter 5899\n",
      "0.8873 0.8933\n",
      "Iter 5999\n",
      "0.887516666667 0.8933\n",
      "Iter 6099\n",
      "0.887833333333 0.8935\n",
      "Iter 6199\n",
      "0.888316666667 0.8936\n",
      "Iter 6299\n",
      "0.888616666667 0.894\n",
      "Iter 6399\n",
      "0.888833333333 0.8945\n",
      "Iter 6499\n",
      "0.889066666667 0.8948\n",
      "Iter 6500\n",
      "Time taken: 2434.5115756988525\n"
     ]
    }
   ],
   "source": [
    "final_weights, performance_train, performance_test = part4b(trainX, weights, weights_bias, trainY, testX, testY)"
   ]
  },
  {
   "cell_type": "code",
   "execution_count": 94,
   "metadata": {
    "collapsed": false
   },
   "outputs": [
    {
     "data": {
      "text/plain": [
       "(array([ 0.74053333,  0.77355   ,  0.79148333,  0.80391667,  0.81326667,\n",
       "         0.82061667,  0.82678333,  0.83255   ,  0.83705   ,  0.84065   ,\n",
       "         0.84363333,  0.84698333,  0.84946667,  0.8518    ,  0.85411667,\n",
       "         0.85611667,  0.85798333,  0.85996667,  0.86153333,  0.86305   ,\n",
       "         0.86405   ,  0.86535   ,  0.86645   ,  0.86745   ,  0.86836667,\n",
       "         0.8692    ,  0.87003333,  0.87096667,  0.87171667,  0.8725    ,\n",
       "         0.87335   ,  0.87423333,  0.87513333,  0.87593333,  0.87665   ,\n",
       "         0.87718333,  0.87761667,  0.87818333,  0.87875   ,  0.87938333,\n",
       "         0.8799    ,  0.88076667,  0.88121667,  0.88163333,  0.88213333,\n",
       "         0.88275   ,  0.88301667,  0.88343333,  0.88376667,  0.88423333,\n",
       "         0.8846    ,  0.88503333,  0.88525   ,  0.88556667,  0.886     ,\n",
       "         0.88623333,  0.88663333,  0.88693333,  0.8873    ,  0.88751667,\n",
       "         0.88783333,  0.88831667,  0.88861667,  0.88883333,  0.88906667,  0.        ]),\n",
       " array([ 0.7402,  0.7791,  0.7968,  0.8101,  0.8213,  0.8286,  0.8339,\n",
       "         0.8398,  0.8438,  0.8465,  0.8506,  0.8543,  0.857 ,  0.8589,\n",
       "         0.8609,  0.8622,  0.865 ,  0.8669,  0.8679,  0.8699,  0.8706,\n",
       "         0.8712,  0.8729,  0.8738,  0.8746,  0.8753,  0.8764,  0.8771,\n",
       "         0.8781,  0.8794,  0.8804,  0.8815,  0.8821,  0.8822,  0.883 ,\n",
       "         0.8835,  0.884 ,  0.8846,  0.8849,  0.8849,  0.8853,  0.8859,\n",
       "         0.8864,  0.8872,  0.8879,  0.8881,  0.8888,  0.8891,  0.89  ,\n",
       "         0.8907,  0.891 ,  0.8911,  0.8913,  0.8915,  0.8919,  0.8923,\n",
       "         0.8927,  0.893 ,  0.8933,  0.8933,  0.8935,  0.8936,  0.894 ,\n",
       "         0.8945,  0.8948,  0.    ]))"
      ]
     },
     "execution_count": 94,
     "metadata": {},
     "output_type": "execute_result"
    }
   ],
   "source": [
    "performance_train, performance_test"
   ]
  },
  {
   "cell_type": "code",
   "execution_count": 80,
   "metadata": {
    "collapsed": false
   },
   "outputs": [
    {
     "data": {
      "text/plain": [
       "(array([ 0.7134    ,  0.74063333,  0.76021667,  0.7736    ,  0.7837    ,\n",
       "         0.79158333,  0.79826667,  0.80395   ,  0.80911667,  0.81328333,\n",
       "         0.81688333,  0.8206    ,  0.82371667,  0.8268    ,  0.83011667,\n",
       "         0.83255   ,  0.8348    ,  0.83705   ,  0.83906667,  0.84063333,\n",
       "         0.84221667,  0.84363333,  0.84538333,  0.84698333,  0.84828333,\n",
       "         0.84946667,  0.85071667,  0.85178333,  0.85313333,  0.85411667,\n",
       "         0.85503333,  0.85611667,  0.85725   ,  0.858     ,  0.85886667,  0.        ]),\n",
       " array([ 0.7143,  0.7402,  0.7635,  0.7791,  0.7889,  0.7968,  0.804 ,\n",
       "         0.8102,  0.8163,  0.8213,  0.8257,  0.8286,  0.8322,  0.8339,\n",
       "         0.8369,  0.8398,  0.8419,  0.8438,  0.8451,  0.8465,  0.8489,\n",
       "         0.8506,  0.8525,  0.8543,  0.8556,  0.857 ,  0.8579,  0.8589,\n",
       "         0.8598,  0.8609,  0.8617,  0.8622,  0.8635,  0.8649,  0.8657,  0.    ]))"
      ]
     },
     "execution_count": 80,
     "metadata": {},
     "output_type": "execute_result"
    }
   ],
   "source": [
    "#performance_train, performance_test"
   ]
  },
  {
   "cell_type": "code",
   "execution_count": 95,
   "metadata": {
    "collapsed": false
   },
   "outputs": [
    {
     "data": {
      "text/plain": [
       "array([   0,  100,  200,  300,  400,  500,  600,  700,  800,  900, 1000,\n",
       "       1100, 1200, 1300, 1400, 1500, 1600, 1700, 1800, 1900, 2000, 2100,\n",
       "       2200, 2300, 2400, 2500, 2600, 2700, 2800, 2900, 3000, 3100, 3200,\n",
       "       3300, 3400, 3500, 3600, 3700, 3800, 3900, 4000, 4100, 4200, 4300,\n",
       "       4400, 4500, 4600, 4700, 4800, 4900, 5000, 5100, 5200, 5300, 5400,\n",
       "       5500, 5600, 5700, 5800, 5900, 6000, 6100, 6200, 6300, 6400])"
      ]
     },
     "execution_count": 95,
     "metadata": {},
     "output_type": "execute_result"
    }
   ],
   "source": [
    "iterations =  np.arange(6500//100 )*100\n",
    "iterations"
   ]
  },
  {
   "cell_type": "code",
   "execution_count": 96,
   "metadata": {
    "collapsed": false
   },
   "outputs": [
    {
     "data": {
      "image/png": "[encoded data removed]",
      "text/plain": [
       "<matplotlib.figure.Figure at 0x7f6f81488668>"
      ]
     },
     "metadata": {},
     "output_type": "display_data"
    }
   ],
   "source": [
    "plt.plot(iterations, performance_train[:-1], label = \"training_scores\")\n",
    "plt.plot(iterations, performance_test[:-1], label = \"testing_scores\")\n",
    "plt.xlabel(\"Iterations of Gradient Descent\")\n",
    "plt.legend()\n",
    "plt.show()"
   ]
  },
  {
   "cell_type": "code",
   "execution_count": null,
   "metadata": {
    "collapsed": true
   },
   "outputs": [],
   "source": [
    "#part 5, gradient descent with momentum"
   ]
  }
 ],
 "metadata": {
  "anaconda-cloud": {},
  "kernelspec": {
   "display_name": "Python [conda env:CSC401]",
   "language": "python",
   "name": "conda-env-CSC401-py"
  },
  "language_info": {
   "codemirror_mode": {
    "name": "ipython",
    "version": 3
   },
   "file_extension": ".py",
   "mimetype": "text/x-python",
   "name": "python",
   "nbconvert_exporter": "python",
   "pygments_lexer": "ipython3",
   "version": "3.6.3"
  }
 },
 "nbformat": 4,
 "nbformat_minor": 1
}
