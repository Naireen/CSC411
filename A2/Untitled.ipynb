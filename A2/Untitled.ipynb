{
 "cells": [
  {
   "cell_type": "code",
   "execution_count": 1,
   "metadata": {
    "collapsed": true
   },
   "outputs": [],
   "source": [
    "from pylab import *\n",
    "import numpy as np\n",
    "import matplotlib.pyplot as plt\n",
    "import matplotlib.cbook as cbook\n",
    "import time\n",
    "from scipy.misc import imread\n",
    "from scipy.misc import imresize\n",
    "import matplotlib.image as mpimg\n",
    "from scipy.ndimage import filters\n",
    "import urllib\n",
    "from numpy import random\n",
    "import sys\n",
    "import pickle\n",
    "import os\n",
    "from scipy.io import loadmat\n",
    "# Load the MNIST digit data\n",
    "M = loadmat(\"mnist_all.mat\")"
   ]
  },
  {
   "cell_type": "code",
   "execution_count": 60,
   "metadata": {
    "collapsed": true
   },
   "outputs": [],
   "source": [
    "def softmax(y):\n",
    "    '''Return the output of the softmax function for the matrix of output y. y\n",
    "    is an NxM matrix where N is the number of outputs for a single case, and M\n",
    "    is the number of cases'''\n",
    "    return exp(y) / tile(sum(exp(y), 0), (len(y), 1))\n",
    "def cost_function(y, p):\n",
    "    return -np.nansum(y * np.log(p))"
   ]
  },
  {
   "cell_type": "code",
   "execution_count": 61,
   "metadata": {
    "collapsed": true
   },
   "outputs": [],
   "source": [
    "def part2(x, W0, b0):\n",
    "    #print(b0.shape, W0.shape)\n",
    "    total_W0 = np.concatenate((b0, W0))\n",
    "    added_ones = np.ones(x.shape[1]).reshape(x.shape[1], 1)\n",
    "    total_x = np.concatenate((added_ones.T, x))\n",
    "    vals = softmax(np.dot(total_W0.T, total_x))\n",
    "    return vals.T\n",
    "\n",
    "def part3(x, y1, p):\n",
    "    deriv = np.subtract(p, y1)\n",
    "    added_ones = np.ones(x.shape[1]).reshape(x.shape[1], 1)\n",
    "    total_x = np.concatenate((added_ones.T, x))\n",
    "    deriv = np.matmul(deriv.T, total_x.T).T\n",
    "    return deriv  # shape 10, 785"
   ]
  },
  {
   "cell_type": "code",
   "execution_count": 21,
   "metadata": {
    "collapsed": true
   },
   "outputs": [],
   "source": [
    "def get_data(M):\n",
    "    train_keys = [key for key in M.keys() if \"train\" in key]\n",
    "    data_length = 0\n",
    "    for train_k in train_keys:\n",
    "        data_length += M[train_k].shape[0]\n",
    "\n",
    "    # concatenate all the data\n",
    "    train_data = np.zeros((data_length, 784))\n",
    "    data_counter = 0\n",
    "    data_size = 0\n",
    "\n",
    "    train_y = np.zeros((data_length, 10))\n",
    "    for i, train_k in enumerate(train_keys):\n",
    "        data_size = M[train_k].shape[0]\n",
    "        #print(i, data_size)\n",
    "        train_data[data_counter: data_counter + data_size, :] = M[train_k]\n",
    "        train_y[data_counter: data_counter + data_size, i] = 1\n",
    "        data_counter += data_size\n",
    "    return train_data, train_y"
   ]
  },
  {
   "cell_type": "code",
   "execution_count": 47,
   "metadata": {
    "collapsed": false
   },
   "outputs": [
    {
     "name": "stdout",
     "output_type": "stream",
     "text": [
      "(784, 10) (1, 10)\n"
     ]
    },
    {
     "data": {
      "text/plain": [
       "array([  7.69994424e+03,   2.37933647e+06,   4.68478987e+06,\n",
       "         9.74509781e+05,   1.91209977e+06,   1.33066817e+07,\n",
       "         1.44363967e+06,   5.09049281e+06,  -2.31239779e+07,\n",
       "        -6.67536215e+06])"
      ]
     },
     "execution_count": 47,
     "metadata": {},
     "output_type": "execute_result"
    }
   ],
   "source": [
    "weights = np.loadtxt(\"final_weightspart5.txt\")\n",
    "weights_bias = weights[-1, :].reshape(1, 10)\n",
    "weights = weights[:-1, :]\n",
    "print(weights.shape, weights_bias.shape), #alter, (300, 400) 5\n",
    "weights[0, :10]"
   ]
  },
  {
   "cell_type": "code",
   "execution_count": 48,
   "metadata": {
    "collapsed": true
   },
   "outputs": [],
   "source": [
    "x, y = get_data(M)\n",
    "x = x.T/255./255."
   ]
  },
  {
   "cell_type": "code",
   "execution_count": 72,
   "metadata": {
    "collapsed": false
   },
   "outputs": [
    {
     "name": "stdout",
     "output_type": "stream",
     "text": [
      "-968.093069287 -480.779415229\n",
      "[-1068.09306929 -1053.807355   -1039.52164072 -1025.23592643 -1010.95021214\n",
      "  -996.66449786  -982.37878357  -968.09306929  -953.807355    -939.52164072\n",
      "  -925.23592643  -910.95021214  -896.66449786  -882.37878357  -868.09306929] [-580.77941523 -566.49370094 -552.20798666 -537.92227237 -523.63655809\n",
      " -509.3508438  -495.06512952 -480.77941523 -466.49370094 -452.20798666\n",
      " -437.92227237 -423.63655809 -409.3508438  -395.06512952 -380.77941523]\n"
     ]
    }
   ],
   "source": [
    "ind1 = 300\n",
    "ind2 = 400\n",
    "fine_grain = 15\n",
    "print(weights[ind1, 5], weights[ind2, 5])\n",
    "range_val = 100.\n",
    "vary_w1 = np.linspace(weights[ind1, 5]- range_val, weights[ind1, 5]+range_val, fine_grain)\n",
    "vary_w2 = np.linspace(weights[ind2, 5]- range_val, weights[ind2, 5]+range_val, fine_grain)\n",
    "print(vary_w1, vary_w2)"
   ]
  },
  {
   "cell_type": "code",
   "execution_count": 73,
   "metadata": {
    "collapsed": false,
    "scrolled": true
   },
   "outputs": [
    {
     "name": "stderr",
     "output_type": "stream",
     "text": [
      "/home/naireen/anaconda2/envs/CSC401/lib/python3.6/site-packages/ipykernel/__main__.py:7: RuntimeWarning: divide by zero encountered in log\n",
      "/home/naireen/anaconda2/envs/CSC401/lib/python3.6/site-packages/ipykernel/__main__.py:7: RuntimeWarning: invalid value encountered in multiply\n"
     ]
    },
    {
     "name": "stdout",
     "output_type": "stream",
     "text": [
      "9\n"
     ]
    }
   ],
   "source": [
    "start = time.time()\n",
    "contour = np.zeros((fine_grain, fine_grain))\n",
    "for i in range(fine_grain):\n",
    "    for j in range(fine_grain):\n",
    "        weights[300, 5] = vary_w1[i]\n",
    "        weights[400, 5] = vary_w2[j]\n",
    "        output2 = part2(x, weights, weights_bias)\n",
    "        cost2 = cost_function(y, output2)     \n",
    "        contour[i, j] = cost2\n",
    "    if (i%10 ==9):\n",
    "        print(i)\n",
    "end = time.time()\n",
    "print(\"Time taken: {0}\".format(end - start))"
   ]
  },
  {
   "cell_type": "code",
   "execution_count": 81,
   "metadata": {
    "collapsed": true
   },
   "outputs": [],
   "source": [
    "def df(x, W0, y):\n",
    "    # this W0 is assumed to have the bias incorperated into it\n",
    "    #print(W0.shape, y.shape)\n",
    "    W1, b0 = W0[:-1, :].reshape(784, W0.shape[1]), W0[-1, :].reshape(1, 10)\n",
    "    vals = part2(x, W1, b0)\n",
    "    return part3(x, y, vals)"
   ]
  },
  {
   "cell_type": "code",
   "execution_count": 74,
   "metadata": {
    "collapsed": false
   },
   "outputs": [
    {
     "data": {
      "image/png": "[encoded data removed]",
      "text/plain": [
       "<matplotlib.figure.Figure at 0x7fc273bb1710>"
      ]
     },
     "metadata": {},
     "output_type": "display_data"
    }
   ],
   "source": [
    "plt.contour(vary_w1, vary_w2, contour)\n",
    "plt.show()"
   ]
  },
  {
   "cell_type": "code",
   "execution_count": 80,
   "metadata": {
    "collapsed": false
   },
   "outputs": [
    {
     "data": {
      "image/png": "[encoded data removed]",
      "text/plain": [
       "<matplotlib.figure.Figure at 0x7fc2739db160>"
      ]
     },
     "metadata": {},
     "output_type": "display_data"
    }
   ],
   "source": [
    "#print(contour)\n",
    "plt.imshow(contour, cmap = \"viridis_r\")\n",
    "plt.show()"
   ]
  },
  {
   "cell_type": "code",
   "execution_count": null,
   "metadata": {
    "collapsed": true
   },
   "outputs": [],
   "source": [
    "#use vanilla gradient descent"
   ]
  },
  {
   "cell_type": "code",
   "execution_count": null,
   "metadata": {
    "collapsed": true
   },
   "outputs": [],
   "source": []
  }
 ],
 "metadata": {
  "anaconda-cloud": {},
  "kernelspec": {
   "display_name": "Python [conda env:CSC401]",
   "language": "python",
   "name": "conda-env-CSC401-py"
  },
  "language_info": {
   "codemirror_mode": {
    "name": "ipython",
    "version": 3
   },
   "file_extension": ".py",
   "mimetype": "text/x-python",
   "name": "python",
   "nbconvert_exporter": "python",
   "pygments_lexer": "ipython3",
   "version": "3.6.3"
  }
 },
 "nbformat": 4,
 "nbformat_minor": 1
}
