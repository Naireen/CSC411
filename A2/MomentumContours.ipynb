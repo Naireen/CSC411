{
 "cells": [
  {
   "cell_type": "code",
   "execution_count": 1,
   "metadata": {
    "collapsed": true
   },
   "outputs": [],
   "source": [
    "from pylab import *\n",
    "import numpy as np\n",
    "import matplotlib.pyplot as plt\n",
    "import matplotlib.cbook as cbook\n",
    "import time\n",
    "from scipy.misc import imread\n",
    "from scipy.misc import imresize\n",
    "import matplotlib.image as mpimg\n",
    "from scipy.ndimage import filters\n",
    "import urllib\n",
    "from numpy import random\n",
    "import sys\n",
    "import pickle\n",
    "import os\n",
    "from scipy.io import loadmat\n",
    "# Load the MNIST digit data\n",
    "M = loadmat(\"mnist_all.mat\")"
   ]
  },
  {
   "cell_type": "code",
   "execution_count": 2,
   "metadata": {
    "collapsed": true
   },
   "outputs": [],
   "source": [
    "def softmax(y):\n",
    "    '''Return the output of the softmax function for the matrix of output y. y\n",
    "    is an NxM matrix where N is the number of outputs for a single case, and M\n",
    "    is the number of cases'''\n",
    "    return exp(y) / tile(sum(exp(y), 0), (len(y), 1))"
   ]
  },
  {
   "cell_type": "code",
   "execution_count": 3,
   "metadata": {
    "collapsed": true
   },
   "outputs": [],
   "source": [
    "def tanh_layer(y, W, b):\n",
    "    '''Return the output of a tanh layer for the input matrix y. y\n",
    "    is an NxM matrix where N is the number of inputs for a single case, and M\n",
    "    is the number of cases'''\n",
    "    return tanh(dot(W.T, y) + b)"
   ]
  },
  {
   "cell_type": "code",
   "execution_count": 4,
   "metadata": {
    "collapsed": true
   },
   "outputs": [],
   "source": [
    "def forward(x, W0, b0, W1, b1):\n",
    "    L0 = tanh_layer(x, W0, b0)\n",
    "    L1 = dot(W1.T, L0) + b1\n",
    "    output = softmax(L1)\n",
    "    return L0, L1, output"
   ]
  },
  {
   "cell_type": "code",
   "execution_count": 5,
   "metadata": {
    "collapsed": true
   },
   "outputs": [],
   "source": [
    "def cost_function(y, p):\n",
    "    return -np.sum(y * np.log(p))"
   ]
  },
  {
   "cell_type": "code",
   "execution_count": 6,
   "metadata": {
    "collapsed": false
   },
   "outputs": [],
   "source": [
    "def get_data(M):\n",
    "    train_keys = [key for key in M.keys() if \"train\" in key]\n",
    "    data_length = 0\n",
    "    for train_k in train_keys:\n",
    "        data_length += M[train_k].shape[0]\n",
    "\n",
    "    # concatenate all the data\n",
    "    train_data = np.zeros((data_length, 784))\n",
    "    data_counter = 0\n",
    "    data_size = 0\n",
    "\n",
    "    train_y = np.zeros((data_length, 10))\n",
    "    for i, train_k in enumerate(train_keys):\n",
    "        data_size = M[train_k].shape[0]\n",
    "        #print(i, data_size)\n",
    "        train_data[data_counter: data_counter + data_size, :] = M[train_k]\n",
    "        train_y[data_counter: data_counter + data_size, i] = 1\n",
    "        data_counter += data_size\n",
    "    return train_data, train_y\n",
    "\n",
    "#plot learning curves\n",
    "#collect testing data\n",
    "def get_test_data(M):\n",
    "    train_keys = [key for key in M.keys() if \"test\" in key]\n",
    "    data_length = 0\n",
    "    for train_k in train_keys:\n",
    "        data_length += M[train_k].shape[0]\n",
    "\n",
    "    # concatenate all the data\n",
    "    train_data = np.zeros((data_length, 784))\n",
    "    print(data_length)\n",
    "    data_counter = 0\n",
    "    data_size = 0\n",
    "\n",
    "    train_y = np.zeros((data_length, 10))\n",
    "    for i, train_k in enumerate(train_keys):\n",
    "        data_size = M[train_k].shape[0]\n",
    "        #print(i, data_size)\n",
    "        train_data[data_counter: data_counter + data_size, :] = M[train_k]\n",
    "        train_y[data_counter: data_counter + data_size, i] = 1\n",
    "        data_counter += data_size\n",
    "    return train_data, train_y"
   ]
  },
  {
   "cell_type": "code",
   "execution_count": 7,
   "metadata": {
    "collapsed": true
   },
   "outputs": [],
   "source": [
    "def part2(x, W0, b0):\n",
    "    total_W0 = np.concatenate((b0, W0))\n",
    "    added_ones = np.ones(x.shape[1]).reshape(x.shape[1], 1)\n",
    "    total_x = np.concatenate((added_ones.T, x))\n",
    "    vals = softmax(np.dot(total_W0.T, total_x))\n",
    "    return vals.T\n",
    "\n",
    "def part3(x, y1, p):\n",
    "    deriv = np.subtract(p, y1)\n",
    "    added_ones = np.ones(x.shape[1]).reshape(x.shape[1], 1)\n",
    "    total_x = np.concatenate((added_ones.T, x))\n",
    "    deriv = np.matmul(deriv.T, total_x.T).T\n",
    "    return deriv  # shape 10, 785"
   ]
  },
  {
   "cell_type": "code",
   "execution_count": 8,
   "metadata": {
    "collapsed": true
   },
   "outputs": [],
   "source": [
    "def df(x, W0, y):\n",
    "    # this W0 is assumed to have the bias incorperated into it\n",
    "    #print(W0.shape, y.shape)\n",
    "    W1, b0 = W0[:-1, :].reshape(784, W0.shape[1]), W0[-1, :].reshape(1, 10)\n",
    "    vals = part2(x, W1, b0)\n",
    "    return part3(x, y, vals)"
   ]
  },
  {
   "cell_type": "code",
   "execution_count": 9,
   "metadata": {
    "collapsed": false
   },
   "outputs": [],
   "source": [
    "# PART ONE DATA SNIPPIT\n",
    "# Load sample weights for the multilayer neural network\n",
    "snapshot = pickle.load(open(\"snapshot50.pkl\", \"rb\"), encoding=\"latin-1\")\n",
    "W0 = snapshot[\"W0\"]  # data\n",
    "b0 = snapshot[\"b0\"].reshape((300, 1))  # bias?\n",
    "W1 = snapshot[\"W1\"]  # should be likelihoods?\n",
    "b1 = snapshot[\"b1\"].reshape((10, 1))  # classes?\n",
    "#print(W0.shape)\n",
    "\n",
    "np.random.seed(0)\n",
    "weights = np.random.random(size=784*10).reshape((784, 10))/10.\n",
    "weights_bias = np.zeros(10).reshape(1, 10)\n",
    "#np.random.random(size=10).reshape((1, 10))\n",
    "\n"
   ]
  },
  {
   "cell_type": "code",
   "execution_count": 11,
   "metadata": {
    "collapsed": false
   },
   "outputs": [],
   "source": [
    "def momemtum_grad_descent_learning_curves(df, x, y, W0, b0, alpha, testX, testY, momemtum = 0.9, EPS=1e-7):\n",
    "    # EPS = 1e-5   #EPS = 10**(-5)\n",
    "    start = time.time()\n",
    "    total_W0 = np.concatenate((b0, W0))\n",
    "    prev_totalW0 = total_W0 - 10 * EPS\n",
    "    W1 = total_W0.copy()\n",
    "    # inital weights, pass in both bias and weights together for now\n",
    "    max_iter = 6500\n",
    "    iter = 0\n",
    "    performance_test = np.zeros(max_iter//100) #check performance every 100 iterations\n",
    "    performance_train = np.zeros_like(performance_test)\n",
    "\n",
    "    added_ones = np.ones((testX.shape[1], 1))\n",
    "    totaltestX = np.concatenate((testX.T,added_ones), axis=1)\n",
    "    \n",
    "    added_ones = np.ones((x.shape[1], 1))\n",
    "    totaltrainX = np.concatenate((x.T, added_ones), axis = 1)\n",
    "    \n",
    "    counter = 0\n",
    "    new_momentum = 1\n",
    "    while norm(W1 - prev_totalW0) > EPS and iter < max_iter:\n",
    "        prev_totalW0 = W1.copy()\n",
    "        new_momentum = momemtum*new_momentum + df(x, W1, y)\n",
    "        W1 -= new_momentum\n",
    "        if iter % 100 == 99:\n",
    "            print(\"Iter\", iter)\n",
    "            preds = np.matmul(totaltrainX, W1)\n",
    "            preds_max =  preds.max(axis = 1)\n",
    "            final_preds = np.isin(preds, preds_max).astype(int)\n",
    "            #how many of the hot keys match for validation\n",
    "            performance_train[counter] =  len(np.where((trainY == final_preds).all(axis =1)==True)[0])/60000.\n",
    "            \n",
    "            preds = np.matmul(totaltestX, W1)\n",
    "            preds_max =  preds.max(axis = 1)\n",
    "            final_preds = np.isin(preds, preds_max).astype(int)\n",
    "            #how many of the hot keys match for validation\n",
    "            performance_test[counter] = len(np.where((testY == final_preds).all(axis =1)==True)[0])  /10000.\n",
    "            \n",
    "            #counter +=1\n",
    "            print(performance_train[counter], performance_test[counter])\n",
    "            counter +=1\n",
    "        iter += 1\n",
    "        \n",
    "    print(\"Iter\", iter)\n",
    "    end = time.time()\n",
    "    print(\"Time taken:\", (end - start))\n",
    "    return W1, performance_train, performance_test\n",
    "\n",
    "\n",
    "def part5(data, W0, b0, y, testX, testY):\n",
    "    np.random.seed(0)\n",
    "    alpha = 0.01\n",
    "    final_weights, momt_train, momt_test = momemtum_grad_descent_learning_curves(df, data, y, W0, b0, alpha, testX, testY, 0.9,EPS=1e-4)\n",
    "    return final_weights, momt_train, momt_test\n"
   ]
  },
  {
   "cell_type": "code",
   "execution_count": 15,
   "metadata": {
    "collapsed": false
   },
   "outputs": [
    {
     "name": "stdout",
     "output_type": "stream",
     "text": [
      "(array([], dtype=int64), array([], dtype=int64))\n",
      "TrainX (784, 60000)\n",
      "10000\n",
      "TestX (784, 10000)\n"
     ]
    }
   ],
   "source": [
    "##PART FOUR##\n",
    "trainX, trainY = get_data(M)\n",
    "print(np.where(trainX==np.nan))\n",
    "trainX = trainX.T/255. /255.\n",
    "print(\"TrainX\", trainX.shape)\n",
    "\n",
    "testX, testY = get_test_data(M)\n",
    "testX = np.nan_to_num(testX)\n",
    "testX = testX.T/255./255.\n",
    "print(\"TestX\", testX.shape)\n",
    "\n",
    "#final_weights = part5(trainX, weights, weights_bias, trainY, testX, testY)"
   ]
  },
  {
   "cell_type": "markdown",
   "metadata": {
    "collapsed": true
   },
   "source": [
    "Plot the learning curves with these set of parameters every 400 iterations, see how the performance changes"
   ]
  },
  {
   "cell_type": "code",
   "execution_count": 16,
   "metadata": {
    "collapsed": false
   },
   "outputs": [
    {
     "name": "stdout",
     "output_type": "stream",
     "text": [
      "Iter 99\n",
      "0.892483333333 0.8926\n",
      "Iter 199\n",
      "0.90175 0.9034\n",
      "Iter 299\n",
      "0.900216666667 0.8988\n",
      "Iter 399\n",
      "0.894283333333 0.8906\n",
      "Iter 499\n",
      "0.88865 0.8923\n",
      "Iter 599\n",
      "0.880716666667 0.8848\n",
      "Iter 699\n",
      "0.875983333333 0.8795\n",
      "Iter 799\n",
      "0.871683333333 0.8776\n",
      "Iter 899\n",
      "0.868633333333 0.8733\n",
      "Iter 999\n",
      "0.868033333333 0.8722\n",
      "Iter 1099\n",
      "0.867766666667 0.8713\n",
      "Iter 1199\n",
      "0.867316666667 0.8697\n",
      "Iter 1299\n",
      "0.866316666667 0.8683\n",
      "Iter 1399\n",
      "0.866633333333 0.8666\n",
      "Iter 1499\n",
      "0.8666 0.8657\n",
      "Iter 1599\n",
      "0.866166666667 0.8612\n",
      "Iter 1699\n",
      "0.86485 0.8632\n",
      "Iter 1799\n",
      "0.86455 0.8604\n",
      "Iter 1899\n",
      "0.86425 0.8605\n",
      "Iter 1999\n",
      "0.86375 0.8602\n",
      "Iter 2099\n",
      "0.8635 0.8589\n",
      "Iter 2199\n",
      "0.863983333333 0.8595\n",
      "Iter 2299\n",
      "0.864483333333 0.856\n",
      "Iter 2399\n",
      "0.864533333333 0.8577\n",
      "Iter 2499\n",
      "0.863783333333 0.8578\n",
      "Iter 2599\n",
      "0.862933333333 0.8589\n",
      "Iter 2699\n",
      "0.862733333333 0.8588\n",
      "Iter 2799\n",
      "0.862366666667 0.8604\n",
      "Iter 2899\n",
      "0.862416666667 0.86\n",
      "Iter 2999\n",
      "0.862283333333 0.8604\n",
      "Iter 3099\n",
      "0.862616666667 0.862\n",
      "Iter 3199\n",
      "0.862233333333 0.8618\n",
      "Iter 3299\n",
      "0.861983333333 0.8622\n",
      "Iter 3399\n",
      "0.86175 0.8625\n",
      "Iter 3499\n",
      "0.861533333333 0.8635\n",
      "Iter 3599\n",
      "0.861483333333 0.8637\n",
      "Iter 3699\n",
      "0.861216666667 0.8641\n",
      "Iter 3799\n",
      "0.860716666667 0.8645\n",
      "Iter 3899\n",
      "0.860733333333 0.8641\n",
      "Iter 3999\n",
      "0.860666666667 0.8634\n",
      "Iter 4099\n",
      "0.860283333333 0.8627\n",
      "Iter 4199\n",
      "0.859233333333 0.8621\n",
      "Iter 4299\n",
      "0.8595 0.8629\n",
      "Iter 4399\n",
      "0.859116666667 0.8623\n",
      "Iter 4499\n",
      "0.858733333333 0.8618\n",
      "Iter 4599\n",
      "0.858433333333 0.8622\n",
      "Iter 4699\n",
      "0.85855 0.8608\n",
      "Iter 4799\n",
      "0.858366666667 0.8609\n",
      "Iter 4899\n",
      "0.8584 0.8593\n",
      "Iter 4999\n",
      "0.8585 0.8584\n",
      "Iter 5099\n",
      "0.85865 0.8595\n",
      "Iter 5199\n",
      "0.858633333333 0.8602\n",
      "Iter 5299\n",
      "0.8587 0.8596\n",
      "Iter 5399\n",
      "0.858733333333 0.8595\n",
      "Iter 5499\n",
      "0.85905 0.8592\n",
      "Iter 5599\n",
      "0.859116666667 0.8592\n",
      "Iter 5699\n",
      "0.858916666667 0.8586\n",
      "Iter 5799\n",
      "0.858583333333 0.8582\n",
      "Iter 5899\n",
      "0.858716666667 0.8591\n",
      "Iter 5999\n",
      "0.858433333333 0.8573\n",
      "Iter 6099\n",
      "0.858666666667 0.8572\n",
      "Iter 6199\n",
      "0.858316666667 0.8575\n",
      "Iter 6299\n",
      "0.858833333333 0.858\n",
      "Iter 6399\n",
      "0.858683333333 0.8575\n",
      "Iter 6499\n",
      "0.858666666667 0.8575\n",
      "Iter 6500\n",
      "Time taken: 3308.2582285404205\n"
     ]
    }
   ],
   "source": [
    "final_weights, performance_train, performance_test = part5(trainX, weights, weights_bias, trainY, testX, testY)"
   ]
  },
  {
   "cell_type": "code",
   "execution_count": 17,
   "metadata": {
    "collapsed": false
   },
   "outputs": [
    {
     "data": {
      "text/plain": [
       "(array([ 0.89248333,  0.90175   ,  0.90021667,  0.89428333,  0.88865   ,\n",
       "         0.88071667,  0.87598333,  0.87168333,  0.86863333,  0.86803333,\n",
       "         0.86776667,  0.86731667,  0.86631667,  0.86663333,  0.8666    ,\n",
       "         0.86616667,  0.86485   ,  0.86455   ,  0.86425   ,  0.86375   ,\n",
       "         0.8635    ,  0.86398333,  0.86448333,  0.86453333,  0.86378333,\n",
       "         0.86293333,  0.86273333,  0.86236667,  0.86241667,  0.86228333,\n",
       "         0.86261667,  0.86223333,  0.86198333,  0.86175   ,  0.86153333,\n",
       "         0.86148333,  0.86121667,  0.86071667,  0.86073333,  0.86066667,\n",
       "         0.86028333,  0.85923333,  0.8595    ,  0.85911667,  0.85873333,\n",
       "         0.85843333,  0.85855   ,  0.85836667,  0.8584    ,  0.8585    ,\n",
       "         0.85865   ,  0.85863333,  0.8587    ,  0.85873333,  0.85905   ,\n",
       "         0.85911667,  0.85891667,  0.85858333,  0.85871667,  0.85843333,\n",
       "         0.85866667,  0.85831667,  0.85883333,  0.85868333,  0.85866667]),\n",
       " array([ 0.8926,  0.9034,  0.8988,  0.8906,  0.8923,  0.8848,  0.8795,\n",
       "         0.8776,  0.8733,  0.8722,  0.8713,  0.8697,  0.8683,  0.8666,\n",
       "         0.8657,  0.8612,  0.8632,  0.8604,  0.8605,  0.8602,  0.8589,\n",
       "         0.8595,  0.856 ,  0.8577,  0.8578,  0.8589,  0.8588,  0.8604,\n",
       "         0.86  ,  0.8604,  0.862 ,  0.8618,  0.8622,  0.8625,  0.8635,\n",
       "         0.8637,  0.8641,  0.8645,  0.8641,  0.8634,  0.8627,  0.8621,\n",
       "         0.8629,  0.8623,  0.8618,  0.8622,  0.8608,  0.8609,  0.8593,\n",
       "         0.8584,  0.8595,  0.8602,  0.8596,  0.8595,  0.8592,  0.8592,\n",
       "         0.8586,  0.8582,  0.8591,  0.8573,  0.8572,  0.8575,  0.858 ,\n",
       "         0.8575,  0.8575]))"
      ]
     },
     "execution_count": 17,
     "metadata": {},
     "output_type": "execute_result"
    }
   ],
   "source": [
    "performance_train, performance_test"
   ]
  },
  {
   "cell_type": "code",
   "execution_count": 22,
   "metadata": {
    "collapsed": false
   },
   "outputs": [
    {
     "data": {
      "image/png": "[encoded data removed]",
      "text/plain": [
       "<matplotlib.figure.Figure at 0x7fc6a72df6d8>"
      ]
     },
     "metadata": {},
     "output_type": "display_data"
    }
   ],
   "source": [
    "iterations = (np.arange(6500//100) +1)*100\n",
    "plt.plot(iterations, performance_train, label= \"Training scores\")\n",
    "plt.plot(iterations, performance_test, label = \"Testing scores\")\n",
    "plt.title(\"Performance with Gradient Descent with Momentum\")\n",
    "plt.xlabel(\"Number of epochs\")\n",
    "plt.ylim([0.75, 0.92])\n",
    "plt.show()"
   ]
  },
  {
   "cell_type": "code",
   "execution_count": 23,
   "metadata": {
    "collapsed": true
   },
   "outputs": [],
   "source": [
    "#save weights so they can be used again without rerunningn every thing\n",
    "np.savetxt(\"final_weightspart5.txt\", final_weights)"
   ]
  },
  {
   "cell_type": "code",
   "execution_count": null,
   "metadata": {
    "collapsed": true
   },
   "outputs": [],
   "source": []
  },
  {
   "cell_type": "code",
   "execution_count": 94,
   "metadata": {
    "collapsed": false
   },
   "outputs": [
    {
     "data": {
      "text/plain": [
       "(array([ 0.74053333,  0.77355   ,  0.79148333,  0.80391667,  0.81326667,\n",
       "         0.82061667,  0.82678333,  0.83255   ,  0.83705   ,  0.84065   ,\n",
       "         0.84363333,  0.84698333,  0.84946667,  0.8518    ,  0.85411667,\n",
       "         0.85611667,  0.85798333,  0.85996667,  0.86153333,  0.86305   ,\n",
       "         0.86405   ,  0.86535   ,  0.86645   ,  0.86745   ,  0.86836667,\n",
       "         0.8692    ,  0.87003333,  0.87096667,  0.87171667,  0.8725    ,\n",
       "         0.87335   ,  0.87423333,  0.87513333,  0.87593333,  0.87665   ,\n",
       "         0.87718333,  0.87761667,  0.87818333,  0.87875   ,  0.87938333,\n",
       "         0.8799    ,  0.88076667,  0.88121667,  0.88163333,  0.88213333,\n",
       "         0.88275   ,  0.88301667,  0.88343333,  0.88376667,  0.88423333,\n",
       "         0.8846    ,  0.88503333,  0.88525   ,  0.88556667,  0.886     ,\n",
       "         0.88623333,  0.88663333,  0.88693333,  0.8873    ,  0.88751667,\n",
       "         0.88783333,  0.88831667,  0.88861667,  0.88883333,  0.88906667,  0.        ]),\n",
       " array([ 0.7402,  0.7791,  0.7968,  0.8101,  0.8213,  0.8286,  0.8339,\n",
       "         0.8398,  0.8438,  0.8465,  0.8506,  0.8543,  0.857 ,  0.8589,\n",
       "         0.8609,  0.8622,  0.865 ,  0.8669,  0.8679,  0.8699,  0.8706,\n",
       "         0.8712,  0.8729,  0.8738,  0.8746,  0.8753,  0.8764,  0.8771,\n",
       "         0.8781,  0.8794,  0.8804,  0.8815,  0.8821,  0.8822,  0.883 ,\n",
       "         0.8835,  0.884 ,  0.8846,  0.8849,  0.8849,  0.8853,  0.8859,\n",
       "         0.8864,  0.8872,  0.8879,  0.8881,  0.8888,  0.8891,  0.89  ,\n",
       "         0.8907,  0.891 ,  0.8911,  0.8913,  0.8915,  0.8919,  0.8923,\n",
       "         0.8927,  0.893 ,  0.8933,  0.8933,  0.8935,  0.8936,  0.894 ,\n",
       "         0.8945,  0.8948,  0.    ]))"
      ]
     },
     "execution_count": 94,
     "metadata": {},
     "output_type": "execute_result"
    }
   ],
   "source": [
    "performance_train, performance_test"
   ]
  },
  {
   "cell_type": "code",
   "execution_count": 95,
   "metadata": {
    "collapsed": false
   },
   "outputs": [
    {
     "data": {
      "text/plain": [
       "array([   0,  100,  200,  300,  400,  500,  600,  700,  800,  900, 1000,\n",
       "       1100, 1200, 1300, 1400, 1500, 1600, 1700, 1800, 1900, 2000, 2100,\n",
       "       2200, 2300, 2400, 2500, 2600, 2700, 2800, 2900, 3000, 3100, 3200,\n",
       "       3300, 3400, 3500, 3600, 3700, 3800, 3900, 4000, 4100, 4200, 4300,\n",
       "       4400, 4500, 4600, 4700, 4800, 4900, 5000, 5100, 5200, 5300, 5400,\n",
       "       5500, 5600, 5700, 5800, 5900, 6000, 6100, 6200, 6300, 6400])"
      ]
     },
     "execution_count": 95,
     "metadata": {},
     "output_type": "execute_result"
    }
   ],
   "source": [
    "iterations =  np.arange(6500//100 )*100\n",
    "iterations"
   ]
  },
  {
   "cell_type": "code",
   "execution_count": 96,
   "metadata": {
    "collapsed": false
   },
   "outputs": [
    {
     "data": {
      "image/png": "[encoded data removed]",
      "text/plain": [
       "<matplotlib.figure.Figure at 0x7f6f81488668>"
      ]
     },
     "metadata": {},
     "output_type": "display_data"
    }
   ],
   "source": [
    "plt.plot(iterations, performance_train[:-1], label = \"training_scores\")\n",
    "plt.plot(iterations, performance_test[:-1], label = \"testing_scores\")\n",
    "plt.xlabel(\"Iterations of Gradient Descent\")\n",
    "plt.legend()\n",
    "plt.show()"
   ]
  },
  {
   "cell_type": "code",
   "execution_count": null,
   "metadata": {
    "collapsed": true
   },
   "outputs": [],
   "source": [
    "#part 5, gradient descent with momentum"
   ]
  }
 ],
 "metadata": {
  "anaconda-cloud": {},
  "kernelspec": {
   "display_name": "Python [conda env:CSC401]",
   "language": "python",
   "name": "conda-env-CSC401-py"
  },
  "language_info": {
   "codemirror_mode": {
    "name": "ipython",
    "version": 3
   },
   "file_extension": ".py",
   "mimetype": "text/x-python",
   "name": "python",
   "nbconvert_exporter": "python",
   "pygments_lexer": "ipython3",
   "version": "3.6.3"
  }
 },
 "nbformat": 4,
 "nbformat_minor": 1
}
