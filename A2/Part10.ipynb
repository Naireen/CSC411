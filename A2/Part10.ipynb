{
 "cells": [
  {
   "cell_type": "code",
   "execution_count": 2,
   "metadata": {
    "collapsed": true
   },
   "outputs": [],
   "source": [
    "import torch\n",
    "import torchvision.models as models\n",
    "import torchvision\n",
    "from torch.autograd import Variable\n",
    "\n",
    "import numpy as np\n",
    "import  matplotlib.pyplot as plt\n",
    "from scipy.misc import imread, imresize\n",
    "\n",
    "import torch.nn as nn\n",
    "\n",
    "\n",
    "from caffe_classes import class_names"
   ]
  },
  {
   "cell_type": "code",
   "execution_count": 3,
   "metadata": {
    "collapsed": true
   },
   "outputs": [],
   "source": [
    "class MyAlexNet(nn.Module):\n",
    "    def load_weights(self):\n",
    "        an_builtin = torchvision.models.alexnet(pretrained=True)\n",
    "        \n",
    "        features_weight_i = [0, 3, 6, 8, 10]\n",
    "        for i in features_weight_i:\n",
    "            self.features[i].weight = an_builtin.features[i].weight\n",
    "            self.features[i].bias = an_builtin.features[i].bias\n",
    "            \n",
    "        classifier_weight_i = [1, 4, 6]\n",
    "        for i in classifier_weight_i:\n",
    "            self.classifier[i].weight = an_builtin.classifier[i].weight\n",
    "            self.classifier[i].bias = an_builtin.classifier[i].bias\n",
    "\n",
    "    def __init__(self, num_classes=1000):\n",
    "        super(MyAlexNet, self).__init__()\n",
    "        self.features = nn.Sequential(\n",
    "            nn.Conv2d(3, 64, kernel_size=11, stride=4, padding=2),\n",
    "            nn.ReLU(inplace=True),\n",
    "            nn.MaxPool2d(kernel_size=3, stride=2),\n",
    "            nn.Conv2d(64, 192, kernel_size=5, padding=2),\n",
    "            nn.ReLU(inplace=True),\n",
    "            nn.MaxPool2d(kernel_size=3, stride=2),\n",
    "            nn.Conv2d(192, 384, kernel_size=3, padding=1),\n",
    "            nn.ReLU(inplace=True),\n",
    "            nn.Conv2d(384, 256, kernel_size=3, padding=1),\n",
    "            nn.ReLU(inplace=True),\n",
    "            nn.Conv2d(256, 256, kernel_size=3, padding=1),\n",
    "            nn.ReLU(inplace=True),\n",
    "            nn.MaxPool2d(kernel_size=3, stride=2),\n",
    "        )\n",
    "        self.classifier = nn.Sequential(\n",
    "            nn.Dropout(),\n",
    "            nn.Linear(256 * 6 * 6, 4096),\n",
    "            nn.ReLU(inplace=True),\n",
    "            nn.Dropout(),\n",
    "            nn.Linear(4096, 4096),\n",
    "            nn.ReLU(inplace=True),\n",
    "            nn.Linear(4096, num_classes),\n",
    "        )\n",
    "        \n",
    "        self.load_weights()\n",
    "\n",
    "    def forward(self, x):\n",
    "        x = self.features(x)\n",
    "        x = x.view(x.size(0), 256 * 6 * 6)\n",
    "        x = self.classifier(x)\n",
    "        return x"
   ]
  },
  {
   "cell_type": "code",
   "execution_count": null,
   "metadata": {
    "collapsed": true
   },
   "outputs": [],
   "source": [
    "# model_orig = torchvision.models.alexnet(pretrained=True)\n",
    "model = MyAlexNet()\n",
    "model.eval()"
   ]
  },
  {
   "cell_type": "code",
   "execution_count": 5,
   "metadata": {
    "collapsed": false
   },
   "outputs": [
    {
     "name": "stderr",
     "output_type": "stream",
     "text": [
      "/home/naireen/anaconda2/envs/CSC401/lib/python3.6/site-packages/ipykernel/__main__.py:10: UserWarning: Implicit dimension choice for softmax has been deprecated. Change the call to include dim=X as an argument.\n"
     ]
    },
    {
     "name": "stdout",
     "output_type": "stream",
     "text": [
      "Answer: weasel , Prob: 0.978605\n",
      "Answer: mink , Prob: 0.0153751\n",
      "Answer: polecat, fitch, foulmart, foumart, Mustela putorius , Prob: 0.00367617\n",
      "Answer: black-footed ferret, ferret, Mustela nigripes , Prob: 0.00124657\n",
      "Answer: hare , Prob: 0.000250852\n",
      "Top Answer: weasel P(ans) =  0.978605\n"
     ]
    },
    {
     "name": "stderr",
     "output_type": "stream",
     "text": [
      "/home/naireen/anaconda2/envs/CSC401/lib/python3.6/site-packages/ipykernel/__main__.py:18: UserWarning: Implicit dimension choice for softmax has been deprecated. Change the call to include dim=X as an argument.\n"
     ]
    }
   ],
   "source": [
    "im = imread('laska.png')[:,:,:3]\n",
    "im = im - np.mean(im.flatten())\n",
    "im = im/np.max(np.abs(im.flatten()))\n",
    "\n",
    "im = np.rollaxis(im, -1).astype(np.float32)\n",
    "\n",
    "im_v = Variable(torch.from_numpy(im).unsqueeze_(0), requires_grad=False)    \n",
    "softmax = torch.nn.Softmax()\n",
    "\n",
    "all_probs = softmax(model.forward(im_v)).data.numpy()[0]\n",
    "sorted_ans = np.argsort(all_probs)\n",
    "\n",
    "for i in range(-1, -6, -1):\n",
    "    print(\"Answer:\", class_names[sorted_ans[i]], \", Prob:\", all_probs[sorted_ans[i]])\n",
    "\n",
    "\n",
    "ans = np.argmax(model.forward(im_v).data.numpy())\n",
    "prob_ans = softmax(model.forward(im_v)).data.numpy()[0][ans]\n",
    "print(\"Top Answer:\", class_names[ans], \"P(ans) = \", prob_ans)"
   ]
  },
  {
   "cell_type": "code",
   "execution_count": null,
   "metadata": {
    "collapsed": true
   },
   "outputs": [],
   "source": []
  }
 ],
 "metadata": {
  "kernelspec": {
   "display_name": "Python [conda env:CSC401]",
   "language": "python",
   "name": "conda-env-CSC401-py"
  },
  "language_info": {
   "codemirror_mode": {
    "name": "ipython",
    "version": 3
   },
   "file_extension": ".py",
   "mimetype": "text/x-python",
   "name": "python",
   "nbconvert_exporter": "python",
   "pygments_lexer": "ipython3",
   "version": "3.6.3"
  }
 },
 "nbformat": 4,
 "nbformat_minor": 1
}
