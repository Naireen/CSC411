{
 "cells": [
  {
   "cell_type": "code",
   "execution_count": 4,
   "metadata": {
    "collapsed": true
   },
   "outputs": [],
   "source": [
    "import numpy as np\n",
    "import matplotlib\n",
    "from matplotlib import pyplot as plt\n",
    "from numpy.linalg import norm\n",
    "import matplotlib.image as mpimg\n",
    "import os"
   ]
  },
  {
   "cell_type": "markdown",
   "metadata": {},
   "source": [
    "distinguish Alec from Steve\n",
    "0 = Alec\n",
    "1 = Steve"
   ]
  },
  {
   "cell_type": "code",
   "execution_count": 5,
   "metadata": {
    "collapsed": true
   },
   "outputs": [],
   "source": [
    "def grad_descent(f, df, x, y, init_t, alpha, EPS=1e-4):\n",
    "    EPS = 1e-4   #EPS = 10**(-5)\n",
    "    prev_t = init_t-10*EPS\n",
    "    t = init_t.copy()\n",
    "    max_iter = 30000\n",
    "    iter  = 0\n",
    "    while norm(t - prev_t) >  EPS and iter < max_iter:\n",
    "        prev_t = t.copy()\n",
    "        t -= alpha*df(x, y, t)\n",
    "        #if iter % 500 == 0:\n",
    "        #    print \"Iter\", iter\n",
    "        iter += 1\n",
    "    print \"Iter\", iter\n",
    "    return t\n"
   ]
  },
  {
   "cell_type": "code",
   "execution_count": 6,
   "metadata": {
    "collapsed": false
   },
   "outputs": [],
   "source": [
    "#load and train data\n",
    "train_data = np.loadtxt(\"train_data.txt\")\n",
    "valid_data = np.loadtxt(\"valid_data.txt\")\n",
    "train_y = np.loadtxt(\"train_y.txt\")\n",
    "valid_y = np.loadtxt(\"valid_y.txt\")\n",
    "test_y = np.loadtxt(\"test_y.txt\")\n",
    "train_data = train_data/256.\n",
    "valid_data = valid_data/256."
   ]
  },
  {
   "cell_type": "code",
   "execution_count": 7,
   "metadata": {
    "collapsed": true
   },
   "outputs": [],
   "source": [
    "#assume here that x is already flattened\n",
    "def f(x, y, theta):\n",
    "    bias = np.ones( (1, x.shape[0])).T\n",
    "    x = np.vstack( (bias.T, x.T))\n",
    "    return np.sum((y - np.dot(theta.T, x))**2)\n",
    "    \n",
    "def df(x, y, theta):\n",
    "    bias = np.ones( (1, x.shape[0])).T\n",
    "    x = np.vstack( (bias.T, x.T))\n",
    "    return -2*np.sum((y-np.dot(theta.T, x))*x, 1)"
   ]
  },
  {
   "cell_type": "code",
   "execution_count": 8,
   "metadata": {
    "collapsed": false
   },
   "outputs": [
    {
     "name": "stdout",
     "output_type": "stream",
     "text": [
      "111854.38020154834\n",
      "111854.35820852219\n"
     ]
    }
   ],
   "source": [
    "#make sure that the gradient descent functino works through finite differencess\n",
    "h = 0.0001\n",
    "np.random.seed(0)\n",
    "theta = np.random.random(32* 32 +1)\n",
    "\n",
    "test_theta_h =  theta.copy() \n",
    "test_theta_h[0] += h\n",
    "print ((f(train_data, train_y, test_theta_h ) - f(train_data, train_y, theta))/(h))\n",
    "print df(train_data, train_y, theta) [0]"
   ]
  },
  {
   "cell_type": "code",
   "execution_count": 9,
   "metadata": {
    "collapsed": false,
    "scrolled": true
   },
   "outputs": [
    {
     "name": "stdout",
     "output_type": "stream",
     "text": [
      "Iter 7230\n"
     ]
    }
   ],
   "source": [
    "np.random.seed(0)\n",
    "#this is used to create the two differentn types of images, uncomment the one that you dont want\n",
    "theta0 = np.random.random((32*32 +1))\n",
    "theta0 = np.zeros_like(theta0)\n",
    "\n",
    "theta = grad_descent(f, df, train_data, train_y, theta0, 0.00001, EPS=1e-4)"
   ]
  },
  {
   "cell_type": "code",
   "execution_count": 19,
   "metadata": {
    "collapsed": false
   },
   "outputs": [
    {
     "name": "stdout",
     "output_type": "stream",
     "text": [
      "[0.39899181 0.29958775 0.24561934 0.67736738 0.26899213 0.5821788\n",
      " 0.57735219 0.48045102 0.51039915 0.43317688]\n"
     ]
    },
    {
     "data": {
      "image/png": "[encoded data removed]",
      "text/plain": [
       "<matplotlib.figure.Figure at 0x7f7dbf70b590>"
      ]
     },
     "metadata": {},
     "output_type": "display_data"
    },
    {
     "name": "stdout",
     "output_type": "stream",
     "text": [
      "13\n"
     ]
    }
   ],
   "source": [
    "#predictions on the validation set, use thetha with each image, and see what answer it gives\n",
    "preds = np.zeros_like(valid_y)\n",
    "valid_data_ones = np.concatenate((np.ones((1, valid_data.shape[0])).T, valid_data), axis = 1)\n",
    "preds = np.dot( valid_data_ones, theta)\n",
    "print preds[:10]\n",
    "plt.hist(preds, color = \"orange\")\n",
    "plt.title(\"Cost Distribution on Validation Predictions\")\n",
    "plt.show()\n",
    "#map preds to binary outputs\n",
    "preds_binary= np.zeros_like(preds)\n",
    "preds_binary[preds<0.5] = 0\n",
    "preds_binary[preds>0.5] = 1\n",
    "print len(np.where(valid_y ==preds_binary)[0])"
   ]
  },
  {
   "cell_type": "code",
   "execution_count": 18,
   "metadata": {
    "collapsed": false
   },
   "outputs": [
    {
     "name": "stdout",
     "output_type": "stream",
     "text": [
      "[ 0.28289115  0.11183247  0.20492276 -0.00654187  0.10977967  0.13322678\n",
      "  0.29099036  0.0232449  -0.00654187  0.28450416]\n",
      "214\n"
     ]
    },
    {
     "data": {
      "image/png": "[encoded data removed]",
      "text/plain": [
       "<matplotlib.figure.Figure at 0x7f7dbf725950>"
      ]
     },
     "metadata": {},
     "output_type": "display_data"
    }
   ],
   "source": [
    "#predictions on the training set, use thetha with each image, and see what answer it gives\n",
    "preds = np.zeros_like(train_y)\n",
    "train_data_ones = np.concatenate((np.ones((1, train_data.shape[0])).T, train_data), axis = 1)\n",
    "preds = np.dot( train_data_ones, theta)\n",
    "print preds[:10]\n",
    "#map preds to binary outputs\n",
    "preds_binary= np.zeros_like(preds)\n",
    "preds_binary[preds<0.5] = 0\n",
    "preds_binary[preds>0.5] = 1\n",
    "print len(np.where(train_y ==preds_binary)[0])\n",
    "plt.hist(preds)\n",
    "plt.title(\"Cost Distribution on Training Predictions\")\n",
    "plt.show()"
   ]
  },
  {
   "cell_type": "code",
   "execution_count": 40,
   "metadata": {
    "collapsed": true
   },
   "outputs": [],
   "source": [
    "#need to scale the data to make sure that it works, wont work if the values are too large\n",
    "#play with the convergence step (3000 when the step is 0.0000001 )\n",
    "#play around with the epsilon value\n",
    "#currently 1e-5, ~ 3000 steps if increased to 1-6, then it goes up to ~30000\n",
    "#decrease to 1e-4, then it drops to less than 105"
   ]
  },
  {
   "cell_type": "code",
   "execution_count": 41,
   "metadata": {
    "collapsed": false
   },
   "outputs": [
    {
     "data": {
      "image/png": "[encoded data removed]",
      "text/plain": [
       "<matplotlib.figure.Figure at 0x7f2aaeadda10>"
      ]
     },
     "metadata": {},
     "output_type": "display_data"
    }
   ],
   "source": [
    "plt.imshow(theta[1:].reshape((32, 32)), cmap=\"RdBu\" )\n",
    "plt.show()"
   ]
  },
  {
   "cell_type": "code",
   "execution_count": 44,
   "metadata": {
    "collapsed": false
   },
   "outputs": [
    {
     "name": "stdout",
     "output_type": "stream",
     "text": [
      "(4, 1024)\n",
      "Iter 621\n"
     ]
    }
   ],
   "source": [
    "# retry with just two pics of each different actors\n",
    "x_2 = np.vstack((train_data[108:110,  :], train_data[110:112, :]))\n",
    "\n",
    "#this is used to create the two differentn types of images, uncomment the one that you dont want\n",
    "#theta0 = np.zeros((32*32 +1))\n",
    "theta0 = np.random.random(32*32 +1)\n",
    "\n",
    "print  x_2.shape\n",
    "theta = grad_descent(f, df, x_2, np.asarray([0,0, 1, 1]), theta0, 0.0001)"
   ]
  },
  {
   "cell_type": "code",
   "execution_count": 45,
   "metadata": {
    "collapsed": false
   },
   "outputs": [
    {
     "data": {
      "image/png": "[encoded data removed]",
      "text/plain": [
       "<matplotlib.figure.Figure at 0x7f2aaea53a90>"
      ]
     },
     "metadata": {},
     "output_type": "display_data"
    }
   ],
   "source": [
    "plt.imshow(theta[1:].reshape(32, 32), cmap = \"RdBu\")\n",
    "plt.show()"
   ]
  },
  {
   "cell_type": "code",
   "execution_count": 46,
   "metadata": {
    "collapsed": false
   },
   "outputs": [
    {
     "name": "stdout",
     "output_type": "stream",
     "text": [
      "Iter 370\n",
      "Iter 183\n",
      "Iter 1\n"
     ]
    },
    {
     "data": {
      "image/png": "[encoded data removed]",
      "text/plain": [
       "<matplotlib.figure.Figure at 0x7f2aae93df50>"
      ]
     },
     "metadata": {},
     "output_type": "display_data"
    }
   ],
   "source": [
    "#repeat creating thw two images with different params\n",
    "fig, axarr = plt.subplots(1,3, sharey=True, figsize = (15, 4.5))\n",
    "eps = [ 1e-4, 1e-5, 1e-6]\n",
    "for i, alpha in enumerate(eps):\n",
    "    #crashes if epsiln is 1e-1 or 1e-2, to big of step sizes\n",
    "    theta0 = np.zeros(32*32 +1)\n",
    "    theta = grad_descent(f, df, x_2, np.asarray([0,0,1,1]), theta0,  alpha)\n",
    "    #plt.figure()\n",
    "    axarr[i].imshow(theta[1:].reshape(32, 32), cmap = \"RdBu\")\n",
    "plt.show()"
   ]
  },
  {
   "cell_type": "markdown",
   "metadata": {},
   "source": [
    "Now do gender classification"
   ]
  },
  {
   "cell_type": "code",
   "execution_count": 19,
   "metadata": {
    "collapsed": true
   },
   "outputs": [],
   "source": [
    "gender_train = np.loadtxt(\"train_data_6.txt\")\n",
    "gender_train_y = np.loadtxt(\"train_y_6.txt\")\n",
    "gender_train = gender_train/256."
   ]
  },
  {
   "cell_type": "code",
   "execution_count": 20,
   "metadata": {
    "collapsed": false,
    "scrolled": true
   },
   "outputs": [
    {
     "name": "stdout",
     "output_type": "stream",
     "text": [
      "(60,)\n"
     ]
    }
   ],
   "source": [
    "valid_data = np.loadtxt(\"valid_data_6.txt\")\n",
    "valid_y = np.loadtxt(\"valid_y_6.txt\")\n",
    "print valid_y.shape\n",
    "valid_data = valid_data/256.\n",
    "#preds = np.zeros_like(valid_y)"
   ]
  },
  {
   "cell_type": "code",
   "execution_count": 21,
   "metadata": {
    "collapsed": true
   },
   "outputs": [],
   "source": [
    "#test how this model does on the toher 6 actors, do ten pictures of each\n",
    "test_data = np.loadtxt(\"new_6_test_data.txt\")\n",
    "test_data = test_data/256.\n",
    "#test_data = np.hstack((np.ones((60, 1)), test_data ))\n",
    "#print test_data.shape\n",
    "test_y = np.concatenate( ( np.ones(30) , np.zeros(30) )  )"
   ]
  },
  {
   "cell_type": "code",
   "execution_count": 22,
   "metadata": {
    "collapsed": false,
    "scrolled": true
   },
   "outputs": [
    {
     "name": "stdout",
     "output_type": "stream",
     "text": [
      "Iter 3982\n",
      "how many are correct in training? 0.818181818182\n",
      "how many are correct in validataion? 0.733333333333\n",
      "how many are correct in Testing? 0.75\n",
      "Iter 3982\n",
      "how many are correct in training? 0.831818181818\n",
      "how many are correct in validataion? 0.733333333333\n",
      "how many are correct in Testing? 0.75\n",
      "Iter 3982\n",
      "how many are correct in training? 0.836363636364\n",
      "how many are correct in validataion? 0.733333333333\n",
      "how many are correct in Testing? 0.75\n",
      "Iter 3982\n",
      "how many are correct in training? 0.822727272727\n",
      "how many are correct in validataion? 0.733333333333\n",
      "how many are correct in Testing? 0.75\n",
      "Iter 3982\n",
      "how many are correct in training? 0.758181818182\n",
      "how many are correct in validataion? 0.733333333333\n",
      "how many are correct in Testing? 0.75\n",
      "Iter 3982\n",
      "how many are correct in training? 0.713636363636\n",
      "how many are correct in validataion? 0.733333333333\n",
      "how many are correct in Testing? 0.75\n"
     ]
    }
   ],
   "source": [
    "# repeat above with different sizes in the data\n",
    "data_size = np.asarray([55, 110, 165, 220, 275, 330])\n",
    "\n",
    "#MFMFMF # validation scores\n",
    "male_data= gender_train[np.r_[0:110, 220:330, 440:550]]\n",
    "female_data= gender_train[np.r_[110:220, 330:440, 550:]]\n",
    "scores = np.zeros_like(data_size, dtype=float)\n",
    "valid_scores = np.zeros_like(scores)\n",
    "other_6_scores = np.zeros_like(scores)\n",
    "for i, amount in enumerate(data_size):\n",
    "    x = np.vstack((male_data[:amount], female_data[:amount]))\n",
    "    theta0 = np.zeros((32*32 +1))\n",
    "    theta = grad_descent(f, df, gender_train, gender_train_y, theta0, 0.000002)\n",
    "    \n",
    "    pred = np.hstack( (np.ones(( amount*2, 1)), x ))\n",
    "    preds = np.dot(pred, theta)\n",
    "    preds_binary= np.zeros_like(preds)\n",
    "    preds_binary[preds>0.5]=1\n",
    "    y1 = np.zeros(amount)\n",
    "    y2 = np.ones(amount)\n",
    "    y = np.concatenate((y1, y2))\n",
    "    score = len(np.where(preds_binary==y)[0]) / float(amount)/2.\n",
    "    print (\"how many are correct in training?\"), score \n",
    "    scores[i] = score \n",
    "    \n",
    "    #validation\n",
    "    pred = np.hstack( (np.ones(( 60, 1)), valid_data ))\n",
    "    preds = np.dot(pred, theta)\n",
    "    #print preds\n",
    "    preds_binary= np.zeros_like(preds)\n",
    "    preds_binary[preds>0.5]=1\n",
    "    score = len(np.where(preds_binary==valid_y)[0]) / 60.\n",
    "    print (\"how many are correct in validataion?\"), score \n",
    "    valid_scores[i] = score\n",
    "    \n",
    "    #other 6 actors \n",
    "    pred = np.hstack( (np.ones(( 60, 1)), test_data ))\n",
    "\n",
    "    preds = np.dot(pred, theta)\n",
    "    #print preds\n",
    "    preds_binary= np.zeros_like(preds)\n",
    "    preds_binary[preds>0.5]=1\n",
    "    score = len(np.where(preds_binary==test_y)[0]) / 60.\n",
    "    print (\"how many are correct in Testing?\"), score \n",
    "    other_6_scores[i] = score\n",
    "    \n",
    "    #other 6 actors:\n",
    "    \n",
    "    #break"
   ]
  },
  {
   "cell_type": "code",
   "execution_count": 23,
   "metadata": {
    "collapsed": false
   },
   "outputs": [
    {
     "name": "stdout",
     "output_type": "stream",
     "text": [
      "(60, 1024)\n"
     ]
    }
   ],
   "source": [
    "print valid_data.shape"
   ]
  },
  {
   "cell_type": "code",
   "execution_count": 25,
   "metadata": {
    "collapsed": false
   },
   "outputs": [
    {
     "name": "stdout",
     "output_type": "stream",
     "text": [
      "[ 55 110 165 220 275 330]\n",
      "[0.81818182 0.83181818 0.83636364 0.82272727 0.75818182 0.71363636]\n"
     ]
    },
    {
     "data": {
      "image/png": "[encoded data removed]",
      "text/plain": [
       "<matplotlib.figure.Figure at 0x7f2ab0c15e50>"
      ]
     },
     "metadata": {},
     "output_type": "display_data"
    }
   ],
   "source": [
    "print data_size\n",
    "\n",
    "print scores\n",
    "plt.scatter(data_size*2, scores, label =\"Scores on Training set\")\n",
    "plt.scatter(data_size*2, valid_scores, label = \"Scores on Validation Set\")\n",
    "plt.scatter(data_size*2, other_6_scores, label = \"Scores on New 6 Faces\")\n",
    "plt.savefig(\"overfitting.png\")\n",
    "plt.legend()\n",
    "plt.show()"
   ]
  },
  {
   "cell_type": "code",
   "execution_count": null,
   "metadata": {
    "collapsed": true
   },
   "outputs": [],
   "source": [
    "# "
   ]
  }
 ],
 "metadata": {
  "anaconda-cloud": {},
  "kernelspec": {
   "display_name": "Python [default]",
   "language": "python",
   "name": "python2"
  },
  "language_info": {
   "codemirror_mode": {
    "name": "ipython",
    "version": 2
   },
   "file_extension": ".py",
   "mimetype": "text/x-python",
   "name": "python",
   "nbconvert_exporter": "python",
   "pygments_lexer": "ipython2",
   "version": "2.7.12"
  }
 },
 "nbformat": 4,
 "nbformat_minor": 1
}
